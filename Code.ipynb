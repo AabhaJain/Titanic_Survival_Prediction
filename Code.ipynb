{
 "cells": [
  {
   "cell_type": "markdown",
   "id": "d223fa3f-c943-4244-bae4-26a2d55a83d9",
   "metadata": {
    "tags": []
   },
   "source": [
    "# Titanic Dataset Solution"
   ]
  },
  {
   "cell_type": "markdown",
   "id": "4e6de9b1-8f79-4d72-bdc1-bdc7e875aac9",
   "metadata": {},
   "source": [
    "There are two primary goals of this notebook.\n",
    "\n",
    "* Do an exploratory data analysis(EDA) of titanic dataset with visualizations.\n",
    "* Use machine learning classification models to predict the chances of a passengers' survival."
   ]
  },
  {
   "cell_type": "code",
   "execution_count": 166,
   "id": "ac142189-848d-4d4c-b347-e5a416def375",
   "metadata": {
    "tags": []
   },
   "outputs": [],
   "source": [
    "import pandas as pd\n",
    "import numpy as np\n",
    "import matplotlib.pyplot as plt\n",
    "import seaborn as sns\n",
    "\n",
    "import warnings\n",
    "warnings.filterwarnings('ignore')"
   ]
  },
  {
   "cell_type": "code",
   "execution_count": 167,
   "id": "7fe3bb8e-f039-4f49-9c98-6bc62cb6773e",
   "metadata": {
    "tags": []
   },
   "outputs": [],
   "source": [
    "train_data = pd.read_csv(r\"C:\\Users\\aabha\\Downloads\\train.csv\")"
   ]
  },
  {
   "cell_type": "code",
   "execution_count": 168,
   "id": "cc43d20e-0d7e-4125-904f-2b38108b57f2",
   "metadata": {
    "tags": []
   },
   "outputs": [],
   "source": [
    "test_data = pd.read_csv(r\"C:\\Users\\aabha\\Downloads\\test.csv\")"
   ]
  },
  {
   "cell_type": "code",
   "execution_count": 169,
   "id": "4a5d6816-f000-468d-bba8-22435d14a4a4",
   "metadata": {
    "tags": []
   },
   "outputs": [
    {
     "data": {
      "text/html": [
       "<div>\n",
       "<style scoped>\n",
       "    .dataframe tbody tr th:only-of-type {\n",
       "        vertical-align: middle;\n",
       "    }\n",
       "\n",
       "    .dataframe tbody tr th {\n",
       "        vertical-align: top;\n",
       "    }\n",
       "\n",
       "    .dataframe thead th {\n",
       "        text-align: right;\n",
       "    }\n",
       "</style>\n",
       "<table border=\"1\" class=\"dataframe\">\n",
       "  <thead>\n",
       "    <tr style=\"text-align: right;\">\n",
       "      <th></th>\n",
       "      <th>PassengerId</th>\n",
       "      <th>Survived</th>\n",
       "      <th>Pclass</th>\n",
       "      <th>Name</th>\n",
       "      <th>Sex</th>\n",
       "      <th>Age</th>\n",
       "      <th>SibSp</th>\n",
       "      <th>Parch</th>\n",
       "      <th>Ticket</th>\n",
       "      <th>Fare</th>\n",
       "      <th>Cabin</th>\n",
       "      <th>Embarked</th>\n",
       "    </tr>\n",
       "  </thead>\n",
       "  <tbody>\n",
       "    <tr>\n",
       "      <th>0</th>\n",
       "      <td>1</td>\n",
       "      <td>0</td>\n",
       "      <td>3</td>\n",
       "      <td>Braund, Mr. Owen Harris</td>\n",
       "      <td>male</td>\n",
       "      <td>22.0</td>\n",
       "      <td>1</td>\n",
       "      <td>0</td>\n",
       "      <td>A/5 21171</td>\n",
       "      <td>7.2500</td>\n",
       "      <td>NaN</td>\n",
       "      <td>S</td>\n",
       "    </tr>\n",
       "    <tr>\n",
       "      <th>1</th>\n",
       "      <td>2</td>\n",
       "      <td>1</td>\n",
       "      <td>1</td>\n",
       "      <td>Cumings, Mrs. John Bradley (Florence Briggs Th...</td>\n",
       "      <td>female</td>\n",
       "      <td>38.0</td>\n",
       "      <td>1</td>\n",
       "      <td>0</td>\n",
       "      <td>PC 17599</td>\n",
       "      <td>71.2833</td>\n",
       "      <td>C85</td>\n",
       "      <td>C</td>\n",
       "    </tr>\n",
       "    <tr>\n",
       "      <th>2</th>\n",
       "      <td>3</td>\n",
       "      <td>1</td>\n",
       "      <td>3</td>\n",
       "      <td>Heikkinen, Miss. Laina</td>\n",
       "      <td>female</td>\n",
       "      <td>26.0</td>\n",
       "      <td>0</td>\n",
       "      <td>0</td>\n",
       "      <td>STON/O2. 3101282</td>\n",
       "      <td>7.9250</td>\n",
       "      <td>NaN</td>\n",
       "      <td>S</td>\n",
       "    </tr>\n",
       "    <tr>\n",
       "      <th>3</th>\n",
       "      <td>4</td>\n",
       "      <td>1</td>\n",
       "      <td>1</td>\n",
       "      <td>Futrelle, Mrs. Jacques Heath (Lily May Peel)</td>\n",
       "      <td>female</td>\n",
       "      <td>35.0</td>\n",
       "      <td>1</td>\n",
       "      <td>0</td>\n",
       "      <td>113803</td>\n",
       "      <td>53.1000</td>\n",
       "      <td>C123</td>\n",
       "      <td>S</td>\n",
       "    </tr>\n",
       "    <tr>\n",
       "      <th>4</th>\n",
       "      <td>5</td>\n",
       "      <td>0</td>\n",
       "      <td>3</td>\n",
       "      <td>Allen, Mr. William Henry</td>\n",
       "      <td>male</td>\n",
       "      <td>35.0</td>\n",
       "      <td>0</td>\n",
       "      <td>0</td>\n",
       "      <td>373450</td>\n",
       "      <td>8.0500</td>\n",
       "      <td>NaN</td>\n",
       "      <td>S</td>\n",
       "    </tr>\n",
       "  </tbody>\n",
       "</table>\n",
       "</div>"
      ],
      "text/plain": [
       "   PassengerId  Survived  Pclass  \\\n",
       "0            1         0       3   \n",
       "1            2         1       1   \n",
       "2            3         1       3   \n",
       "3            4         1       1   \n",
       "4            5         0       3   \n",
       "\n",
       "                                                Name     Sex   Age  SibSp  \\\n",
       "0                            Braund, Mr. Owen Harris    male  22.0      1   \n",
       "1  Cumings, Mrs. John Bradley (Florence Briggs Th...  female  38.0      1   \n",
       "2                             Heikkinen, Miss. Laina  female  26.0      0   \n",
       "3       Futrelle, Mrs. Jacques Heath (Lily May Peel)  female  35.0      1   \n",
       "4                           Allen, Mr. William Henry    male  35.0      0   \n",
       "\n",
       "   Parch            Ticket     Fare Cabin Embarked  \n",
       "0      0         A/5 21171   7.2500   NaN        S  \n",
       "1      0          PC 17599  71.2833   C85        C  \n",
       "2      0  STON/O2. 3101282   7.9250   NaN        S  \n",
       "3      0            113803  53.1000  C123        S  \n",
       "4      0            373450   8.0500   NaN        S  "
      ]
     },
     "execution_count": 169,
     "metadata": {},
     "output_type": "execute_result"
    }
   ],
   "source": [
    "train_data.head()"
   ]
  },
  {
   "cell_type": "code",
   "execution_count": 170,
   "id": "55a88db1-1958-4a8f-82f3-dcaaa5756227",
   "metadata": {
    "tags": []
   },
   "outputs": [
    {
     "data": {
      "text/plain": [
       "(891, 12)"
      ]
     },
     "execution_count": 170,
     "metadata": {},
     "output_type": "execute_result"
    }
   ],
   "source": [
    "train_data.shape"
   ]
  },
  {
   "cell_type": "code",
   "execution_count": 171,
   "id": "f6923f1b-46c7-4399-a409-041efb8f7257",
   "metadata": {
    "tags": []
   },
   "outputs": [
    {
     "data": {
      "text/html": [
       "<div>\n",
       "<style scoped>\n",
       "    .dataframe tbody tr th:only-of-type {\n",
       "        vertical-align: middle;\n",
       "    }\n",
       "\n",
       "    .dataframe tbody tr th {\n",
       "        vertical-align: top;\n",
       "    }\n",
       "\n",
       "    .dataframe thead th {\n",
       "        text-align: right;\n",
       "    }\n",
       "</style>\n",
       "<table border=\"1\" class=\"dataframe\">\n",
       "  <thead>\n",
       "    <tr style=\"text-align: right;\">\n",
       "      <th></th>\n",
       "      <th>PassengerId</th>\n",
       "      <th>Pclass</th>\n",
       "      <th>Name</th>\n",
       "      <th>Sex</th>\n",
       "      <th>Age</th>\n",
       "      <th>SibSp</th>\n",
       "      <th>Parch</th>\n",
       "      <th>Ticket</th>\n",
       "      <th>Fare</th>\n",
       "      <th>Cabin</th>\n",
       "      <th>Embarked</th>\n",
       "    </tr>\n",
       "  </thead>\n",
       "  <tbody>\n",
       "    <tr>\n",
       "      <th>0</th>\n",
       "      <td>892</td>\n",
       "      <td>3</td>\n",
       "      <td>Kelly, Mr. James</td>\n",
       "      <td>male</td>\n",
       "      <td>34.5</td>\n",
       "      <td>0</td>\n",
       "      <td>0</td>\n",
       "      <td>330911</td>\n",
       "      <td>7.8292</td>\n",
       "      <td>NaN</td>\n",
       "      <td>Q</td>\n",
       "    </tr>\n",
       "    <tr>\n",
       "      <th>1</th>\n",
       "      <td>893</td>\n",
       "      <td>3</td>\n",
       "      <td>Wilkes, Mrs. James (Ellen Needs)</td>\n",
       "      <td>female</td>\n",
       "      <td>47.0</td>\n",
       "      <td>1</td>\n",
       "      <td>0</td>\n",
       "      <td>363272</td>\n",
       "      <td>7.0000</td>\n",
       "      <td>NaN</td>\n",
       "      <td>S</td>\n",
       "    </tr>\n",
       "    <tr>\n",
       "      <th>2</th>\n",
       "      <td>894</td>\n",
       "      <td>2</td>\n",
       "      <td>Myles, Mr. Thomas Francis</td>\n",
       "      <td>male</td>\n",
       "      <td>62.0</td>\n",
       "      <td>0</td>\n",
       "      <td>0</td>\n",
       "      <td>240276</td>\n",
       "      <td>9.6875</td>\n",
       "      <td>NaN</td>\n",
       "      <td>Q</td>\n",
       "    </tr>\n",
       "    <tr>\n",
       "      <th>3</th>\n",
       "      <td>895</td>\n",
       "      <td>3</td>\n",
       "      <td>Wirz, Mr. Albert</td>\n",
       "      <td>male</td>\n",
       "      <td>27.0</td>\n",
       "      <td>0</td>\n",
       "      <td>0</td>\n",
       "      <td>315154</td>\n",
       "      <td>8.6625</td>\n",
       "      <td>NaN</td>\n",
       "      <td>S</td>\n",
       "    </tr>\n",
       "    <tr>\n",
       "      <th>4</th>\n",
       "      <td>896</td>\n",
       "      <td>3</td>\n",
       "      <td>Hirvonen, Mrs. Alexander (Helga E Lindqvist)</td>\n",
       "      <td>female</td>\n",
       "      <td>22.0</td>\n",
       "      <td>1</td>\n",
       "      <td>1</td>\n",
       "      <td>3101298</td>\n",
       "      <td>12.2875</td>\n",
       "      <td>NaN</td>\n",
       "      <td>S</td>\n",
       "    </tr>\n",
       "  </tbody>\n",
       "</table>\n",
       "</div>"
      ],
      "text/plain": [
       "   PassengerId  Pclass                                          Name     Sex  \\\n",
       "0          892       3                              Kelly, Mr. James    male   \n",
       "1          893       3              Wilkes, Mrs. James (Ellen Needs)  female   \n",
       "2          894       2                     Myles, Mr. Thomas Francis    male   \n",
       "3          895       3                              Wirz, Mr. Albert    male   \n",
       "4          896       3  Hirvonen, Mrs. Alexander (Helga E Lindqvist)  female   \n",
       "\n",
       "    Age  SibSp  Parch   Ticket     Fare Cabin Embarked  \n",
       "0  34.5      0      0   330911   7.8292   NaN        Q  \n",
       "1  47.0      1      0   363272   7.0000   NaN        S  \n",
       "2  62.0      0      0   240276   9.6875   NaN        Q  \n",
       "3  27.0      0      0   315154   8.6625   NaN        S  \n",
       "4  22.0      1      1  3101298  12.2875   NaN        S  "
      ]
     },
     "execution_count": 171,
     "metadata": {},
     "output_type": "execute_result"
    }
   ],
   "source": [
    "test_data.head()"
   ]
  },
  {
   "cell_type": "code",
   "execution_count": 172,
   "id": "fe359b33-6c91-4355-89cd-237673be1e22",
   "metadata": {
    "tags": []
   },
   "outputs": [
    {
     "name": "stdout",
     "output_type": "stream",
     "text": [
      "<class 'pandas.core.frame.DataFrame'>\n",
      "RangeIndex: 891 entries, 0 to 890\n",
      "Data columns (total 12 columns):\n",
      " #   Column       Non-Null Count  Dtype  \n",
      "---  ------       --------------  -----  \n",
      " 0   PassengerId  891 non-null    int64  \n",
      " 1   Survived     891 non-null    int64  \n",
      " 2   Pclass       891 non-null    int64  \n",
      " 3   Name         891 non-null    object \n",
      " 4   Sex          891 non-null    object \n",
      " 5   Age          714 non-null    float64\n",
      " 6   SibSp        891 non-null    int64  \n",
      " 7   Parch        891 non-null    int64  \n",
      " 8   Ticket       891 non-null    object \n",
      " 9   Fare         891 non-null    float64\n",
      " 10  Cabin        204 non-null    object \n",
      " 11  Embarked     889 non-null    object \n",
      "dtypes: float64(2), int64(5), object(5)\n",
      "memory usage: 83.7+ KB\n"
     ]
    }
   ],
   "source": [
    "train_data.info()"
   ]
  },
  {
   "cell_type": "code",
   "execution_count": 173,
   "id": "7ce426e0-7d09-4e73-be65-07538a6c7b73",
   "metadata": {
    "tags": []
   },
   "outputs": [
    {
     "name": "stdout",
     "output_type": "stream",
     "text": [
      "<class 'pandas.core.frame.DataFrame'>\n",
      "RangeIndex: 418 entries, 0 to 417\n",
      "Data columns (total 11 columns):\n",
      " #   Column       Non-Null Count  Dtype  \n",
      "---  ------       --------------  -----  \n",
      " 0   PassengerId  418 non-null    int64  \n",
      " 1   Pclass       418 non-null    int64  \n",
      " 2   Name         418 non-null    object \n",
      " 3   Sex          418 non-null    object \n",
      " 4   Age          332 non-null    float64\n",
      " 5   SibSp        418 non-null    int64  \n",
      " 6   Parch        418 non-null    int64  \n",
      " 7   Ticket       418 non-null    object \n",
      " 8   Fare         417 non-null    float64\n",
      " 9   Cabin        91 non-null     object \n",
      " 10  Embarked     418 non-null    object \n",
      "dtypes: float64(2), int64(4), object(5)\n",
      "memory usage: 36.1+ KB\n"
     ]
    }
   ],
   "source": [
    "test_data.info()"
   ]
  },
  {
   "cell_type": "code",
   "execution_count": 174,
   "id": "c57fb68e-217e-4e23-bc25-e7561a330166",
   "metadata": {
    "tags": []
   },
   "outputs": [
    {
     "data": {
      "text/plain": [
       "PassengerId      0\n",
       "Survived         0\n",
       "Pclass           0\n",
       "Name             0\n",
       "Sex              0\n",
       "Age            177\n",
       "SibSp            0\n",
       "Parch            0\n",
       "Ticket           0\n",
       "Fare             0\n",
       "Cabin          687\n",
       "Embarked         2\n",
       "dtype: int64"
      ]
     },
     "execution_count": 174,
     "metadata": {},
     "output_type": "execute_result"
    }
   ],
   "source": [
    "train_data.isnull().sum()"
   ]
  },
  {
   "cell_type": "code",
   "execution_count": 175,
   "id": "8565fb0f-2b14-4c5e-8bba-cf57031052c0",
   "metadata": {
    "tags": []
   },
   "outputs": [
    {
     "data": {
      "text/plain": [
       "PassengerId      0\n",
       "Pclass           0\n",
       "Name             0\n",
       "Sex              0\n",
       "Age             86\n",
       "SibSp            0\n",
       "Parch            0\n",
       "Ticket           0\n",
       "Fare             1\n",
       "Cabin          327\n",
       "Embarked         0\n",
       "dtype: int64"
      ]
     },
     "execution_count": 175,
     "metadata": {},
     "output_type": "execute_result"
    }
   ],
   "source": [
    "test_data.isnull().sum()"
   ]
  },
  {
   "cell_type": "markdown",
   "id": "c1b2f047-6420-4639-976c-6e215ff99854",
   "metadata": {
    "tags": []
   },
   "source": [
    "#  Dealing with missing value"
   ]
  },
  {
   "cell_type": "code",
   "execution_count": 176,
   "id": "cf03a0c3-8fb1-4dad-9bbd-dfaa36cc1aba",
   "metadata": {
    "tags": []
   },
   "outputs": [],
   "source": [
    "def missing_values(df):\n",
    "\n",
    "    total = df.isnull().sum().sort_values(ascending = False)\n",
    "    percent = round(total/len(df)*100,2)\n",
    "\n",
    "    return pd.concat([total, percent], axis = 1, keys = ('Total Missing Values', 'Percentage'))\n"
   ]
  },
  {
   "cell_type": "code",
   "execution_count": 177,
   "id": "02b162f4-bba1-4279-a2d0-6f91ca8cd76c",
   "metadata": {
    "tags": []
   },
   "outputs": [
    {
     "data": {
      "text/html": [
       "<div>\n",
       "<style scoped>\n",
       "    .dataframe tbody tr th:only-of-type {\n",
       "        vertical-align: middle;\n",
       "    }\n",
       "\n",
       "    .dataframe tbody tr th {\n",
       "        vertical-align: top;\n",
       "    }\n",
       "\n",
       "    .dataframe thead th {\n",
       "        text-align: right;\n",
       "    }\n",
       "</style>\n",
       "<table border=\"1\" class=\"dataframe\">\n",
       "  <thead>\n",
       "    <tr style=\"text-align: right;\">\n",
       "      <th></th>\n",
       "      <th>Total Missing Values</th>\n",
       "      <th>Percentage</th>\n",
       "    </tr>\n",
       "  </thead>\n",
       "  <tbody>\n",
       "    <tr>\n",
       "      <th>Cabin</th>\n",
       "      <td>687</td>\n",
       "      <td>77.10</td>\n",
       "    </tr>\n",
       "    <tr>\n",
       "      <th>Age</th>\n",
       "      <td>177</td>\n",
       "      <td>19.87</td>\n",
       "    </tr>\n",
       "    <tr>\n",
       "      <th>Embarked</th>\n",
       "      <td>2</td>\n",
       "      <td>0.22</td>\n",
       "    </tr>\n",
       "    <tr>\n",
       "      <th>PassengerId</th>\n",
       "      <td>0</td>\n",
       "      <td>0.00</td>\n",
       "    </tr>\n",
       "    <tr>\n",
       "      <th>Survived</th>\n",
       "      <td>0</td>\n",
       "      <td>0.00</td>\n",
       "    </tr>\n",
       "    <tr>\n",
       "      <th>Pclass</th>\n",
       "      <td>0</td>\n",
       "      <td>0.00</td>\n",
       "    </tr>\n",
       "    <tr>\n",
       "      <th>Name</th>\n",
       "      <td>0</td>\n",
       "      <td>0.00</td>\n",
       "    </tr>\n",
       "    <tr>\n",
       "      <th>Sex</th>\n",
       "      <td>0</td>\n",
       "      <td>0.00</td>\n",
       "    </tr>\n",
       "    <tr>\n",
       "      <th>SibSp</th>\n",
       "      <td>0</td>\n",
       "      <td>0.00</td>\n",
       "    </tr>\n",
       "    <tr>\n",
       "      <th>Parch</th>\n",
       "      <td>0</td>\n",
       "      <td>0.00</td>\n",
       "    </tr>\n",
       "    <tr>\n",
       "      <th>Ticket</th>\n",
       "      <td>0</td>\n",
       "      <td>0.00</td>\n",
       "    </tr>\n",
       "    <tr>\n",
       "      <th>Fare</th>\n",
       "      <td>0</td>\n",
       "      <td>0.00</td>\n",
       "    </tr>\n",
       "  </tbody>\n",
       "</table>\n",
       "</div>"
      ],
      "text/plain": [
       "             Total Missing Values  Percentage\n",
       "Cabin                         687       77.10\n",
       "Age                           177       19.87\n",
       "Embarked                        2        0.22\n",
       "PassengerId                     0        0.00\n",
       "Survived                        0        0.00\n",
       "Pclass                          0        0.00\n",
       "Name                            0        0.00\n",
       "Sex                             0        0.00\n",
       "SibSp                           0        0.00\n",
       "Parch                           0        0.00\n",
       "Ticket                          0        0.00\n",
       "Fare                            0        0.00"
      ]
     },
     "execution_count": 177,
     "metadata": {},
     "output_type": "execute_result"
    }
   ],
   "source": [
    "missing_values(train_data)"
   ]
  },
  {
   "cell_type": "code",
   "execution_count": 178,
   "id": "70df48ed-9928-4981-a017-5bff8f94a834",
   "metadata": {
    "tags": []
   },
   "outputs": [
    {
     "data": {
      "text/html": [
       "<div>\n",
       "<style scoped>\n",
       "    .dataframe tbody tr th:only-of-type {\n",
       "        vertical-align: middle;\n",
       "    }\n",
       "\n",
       "    .dataframe tbody tr th {\n",
       "        vertical-align: top;\n",
       "    }\n",
       "\n",
       "    .dataframe thead th {\n",
       "        text-align: right;\n",
       "    }\n",
       "</style>\n",
       "<table border=\"1\" class=\"dataframe\">\n",
       "  <thead>\n",
       "    <tr style=\"text-align: right;\">\n",
       "      <th></th>\n",
       "      <th>Total Missing Values</th>\n",
       "      <th>Percentage</th>\n",
       "    </tr>\n",
       "  </thead>\n",
       "  <tbody>\n",
       "    <tr>\n",
       "      <th>Cabin</th>\n",
       "      <td>327</td>\n",
       "      <td>78.23</td>\n",
       "    </tr>\n",
       "    <tr>\n",
       "      <th>Age</th>\n",
       "      <td>86</td>\n",
       "      <td>20.57</td>\n",
       "    </tr>\n",
       "    <tr>\n",
       "      <th>Fare</th>\n",
       "      <td>1</td>\n",
       "      <td>0.24</td>\n",
       "    </tr>\n",
       "    <tr>\n",
       "      <th>PassengerId</th>\n",
       "      <td>0</td>\n",
       "      <td>0.00</td>\n",
       "    </tr>\n",
       "    <tr>\n",
       "      <th>Pclass</th>\n",
       "      <td>0</td>\n",
       "      <td>0.00</td>\n",
       "    </tr>\n",
       "    <tr>\n",
       "      <th>Name</th>\n",
       "      <td>0</td>\n",
       "      <td>0.00</td>\n",
       "    </tr>\n",
       "    <tr>\n",
       "      <th>Sex</th>\n",
       "      <td>0</td>\n",
       "      <td>0.00</td>\n",
       "    </tr>\n",
       "    <tr>\n",
       "      <th>SibSp</th>\n",
       "      <td>0</td>\n",
       "      <td>0.00</td>\n",
       "    </tr>\n",
       "    <tr>\n",
       "      <th>Parch</th>\n",
       "      <td>0</td>\n",
       "      <td>0.00</td>\n",
       "    </tr>\n",
       "    <tr>\n",
       "      <th>Ticket</th>\n",
       "      <td>0</td>\n",
       "      <td>0.00</td>\n",
       "    </tr>\n",
       "    <tr>\n",
       "      <th>Embarked</th>\n",
       "      <td>0</td>\n",
       "      <td>0.00</td>\n",
       "    </tr>\n",
       "  </tbody>\n",
       "</table>\n",
       "</div>"
      ],
      "text/plain": [
       "             Total Missing Values  Percentage\n",
       "Cabin                         327       78.23\n",
       "Age                            86       20.57\n",
       "Fare                            1        0.24\n",
       "PassengerId                     0        0.00\n",
       "Pclass                          0        0.00\n",
       "Name                            0        0.00\n",
       "Sex                             0        0.00\n",
       "SibSp                           0        0.00\n",
       "Parch                           0        0.00\n",
       "Ticket                          0        0.00\n",
       "Embarked                        0        0.00"
      ]
     },
     "execution_count": 178,
     "metadata": {},
     "output_type": "execute_result"
    }
   ],
   "source": [
    "missing_values(test_data)"
   ]
  },
  {
   "cell_type": "markdown",
   "id": "eb0a6dcd-01c9-4e85-aff6-e0499683cbf4",
   "metadata": {},
   "source": [
    "# Embarked Feature"
   ]
  },
  {
   "cell_type": "code",
   "execution_count": 179,
   "id": "c03a7128-719c-478b-9891-073a40b02cc7",
   "metadata": {
    "tags": []
   },
   "outputs": [
    {
     "data": {
      "text/plain": [
       "S    644\n",
       "C    168\n",
       "Q     77\n",
       "Name: Embarked, dtype: int64"
      ]
     },
     "execution_count": 179,
     "metadata": {},
     "output_type": "execute_result"
    }
   ],
   "source": [
    "train_data['Embarked'].value_counts()"
   ]
  },
  {
   "cell_type": "code",
   "execution_count": 180,
   "id": "42dd1bba-8b6a-472f-a834-d90bbd847a15",
   "metadata": {
    "tags": []
   },
   "outputs": [
    {
     "data": {
      "text/html": [
       "<div>\n",
       "<style scoped>\n",
       "    .dataframe tbody tr th:only-of-type {\n",
       "        vertical-align: middle;\n",
       "    }\n",
       "\n",
       "    .dataframe tbody tr th {\n",
       "        vertical-align: top;\n",
       "    }\n",
       "\n",
       "    .dataframe thead th {\n",
       "        text-align: right;\n",
       "    }\n",
       "</style>\n",
       "<table border=\"1\" class=\"dataframe\">\n",
       "  <thead>\n",
       "    <tr style=\"text-align: right;\">\n",
       "      <th></th>\n",
       "      <th>PassengerId</th>\n",
       "      <th>Survived</th>\n",
       "      <th>Pclass</th>\n",
       "      <th>Name</th>\n",
       "      <th>Sex</th>\n",
       "      <th>Age</th>\n",
       "      <th>SibSp</th>\n",
       "      <th>Parch</th>\n",
       "      <th>Ticket</th>\n",
       "      <th>Fare</th>\n",
       "      <th>Cabin</th>\n",
       "      <th>Embarked</th>\n",
       "    </tr>\n",
       "  </thead>\n",
       "  <tbody>\n",
       "    <tr>\n",
       "      <th>61</th>\n",
       "      <td>62</td>\n",
       "      <td>1</td>\n",
       "      <td>1</td>\n",
       "      <td>Icard, Miss. Amelie</td>\n",
       "      <td>female</td>\n",
       "      <td>38.0</td>\n",
       "      <td>0</td>\n",
       "      <td>0</td>\n",
       "      <td>113572</td>\n",
       "      <td>80.0</td>\n",
       "      <td>B28</td>\n",
       "      <td>NaN</td>\n",
       "    </tr>\n",
       "    <tr>\n",
       "      <th>829</th>\n",
       "      <td>830</td>\n",
       "      <td>1</td>\n",
       "      <td>1</td>\n",
       "      <td>Stone, Mrs. George Nelson (Martha Evelyn)</td>\n",
       "      <td>female</td>\n",
       "      <td>62.0</td>\n",
       "      <td>0</td>\n",
       "      <td>0</td>\n",
       "      <td>113572</td>\n",
       "      <td>80.0</td>\n",
       "      <td>B28</td>\n",
       "      <td>NaN</td>\n",
       "    </tr>\n",
       "  </tbody>\n",
       "</table>\n",
       "</div>"
      ],
      "text/plain": [
       "     PassengerId  Survived  Pclass                                       Name  \\\n",
       "61            62         1       1                        Icard, Miss. Amelie   \n",
       "829          830         1       1  Stone, Mrs. George Nelson (Martha Evelyn)   \n",
       "\n",
       "        Sex   Age  SibSp  Parch  Ticket  Fare Cabin Embarked  \n",
       "61   female  38.0      0      0  113572  80.0   B28      NaN  \n",
       "829  female  62.0      0      0  113572  80.0   B28      NaN  "
      ]
     },
     "execution_count": 180,
     "metadata": {},
     "output_type": "execute_result"
    }
   ],
   "source": [
    "train_data[train_data['Embarked'].isnull()]"
   ]
  },
  {
   "cell_type": "markdown",
   "id": "10efaad1-9ccd-4089-beca-4b850c4a0216",
   "metadata": {
    "tags": []
   },
   "source": [
    "We try to find the Embarked values of these rows by looking at other independent variables values."
   ]
  },
  {
   "cell_type": "code",
   "execution_count": 181,
   "id": "57e35685-12f5-4a99-857c-96f2eb5d432d",
   "metadata": {
    "tags": []
   },
   "outputs": [
    {
     "data": {
      "text/plain": [
       "<Figure size 1000x600 with 0 Axes>"
      ]
     },
     "metadata": {},
     "output_type": "display_data"
    },
    {
     "data": {
      "image/png": "[encoded data removed]",
      "text/plain": [
       "<Figure size 1600x1000 with 2 Axes>"
      ]
     },
     "metadata": {},
     "output_type": "display_data"
    }
   ],
   "source": [
    "plt.figure(figsize = (10,6))\n",
    "\n",
    "fig , ax = plt.subplots(figsize = (16,10) ,ncols = 2)\n",
    "d1 = sns.boxplot(data = train_data, x = 'Embarked', y = 'Fare', hue = \"Pclass\", ax = ax[0]);\n",
    "\n",
    "d2 = sns.boxplot(data = test_data, x = 'Embarked', y = 'Fare', hue = 'Pclass', ax = ax[1]);"
   ]
  },
  {
   "cell_type": "markdown",
   "id": "156ea30a-8a99-4387-b534-f75906f8cffd",
   "metadata": {},
   "source": [
    "In both the training set and the test set, the average fare closest to $80 is observed for passengers who embarked at \"C\" and have a Pclass of 1. Therefore, we should fill in the missing Embarked values with \"C\"."
   ]
  },
  {
   "cell_type": "code",
   "execution_count": 182,
   "id": "e846cbb6-6cb2-4856-ba91-af22156a4f6f",
   "metadata": {
    "tags": []
   },
   "outputs": [],
   "source": [
    "train_data['Embarked'].fillna('C', inplace = True)"
   ]
  },
  {
   "cell_type": "code",
   "execution_count": 183,
   "id": "a39d0024-d01b-4e17-9edc-f50a0b454e24",
   "metadata": {
    "tags": []
   },
   "outputs": [
    {
     "data": {
      "text/plain": [
       "PassengerId      0\n",
       "Survived         0\n",
       "Pclass           0\n",
       "Name             0\n",
       "Sex              0\n",
       "Age            177\n",
       "SibSp            0\n",
       "Parch            0\n",
       "Ticket           0\n",
       "Fare             0\n",
       "Cabin          687\n",
       "Embarked         0\n",
       "dtype: int64"
      ]
     },
     "execution_count": 183,
     "metadata": {},
     "output_type": "execute_result"
    }
   ],
   "source": [
    "train_data.isnull().sum()"
   ]
  },
  {
   "cell_type": "markdown",
   "id": "bff23397-2450-4034-b57a-ffbf58eadc6f",
   "metadata": {},
   "source": [
    "# Cabin Feature"
   ]
  },
  {
   "cell_type": "markdown",
   "id": "a2f08564-cd96-4a95-9d4a-bdd48333476c",
   "metadata": {},
   "source": [
    "Approximately 77% of cabin data is missing from train data and 78% of cabin data is missing from test data."
   ]
  },
  {
   "cell_type": "code",
   "execution_count": 184,
   "id": "2a9e5d1e-ebb9-4b60-8279-d09dffc8252f",
   "metadata": {
    "tags": []
   },
   "outputs": [
    {
     "data": {
      "text/plain": [
       "B96 B98        4\n",
       "G6             4\n",
       "C23 C25 C27    4\n",
       "C22 C26        3\n",
       "F33            3\n",
       "              ..\n",
       "E34            1\n",
       "C7             1\n",
       "C54            1\n",
       "E36            1\n",
       "C148           1\n",
       "Name: Cabin, Length: 147, dtype: int64"
      ]
     },
     "execution_count": 184,
     "metadata": {},
     "output_type": "execute_result"
    }
   ],
   "source": [
    "train_data['Cabin'].value_counts()"
   ]
  },
  {
   "cell_type": "code",
   "execution_count": 185,
   "id": "e3c12d11-ea5a-4b67-bac7-29a379a4e68f",
   "metadata": {
    "tags": []
   },
   "outputs": [],
   "source": [
    "survivers = train_data['Survived']\n",
    "\n",
    "train_data.drop(['Survived'], axis = 1, inplace = True)"
   ]
  },
  {
   "cell_type": "code",
   "execution_count": 186,
   "id": "2ccd6116-2612-42bf-a371-909e847044fd",
   "metadata": {
    "tags": []
   },
   "outputs": [],
   "source": [
    "all_data = pd.concat([train_data, test_data], ignore_index = False)\n",
    "\n",
    "all_data['Cabin'].fillna(\"N\", inplace = True)"
   ]
  },
  {
   "cell_type": "code",
   "execution_count": 187,
   "id": "e932d8e3-220b-4ea4-9f91-91e348e34c42",
   "metadata": {
    "tags": []
   },
   "outputs": [
    {
     "data": {
      "text/plain": [
       "(1309, 11)"
      ]
     },
     "execution_count": 187,
     "metadata": {},
     "output_type": "execute_result"
    }
   ],
   "source": [
    "all_data.shape"
   ]
  },
  {
   "cell_type": "code",
   "execution_count": 188,
   "id": "0601d6f2-29db-4a37-bc6d-6d9d96a4721c",
   "metadata": {
    "tags": []
   },
   "outputs": [],
   "source": [
    "all_data.Cabin = [i[0] for i in all_data.Cabin]\n",
    "\n",
    "per = round((all_data.Cabin.value_counts()/len(all_data)).to_frame() , 2)"
   ]
  },
  {
   "cell_type": "code",
   "execution_count": 189,
   "id": "4dd843ef-7239-475f-8732-ead5cb2cc2a5",
   "metadata": {
    "tags": []
   },
   "outputs": [
    {
     "data": {
      "text/html": [
       "<div>\n",
       "<style scoped>\n",
       "    .dataframe tbody tr th:only-of-type {\n",
       "        vertical-align: middle;\n",
       "    }\n",
       "\n",
       "    .dataframe tbody tr th {\n",
       "        vertical-align: top;\n",
       "    }\n",
       "\n",
       "    .dataframe thead th {\n",
       "        text-align: right;\n",
       "    }\n",
       "</style>\n",
       "<table border=\"1\" class=\"dataframe\">\n",
       "  <thead>\n",
       "    <tr style=\"text-align: right;\">\n",
       "      <th></th>\n",
       "      <th>Cabin</th>\n",
       "    </tr>\n",
       "  </thead>\n",
       "  <tbody>\n",
       "    <tr>\n",
       "      <th>N</th>\n",
       "      <td>0.77</td>\n",
       "    </tr>\n",
       "    <tr>\n",
       "      <th>C</th>\n",
       "      <td>0.07</td>\n",
       "    </tr>\n",
       "    <tr>\n",
       "      <th>B</th>\n",
       "      <td>0.05</td>\n",
       "    </tr>\n",
       "    <tr>\n",
       "      <th>D</th>\n",
       "      <td>0.04</td>\n",
       "    </tr>\n",
       "    <tr>\n",
       "      <th>E</th>\n",
       "      <td>0.03</td>\n",
       "    </tr>\n",
       "    <tr>\n",
       "      <th>A</th>\n",
       "      <td>0.02</td>\n",
       "    </tr>\n",
       "    <tr>\n",
       "      <th>F</th>\n",
       "      <td>0.02</td>\n",
       "    </tr>\n",
       "    <tr>\n",
       "      <th>G</th>\n",
       "      <td>0.00</td>\n",
       "    </tr>\n",
       "    <tr>\n",
       "      <th>T</th>\n",
       "      <td>0.00</td>\n",
       "    </tr>\n",
       "  </tbody>\n",
       "</table>\n",
       "</div>"
      ],
      "text/plain": [
       "   Cabin\n",
       "N   0.77\n",
       "C   0.07\n",
       "B   0.05\n",
       "D   0.04\n",
       "E   0.03\n",
       "A   0.02\n",
       "F   0.02\n",
       "G   0.00\n",
       "T   0.00"
      ]
     },
     "execution_count": 189,
     "metadata": {},
     "output_type": "execute_result"
    }
   ],
   "source": [
    "per"
   ]
  },
  {
   "cell_type": "markdown",
   "id": "5cfe331d-9344-446d-bb7e-bcb23b5be581",
   "metadata": {},
   "source": [
    "We can use the average of the fare column and we can use python's groupby function to get the mean fare of each cabin letter."
   ]
  },
  {
   "cell_type": "code",
   "execution_count": 190,
   "id": "0c4eb226-16eb-4f2e-97f8-64fdf850f911",
   "metadata": {
    "tags": []
   },
   "outputs": [
    {
     "data": {
      "text/html": [
       "<div>\n",
       "<style scoped>\n",
       "    .dataframe tbody tr th:only-of-type {\n",
       "        vertical-align: middle;\n",
       "    }\n",
       "\n",
       "    .dataframe tbody tr th {\n",
       "        vertical-align: top;\n",
       "    }\n",
       "\n",
       "    .dataframe thead th {\n",
       "        text-align: right;\n",
       "    }\n",
       "</style>\n",
       "<table border=\"1\" class=\"dataframe\">\n",
       "  <thead>\n",
       "    <tr style=\"text-align: right;\">\n",
       "      <th></th>\n",
       "      <th>Cabin</th>\n",
       "      <th>Fare</th>\n",
       "    </tr>\n",
       "  </thead>\n",
       "  <tbody>\n",
       "    <tr>\n",
       "      <th>0</th>\n",
       "      <td>A</td>\n",
       "      <td>41.244314</td>\n",
       "    </tr>\n",
       "    <tr>\n",
       "      <th>1</th>\n",
       "      <td>B</td>\n",
       "      <td>122.383078</td>\n",
       "    </tr>\n",
       "    <tr>\n",
       "      <th>2</th>\n",
       "      <td>C</td>\n",
       "      <td>107.926598</td>\n",
       "    </tr>\n",
       "    <tr>\n",
       "      <th>3</th>\n",
       "      <td>D</td>\n",
       "      <td>53.007339</td>\n",
       "    </tr>\n",
       "    <tr>\n",
       "      <th>4</th>\n",
       "      <td>E</td>\n",
       "      <td>54.564634</td>\n",
       "    </tr>\n",
       "    <tr>\n",
       "      <th>5</th>\n",
       "      <td>F</td>\n",
       "      <td>18.079367</td>\n",
       "    </tr>\n",
       "    <tr>\n",
       "      <th>6</th>\n",
       "      <td>G</td>\n",
       "      <td>14.205000</td>\n",
       "    </tr>\n",
       "    <tr>\n",
       "      <th>7</th>\n",
       "      <td>N</td>\n",
       "      <td>19.132707</td>\n",
       "    </tr>\n",
       "    <tr>\n",
       "      <th>8</th>\n",
       "      <td>T</td>\n",
       "      <td>35.500000</td>\n",
       "    </tr>\n",
       "  </tbody>\n",
       "</table>\n",
       "</div>"
      ],
      "text/plain": [
       "  Cabin        Fare\n",
       "0     A   41.244314\n",
       "1     B  122.383078\n",
       "2     C  107.926598\n",
       "3     D   53.007339\n",
       "4     E   54.564634\n",
       "5     F   18.079367\n",
       "6     G   14.205000\n",
       "7     N   19.132707\n",
       "8     T   35.500000"
      ]
     },
     "execution_count": 190,
     "metadata": {},
     "output_type": "execute_result"
    }
   ],
   "source": [
    "all_data.groupby(['Cabin'])['Fare'].mean().reset_index()"
   ]
  },
  {
   "cell_type": "code",
   "execution_count": 191,
   "id": "322f6a33-0773-4200-836e-b442de5abe18",
   "metadata": {
    "tags": []
   },
   "outputs": [],
   "source": [
    "with_n = all_data[all_data['Cabin'] == 'N']\n",
    "without_n = all_data[all_data['Cabin'] != 'N']"
   ]
  },
  {
   "cell_type": "code",
   "execution_count": 192,
   "id": "06b49edb-82f3-42d7-96c2-befc8696934b",
   "metadata": {
    "tags": []
   },
   "outputs": [
    {
     "data": {
      "text/html": [
       "<div>\n",
       "<style scoped>\n",
       "    .dataframe tbody tr th:only-of-type {\n",
       "        vertical-align: middle;\n",
       "    }\n",
       "\n",
       "    .dataframe tbody tr th {\n",
       "        vertical-align: top;\n",
       "    }\n",
       "\n",
       "    .dataframe thead th {\n",
       "        text-align: right;\n",
       "    }\n",
       "</style>\n",
       "<table border=\"1\" class=\"dataframe\">\n",
       "  <thead>\n",
       "    <tr style=\"text-align: right;\">\n",
       "      <th></th>\n",
       "      <th>PassengerId</th>\n",
       "      <th>Pclass</th>\n",
       "      <th>Name</th>\n",
       "      <th>Sex</th>\n",
       "      <th>Age</th>\n",
       "      <th>SibSp</th>\n",
       "      <th>Parch</th>\n",
       "      <th>Ticket</th>\n",
       "      <th>Fare</th>\n",
       "      <th>Cabin</th>\n",
       "      <th>Embarked</th>\n",
       "    </tr>\n",
       "  </thead>\n",
       "  <tbody>\n",
       "  </tbody>\n",
       "</table>\n",
       "</div>"
      ],
      "text/plain": [
       "Empty DataFrame\n",
       "Columns: [PassengerId, Pclass, Name, Sex, Age, SibSp, Parch, Ticket, Fare, Cabin, Embarked]\n",
       "Index: []"
      ]
     },
     "execution_count": 192,
     "metadata": {},
     "output_type": "execute_result"
    }
   ],
   "source": [
    "with_n[with_n['Cabin'] == 'G']"
   ]
  },
  {
   "cell_type": "code",
   "execution_count": 193,
   "id": "4ee82dc3-da51-42a7-aae3-fdc96a96b59c",
   "metadata": {
    "tags": []
   },
   "outputs": [],
   "source": [
    "def cabin_estimator(i):\n",
    "\n",
    "    a = 0\n",
    "    if i<16:\n",
    "        a = \"G\"\n",
    "    elif i>=16 and i<27:\n",
    "        a = \"F\"\n",
    "    elif i>=27 and i<38:\n",
    "        a = \"T\"\n",
    "    elif i>=38 and i<47:\n",
    "        a = \"A\"\n",
    "    elif i>= 47 and i<53:\n",
    "        a = \"E\"\n",
    "    elif i>= 53 and i<54:\n",
    "        a = \"D\"\n",
    "    elif i>=54 and i<116:\n",
    "        a = 'C'\n",
    "    else:\n",
    "        a = \"B\"\n",
    "    return a"
   ]
  },
  {
   "cell_type": "code",
   "execution_count": 194,
   "id": "f9fa8437-8de2-4cac-b175-7a43773d2ec4",
   "metadata": {
    "tags": []
   },
   "outputs": [],
   "source": [
    "with_n['Cabin'] = with_n['Fare'].apply(lambda x : cabin_estimator(x))"
   ]
  },
  {
   "cell_type": "code",
   "execution_count": 195,
   "id": "b8347d2a-fee1-494d-85a7-3dad9b0760ce",
   "metadata": {
    "tags": []
   },
   "outputs": [],
   "source": [
    "all_data = pd.concat([with_n, without_n], axis=0)"
   ]
  },
  {
   "cell_type": "code",
   "execution_count": 196,
   "id": "53f823c7-20f3-47b1-9790-527bcc396f67",
   "metadata": {
    "tags": []
   },
   "outputs": [
    {
     "data": {
      "text/html": [
       "<div>\n",
       "<style scoped>\n",
       "    .dataframe tbody tr th:only-of-type {\n",
       "        vertical-align: middle;\n",
       "    }\n",
       "\n",
       "    .dataframe tbody tr th {\n",
       "        vertical-align: top;\n",
       "    }\n",
       "\n",
       "    .dataframe thead th {\n",
       "        text-align: right;\n",
       "    }\n",
       "</style>\n",
       "<table border=\"1\" class=\"dataframe\">\n",
       "  <thead>\n",
       "    <tr style=\"text-align: right;\">\n",
       "      <th></th>\n",
       "      <th>PassengerId</th>\n",
       "      <th>Pclass</th>\n",
       "      <th>Name</th>\n",
       "      <th>Sex</th>\n",
       "      <th>Age</th>\n",
       "      <th>SibSp</th>\n",
       "      <th>Parch</th>\n",
       "      <th>Ticket</th>\n",
       "      <th>Fare</th>\n",
       "      <th>Cabin</th>\n",
       "      <th>Embarked</th>\n",
       "    </tr>\n",
       "  </thead>\n",
       "  <tbody>\n",
       "    <tr>\n",
       "      <th>0</th>\n",
       "      <td>1</td>\n",
       "      <td>3</td>\n",
       "      <td>Braund, Mr. Owen Harris</td>\n",
       "      <td>male</td>\n",
       "      <td>22.0</td>\n",
       "      <td>1</td>\n",
       "      <td>0</td>\n",
       "      <td>A/5 21171</td>\n",
       "      <td>7.2500</td>\n",
       "      <td>G</td>\n",
       "      <td>S</td>\n",
       "    </tr>\n",
       "    <tr>\n",
       "      <th>2</th>\n",
       "      <td>3</td>\n",
       "      <td>3</td>\n",
       "      <td>Heikkinen, Miss. Laina</td>\n",
       "      <td>female</td>\n",
       "      <td>26.0</td>\n",
       "      <td>0</td>\n",
       "      <td>0</td>\n",
       "      <td>STON/O2. 3101282</td>\n",
       "      <td>7.9250</td>\n",
       "      <td>G</td>\n",
       "      <td>S</td>\n",
       "    </tr>\n",
       "    <tr>\n",
       "      <th>4</th>\n",
       "      <td>5</td>\n",
       "      <td>3</td>\n",
       "      <td>Allen, Mr. William Henry</td>\n",
       "      <td>male</td>\n",
       "      <td>35.0</td>\n",
       "      <td>0</td>\n",
       "      <td>0</td>\n",
       "      <td>373450</td>\n",
       "      <td>8.0500</td>\n",
       "      <td>G</td>\n",
       "      <td>S</td>\n",
       "    </tr>\n",
       "    <tr>\n",
       "      <th>5</th>\n",
       "      <td>6</td>\n",
       "      <td>3</td>\n",
       "      <td>Moran, Mr. James</td>\n",
       "      <td>male</td>\n",
       "      <td>NaN</td>\n",
       "      <td>0</td>\n",
       "      <td>0</td>\n",
       "      <td>330877</td>\n",
       "      <td>8.4583</td>\n",
       "      <td>G</td>\n",
       "      <td>Q</td>\n",
       "    </tr>\n",
       "    <tr>\n",
       "      <th>7</th>\n",
       "      <td>8</td>\n",
       "      <td>3</td>\n",
       "      <td>Palsson, Master. Gosta Leonard</td>\n",
       "      <td>male</td>\n",
       "      <td>2.0</td>\n",
       "      <td>3</td>\n",
       "      <td>1</td>\n",
       "      <td>349909</td>\n",
       "      <td>21.0750</td>\n",
       "      <td>F</td>\n",
       "      <td>S</td>\n",
       "    </tr>\n",
       "    <tr>\n",
       "      <th>...</th>\n",
       "      <td>...</td>\n",
       "      <td>...</td>\n",
       "      <td>...</td>\n",
       "      <td>...</td>\n",
       "      <td>...</td>\n",
       "      <td>...</td>\n",
       "      <td>...</td>\n",
       "      <td>...</td>\n",
       "      <td>...</td>\n",
       "      <td>...</td>\n",
       "      <td>...</td>\n",
       "    </tr>\n",
       "    <tr>\n",
       "      <th>404</th>\n",
       "      <td>1296</td>\n",
       "      <td>1</td>\n",
       "      <td>Frauenthal, Mr. Isaac Gerald</td>\n",
       "      <td>male</td>\n",
       "      <td>43.0</td>\n",
       "      <td>1</td>\n",
       "      <td>0</td>\n",
       "      <td>17765</td>\n",
       "      <td>27.7208</td>\n",
       "      <td>D</td>\n",
       "      <td>C</td>\n",
       "    </tr>\n",
       "    <tr>\n",
       "      <th>405</th>\n",
       "      <td>1297</td>\n",
       "      <td>2</td>\n",
       "      <td>Nourney, Mr. Alfred (Baron von Drachstedt\")\"</td>\n",
       "      <td>male</td>\n",
       "      <td>20.0</td>\n",
       "      <td>0</td>\n",
       "      <td>0</td>\n",
       "      <td>SC/PARIS 2166</td>\n",
       "      <td>13.8625</td>\n",
       "      <td>D</td>\n",
       "      <td>C</td>\n",
       "    </tr>\n",
       "    <tr>\n",
       "      <th>407</th>\n",
       "      <td>1299</td>\n",
       "      <td>1</td>\n",
       "      <td>Widener, Mr. George Dunton</td>\n",
       "      <td>male</td>\n",
       "      <td>50.0</td>\n",
       "      <td>1</td>\n",
       "      <td>1</td>\n",
       "      <td>113503</td>\n",
       "      <td>211.5000</td>\n",
       "      <td>C</td>\n",
       "      <td>C</td>\n",
       "    </tr>\n",
       "    <tr>\n",
       "      <th>411</th>\n",
       "      <td>1303</td>\n",
       "      <td>1</td>\n",
       "      <td>Minahan, Mrs. William Edward (Lillian E Thorpe)</td>\n",
       "      <td>female</td>\n",
       "      <td>37.0</td>\n",
       "      <td>1</td>\n",
       "      <td>0</td>\n",
       "      <td>19928</td>\n",
       "      <td>90.0000</td>\n",
       "      <td>C</td>\n",
       "      <td>Q</td>\n",
       "    </tr>\n",
       "    <tr>\n",
       "      <th>414</th>\n",
       "      <td>1306</td>\n",
       "      <td>1</td>\n",
       "      <td>Oliva y Ocana, Dona. Fermina</td>\n",
       "      <td>female</td>\n",
       "      <td>39.0</td>\n",
       "      <td>0</td>\n",
       "      <td>0</td>\n",
       "      <td>PC 17758</td>\n",
       "      <td>108.9000</td>\n",
       "      <td>C</td>\n",
       "      <td>C</td>\n",
       "    </tr>\n",
       "  </tbody>\n",
       "</table>\n",
       "<p>1309 rows × 11 columns</p>\n",
       "</div>"
      ],
      "text/plain": [
       "     PassengerId  Pclass                                             Name  \\\n",
       "0              1       3                          Braund, Mr. Owen Harris   \n",
       "2              3       3                           Heikkinen, Miss. Laina   \n",
       "4              5       3                         Allen, Mr. William Henry   \n",
       "5              6       3                                 Moran, Mr. James   \n",
       "7              8       3                   Palsson, Master. Gosta Leonard   \n",
       "..           ...     ...                                              ...   \n",
       "404         1296       1                     Frauenthal, Mr. Isaac Gerald   \n",
       "405         1297       2     Nourney, Mr. Alfred (Baron von Drachstedt\")\"   \n",
       "407         1299       1                       Widener, Mr. George Dunton   \n",
       "411         1303       1  Minahan, Mrs. William Edward (Lillian E Thorpe)   \n",
       "414         1306       1                     Oliva y Ocana, Dona. Fermina   \n",
       "\n",
       "        Sex   Age  SibSp  Parch            Ticket      Fare Cabin Embarked  \n",
       "0      male  22.0      1      0         A/5 21171    7.2500     G        S  \n",
       "2    female  26.0      0      0  STON/O2. 3101282    7.9250     G        S  \n",
       "4      male  35.0      0      0            373450    8.0500     G        S  \n",
       "5      male   NaN      0      0            330877    8.4583     G        Q  \n",
       "7      male   2.0      3      1            349909   21.0750     F        S  \n",
       "..      ...   ...    ...    ...               ...       ...   ...      ...  \n",
       "404    male  43.0      1      0             17765   27.7208     D        C  \n",
       "405    male  20.0      0      0     SC/PARIS 2166   13.8625     D        C  \n",
       "407    male  50.0      1      1            113503  211.5000     C        C  \n",
       "411  female  37.0      1      0             19928   90.0000     C        Q  \n",
       "414  female  39.0      0      0          PC 17758  108.9000     C        C  \n",
       "\n",
       "[1309 rows x 11 columns]"
      ]
     },
     "execution_count": 196,
     "metadata": {},
     "output_type": "execute_result"
    }
   ],
   "source": [
    "all_data"
   ]
  },
  {
   "cell_type": "code",
   "execution_count": 197,
   "id": "37cf0840-46b5-469b-b89b-58b07bb78d03",
   "metadata": {},
   "outputs": [
    {
     "data": {
      "text/plain": [
       "PassengerId      0\n",
       "Pclass           0\n",
       "Name             0\n",
       "Sex              0\n",
       "Age            263\n",
       "SibSp            0\n",
       "Parch            0\n",
       "Ticket           0\n",
       "Fare             1\n",
       "Cabin            0\n",
       "Embarked         0\n",
       "dtype: int64"
      ]
     },
     "execution_count": 197,
     "metadata": {},
     "output_type": "execute_result"
    }
   ],
   "source": [
    "all_data.isnull().sum()"
   ]
  },
  {
   "cell_type": "code",
   "execution_count": 198,
   "id": "a4515d2a-7518-4804-8938-60126a5f681f",
   "metadata": {},
   "outputs": [
    {
     "data": {
      "text/plain": [
       "(1309, 11)"
      ]
     },
     "execution_count": 198,
     "metadata": {},
     "output_type": "execute_result"
    }
   ],
   "source": [
    "all_data.shape"
   ]
  },
  {
   "cell_type": "code",
   "execution_count": 199,
   "id": "8edb23f1-daea-487e-bdeb-028b9eba4a83",
   "metadata": {
    "tags": []
   },
   "outputs": [],
   "source": [
    "all_data.sort_values(by = 'PassengerId', inplace = True)"
   ]
  },
  {
   "cell_type": "code",
   "execution_count": 200,
   "id": "0fd8f47c-86b1-49bf-9c56-c5ec1183384d",
   "metadata": {},
   "outputs": [],
   "source": [
    "train_data = all_data[0:891]\n",
    "train_data['Survived'] = survivers\n",
    "\n",
    "test_data = all_data[891:]"
   ]
  },
  {
   "cell_type": "code",
   "execution_count": 201,
   "id": "87045b6e-bda9-407d-82c7-a877cbc1470a",
   "metadata": {
    "tags": []
   },
   "outputs": [
    {
     "data": {
      "text/plain": [
       "(891, 12)"
      ]
     },
     "execution_count": 201,
     "metadata": {},
     "output_type": "execute_result"
    }
   ],
   "source": [
    "train_data.shape"
   ]
  },
  {
   "cell_type": "code",
   "execution_count": 202,
   "id": "7866a5d4-fda5-4552-a9f9-27120307f793",
   "metadata": {
    "tags": []
   },
   "outputs": [
    {
     "data": {
      "text/plain": [
       "(418, 11)"
      ]
     },
     "execution_count": 202,
     "metadata": {},
     "output_type": "execute_result"
    }
   ],
   "source": [
    "test_data.shape"
   ]
  },
  {
   "cell_type": "markdown",
   "id": "d166fd03-fe3c-4e98-9940-335830503bed",
   "metadata": {},
   "source": [
    "# Fare"
   ]
  },
  {
   "cell_type": "code",
   "execution_count": 203,
   "id": "5687c817-1e6b-4d89-9eee-799d7f9158c6",
   "metadata": {
    "tags": []
   },
   "outputs": [
    {
     "data": {
      "text/html": [
       "<div>\n",
       "<style scoped>\n",
       "    .dataframe tbody tr th:only-of-type {\n",
       "        vertical-align: middle;\n",
       "    }\n",
       "\n",
       "    .dataframe tbody tr th {\n",
       "        vertical-align: top;\n",
       "    }\n",
       "\n",
       "    .dataframe thead th {\n",
       "        text-align: right;\n",
       "    }\n",
       "</style>\n",
       "<table border=\"1\" class=\"dataframe\">\n",
       "  <thead>\n",
       "    <tr style=\"text-align: right;\">\n",
       "      <th></th>\n",
       "      <th>PassengerId</th>\n",
       "      <th>Pclass</th>\n",
       "      <th>Name</th>\n",
       "      <th>Sex</th>\n",
       "      <th>Age</th>\n",
       "      <th>SibSp</th>\n",
       "      <th>Parch</th>\n",
       "      <th>Ticket</th>\n",
       "      <th>Fare</th>\n",
       "      <th>Cabin</th>\n",
       "      <th>Embarked</th>\n",
       "    </tr>\n",
       "  </thead>\n",
       "  <tbody>\n",
       "    <tr>\n",
       "      <th>152</th>\n",
       "      <td>1044</td>\n",
       "      <td>3</td>\n",
       "      <td>Storey, Mr. Thomas</td>\n",
       "      <td>male</td>\n",
       "      <td>60.5</td>\n",
       "      <td>0</td>\n",
       "      <td>0</td>\n",
       "      <td>3701</td>\n",
       "      <td>NaN</td>\n",
       "      <td>B</td>\n",
       "      <td>S</td>\n",
       "    </tr>\n",
       "  </tbody>\n",
       "</table>\n",
       "</div>"
      ],
      "text/plain": [
       "     PassengerId  Pclass                Name   Sex   Age  SibSp  Parch Ticket  \\\n",
       "152         1044       3  Storey, Mr. Thomas  male  60.5      0      0   3701   \n",
       "\n",
       "     Fare Cabin Embarked  \n",
       "152   NaN     B        S  "
      ]
     },
     "execution_count": 203,
     "metadata": {},
     "output_type": "execute_result"
    }
   ],
   "source": [
    "test_data[test_data['Fare'].isnull()]"
   ]
  },
  {
   "cell_type": "code",
   "execution_count": 204,
   "id": "1926efd7-9668-4c80-bd33-b7f056fc790d",
   "metadata": {
    "tags": []
   },
   "outputs": [],
   "source": [
    "a = test_data[(test_data['Pclass'] == 3) & (test_data['Embarked'] == 'S') & (test_data['Sex'] == 'male')]\n",
    "fare = a['Fare'].mean()\n",
    "\n",
    "test_data['Fare'].fillna(fare, inplace = True)"
   ]
  },
  {
   "cell_type": "code",
   "execution_count": 205,
   "id": "24c84720-5c1b-452e-9afe-e19cf252a2c7",
   "metadata": {
    "tags": []
   },
   "outputs": [
    {
     "data": {
      "text/plain": [
       "0"
      ]
     },
     "execution_count": 205,
     "metadata": {},
     "output_type": "execute_result"
    }
   ],
   "source": [
    "test_data['Fare'].isnull().sum()"
   ]
  },
  {
   "cell_type": "code",
   "execution_count": 206,
   "id": "a125c9c4-0780-4418-94bb-8d3e38fd550d",
   "metadata": {
    "tags": []
   },
   "outputs": [
    {
     "data": {
      "text/plain": [
       "PassengerId     0\n",
       "Pclass          0\n",
       "Name            0\n",
       "Sex             0\n",
       "Age            86\n",
       "SibSp           0\n",
       "Parch           0\n",
       "Ticket          0\n",
       "Fare            0\n",
       "Cabin           0\n",
       "Embarked        0\n",
       "dtype: int64"
      ]
     },
     "execution_count": 206,
     "metadata": {},
     "output_type": "execute_result"
    }
   ],
   "source": [
    "test_data.isnull().sum()"
   ]
  },
  {
   "cell_type": "markdown",
   "id": "f33f2b49-2a78-45ae-9b3d-b84d589e4b17",
   "metadata": {},
   "source": [
    "# Age"
   ]
  },
  {
   "cell_type": "code",
   "execution_count": 207,
   "id": "f211a839-2644-49ac-bc73-13f2ceaddf7a",
   "metadata": {
    "tags": []
   },
   "outputs": [
    {
     "data": {
      "text/plain": [
       "PassengerId      0\n",
       "Pclass           0\n",
       "Name             0\n",
       "Sex              0\n",
       "Age            177\n",
       "SibSp            0\n",
       "Parch            0\n",
       "Ticket           0\n",
       "Fare             0\n",
       "Cabin            0\n",
       "Embarked         0\n",
       "Survived         0\n",
       "dtype: int64"
      ]
     },
     "execution_count": 207,
     "metadata": {},
     "output_type": "execute_result"
    }
   ],
   "source": [
    "train_data.isnull().sum()"
   ]
  },
  {
   "cell_type": "markdown",
   "id": "539ac69e-0fbe-42c3-b6ab-0ebbce728784",
   "metadata": {},
   "source": [
    "\"Age\" is the one with most missing values, let's see it in terms of percentage.\n",
    "\n",
    "We will work on Age feature in feature engineering section."
   ]
  },
  {
   "cell_type": "markdown",
   "id": "0e3a0d43-4036-4c72-8853-8a04310e2ceb",
   "metadata": {},
   "source": [
    "# Visualization and Feature Relations"
   ]
  },
  {
   "cell_type": "markdown",
   "id": "767cf97b-075f-4126-9ffa-60ce238d2b13",
   "metadata": {},
   "source": [
    "# Gender and Survived"
   ]
  },
  {
   "cell_type": "code",
   "execution_count": 208,
   "id": "359f7480-468b-4db1-a386-c49cad7ad388",
   "metadata": {
    "tags": []
   },
   "outputs": [
    {
     "data": {
      "image/png": "[encoded data removed]",
      "text/plain": [
       "<Figure size 700x300 with 1 Axes>"
      ]
     },
     "metadata": {},
     "output_type": "display_data"
    }
   ],
   "source": [
    "plt.figure(figsize = (7,3))\n",
    "\n",
    "sns.set(style = \"darkgrid\")\n",
    "\n",
    "gar1 = sns.barplot(data = train_data, x = 'Sex', y = 'Survived', order = ['female', 'male'],\n",
    "            palette = ['Pink', 'Violet']).set(title = \"Survived/Non-Survived Passenger Gender Distribution\",\n",
    "                                              ylabel = \"% of Passenger Survived\")"
   ]
  },
  {
   "cell_type": "markdown",
   "id": "8bb7f286-a0b6-4574-b0d2-1575c1d2b5a8",
   "metadata": {},
   "source": [
    "This bar graph shows that ~76% of females survived while only ~19% of male survived, that means females survived more as compared to male."
   ]
  },
  {
   "cell_type": "code",
   "execution_count": 209,
   "id": "e0c8cd70-2a35-4643-b191-3cd1fb7a711b",
   "metadata": {
    "tags": []
   },
   "outputs": [
    {
     "data": {
      "text/plain": [
       "<matplotlib.legend.Legend at 0x2063a1ec9d0>"
      ]
     },
     "execution_count": 209,
     "metadata": {},
     "output_type": "execute_result"
    },
    {
     "data": {
      "image/png": "[encoded data removed]",
      "text/plain": [
       "<Figure size 700x500 with 1 Axes>"
      ]
     },
     "metadata": {},
     "output_type": "display_data"
    }
   ],
   "source": [
    "plt.figure(figsize = (7,5))\n",
    "\n",
    "sns.set(style = \"darkgrid\")\n",
    "\n",
    "gar1 = sns.countplot(data = train_data, x = 'Sex', hue = 'Survived',linewidth = 3,\n",
    "            palette = ['seagreen', 'orange']).set(title = \"Survived/Non-Survived Passenger - Gender Distribution\",\n",
    "                                              ylabel = \"count of Passenger Survived\")\n",
    "\n",
    "plt.legend(['Not-Survived' , 'Survived'])"
   ]
  },
  {
   "cell_type": "markdown",
   "id": "1517cd65-02c9-4971-9bdd-5207449755a4",
   "metadata": {},
   "source": [
    "# Pclass and Survived"
   ]
  },
  {
   "cell_type": "code",
   "execution_count": 210,
   "id": "b009be25-75d6-41ae-8307-2aca35b191ac",
   "metadata": {
    "tags": []
   },
   "outputs": [
    {
     "data": {
      "image/png": "[encoded data removed]",
      "text/plain": [
       "<Figure size 800x500 with 1 Axes>"
      ]
     },
     "metadata": {},
     "output_type": "display_data"
    }
   ],
   "source": [
    "plt.figure(figsize = (8,5))\n",
    "\n",
    "sns.set(style = \"darkgrid\")\n",
    "\n",
    "gar1 = sns.barplot(data = train_data, x = 'Pclass', y = 'Survived', order = [1,2,3],linewidth = 4,\n",
    "                  palette = ['Violet', 'lightblue', 'Brown']).set(title = \"Survived/Non-Survived Passenger Pclass Distribution\",\n",
    "                                              ylabel = \"% of Passenger Survived\")"
   ]
  },
  {
   "cell_type": "markdown",
   "id": "dae6bb2c-0747-4c2f-9950-3f3fa6970b46",
   "metadata": {},
   "source": [
    "This bargraph shows that Pclass = 1 survived more as compared to pclass = 2 and pclass = 3."
   ]
  },
  {
   "cell_type": "markdown",
   "id": "afcdf644-6534-407c-851f-aa1582933ec4",
   "metadata": {},
   "source": [
    "# Fare and Survived"
   ]
  },
  {
   "cell_type": "code",
   "execution_count": 211,
   "id": "a1570e57-4d21-4ae8-87cb-3bf1330e4767",
   "metadata": {
    "tags": []
   },
   "outputs": [
    {
     "data": {
      "text/plain": [
       "<matplotlib.legend.Legend at 0x20631527250>"
      ]
     },
     "execution_count": 211,
     "metadata": {},
     "output_type": "execute_result"
    },
    {
     "data": {
      "image/png": "[encoded data removed]",
      "text/plain": [
       "<Figure size 800x500 with 1 Axes>"
      ]
     },
     "metadata": {},
     "output_type": "display_data"
    }
   ],
   "source": [
    "plt.figure(figsize = (8,5))\n",
    "\n",
    "sns.set(style = \"darkgrid\")\n",
    "\n",
    "gar1 = sns.kdeplot(data = train_data, x = 'Fare', hue = 'Survived', palette = ['Green', 'Red'],\n",
    "                  fill = True).set(title = \"Survived/Non-Survived Passenger Fair Distribution\",\n",
    "                                              ylabel = \"% of Passenger Survived\")\n",
    "\n",
    "plt.legend(['Not-Survived','Survived'])"
   ]
  },
  {
   "cell_type": "code",
   "execution_count": 212,
   "id": "21b767dd-6061-4ae7-af60-866b1e99d972",
   "metadata": {
    "tags": []
   },
   "outputs": [
    {
     "data": {
      "text/html": [
       "<div>\n",
       "<style scoped>\n",
       "    .dataframe tbody tr th:only-of-type {\n",
       "        vertical-align: middle;\n",
       "    }\n",
       "\n",
       "    .dataframe tbody tr th {\n",
       "        vertical-align: top;\n",
       "    }\n",
       "\n",
       "    .dataframe thead th {\n",
       "        text-align: right;\n",
       "    }\n",
       "</style>\n",
       "<table border=\"1\" class=\"dataframe\">\n",
       "  <thead>\n",
       "    <tr style=\"text-align: right;\">\n",
       "      <th></th>\n",
       "      <th>PassengerId</th>\n",
       "      <th>Pclass</th>\n",
       "      <th>Name</th>\n",
       "      <th>Sex</th>\n",
       "      <th>Age</th>\n",
       "      <th>SibSp</th>\n",
       "      <th>Parch</th>\n",
       "      <th>Ticket</th>\n",
       "      <th>Fare</th>\n",
       "      <th>Cabin</th>\n",
       "      <th>Embarked</th>\n",
       "      <th>Survived</th>\n",
       "    </tr>\n",
       "  </thead>\n",
       "  <tbody>\n",
       "    <tr>\n",
       "      <th>258</th>\n",
       "      <td>259</td>\n",
       "      <td>1</td>\n",
       "      <td>Ward, Miss. Anna</td>\n",
       "      <td>female</td>\n",
       "      <td>35.0</td>\n",
       "      <td>0</td>\n",
       "      <td>0</td>\n",
       "      <td>PC 17755</td>\n",
       "      <td>512.3292</td>\n",
       "      <td>B</td>\n",
       "      <td>C</td>\n",
       "      <td>1</td>\n",
       "    </tr>\n",
       "    <tr>\n",
       "      <th>679</th>\n",
       "      <td>680</td>\n",
       "      <td>1</td>\n",
       "      <td>Cardeza, Mr. Thomas Drake Martinez</td>\n",
       "      <td>male</td>\n",
       "      <td>36.0</td>\n",
       "      <td>0</td>\n",
       "      <td>1</td>\n",
       "      <td>PC 17755</td>\n",
       "      <td>512.3292</td>\n",
       "      <td>B</td>\n",
       "      <td>C</td>\n",
       "      <td>1</td>\n",
       "    </tr>\n",
       "    <tr>\n",
       "      <th>737</th>\n",
       "      <td>738</td>\n",
       "      <td>1</td>\n",
       "      <td>Lesurer, Mr. Gustave J</td>\n",
       "      <td>male</td>\n",
       "      <td>35.0</td>\n",
       "      <td>0</td>\n",
       "      <td>0</td>\n",
       "      <td>PC 17755</td>\n",
       "      <td>512.3292</td>\n",
       "      <td>B</td>\n",
       "      <td>C</td>\n",
       "      <td>1</td>\n",
       "    </tr>\n",
       "  </tbody>\n",
       "</table>\n",
       "</div>"
      ],
      "text/plain": [
       "     PassengerId  Pclass                                Name     Sex   Age  \\\n",
       "258          259       1                    Ward, Miss. Anna  female  35.0   \n",
       "679          680       1  Cardeza, Mr. Thomas Drake Martinez    male  36.0   \n",
       "737          738       1              Lesurer, Mr. Gustave J    male  35.0   \n",
       "\n",
       "     SibSp  Parch    Ticket      Fare Cabin Embarked  Survived  \n",
       "258      0      0  PC 17755  512.3292     B        C         1  \n",
       "679      0      1  PC 17755  512.3292     B        C         1  \n",
       "737      0      0  PC 17755  512.3292     B        C         1  "
      ]
     },
     "execution_count": 212,
     "metadata": {},
     "output_type": "execute_result"
    }
   ],
   "source": [
    "train_data[train_data['Fare'] > 300]"
   ]
  },
  {
   "cell_type": "markdown",
   "id": "8fb54642-93dd-476d-9afe-43dfac4724f4",
   "metadata": {},
   "source": [
    "These are the outliers in terms of Fare having the fare of ~ 512. We can drop these rows."
   ]
  },
  {
   "cell_type": "markdown",
   "id": "3f4e252c-8685-4474-8c92-d24aa755db53",
   "metadata": {},
   "source": [
    "# Age and Survived"
   ]
  },
  {
   "cell_type": "code",
   "execution_count": 213,
   "id": "60f367cb-f8fe-4f1d-b12e-c6d0bef35209",
   "metadata": {
    "tags": []
   },
   "outputs": [
    {
     "data": {
      "text/plain": [
       "<matplotlib.legend.Legend at 0x20630760450>"
      ]
     },
     "execution_count": 213,
     "metadata": {},
     "output_type": "execute_result"
    },
    {
     "data": {
      "image/png": "[encoded data removed]",
      "text/plain": [
       "<Figure size 700x400 with 1 Axes>"
      ]
     },
     "metadata": {},
     "output_type": "display_data"
    }
   ],
   "source": [
    "plt.figure(figsize = (7,4))\n",
    "\n",
    "sns.set(style = \"darkgrid\")\n",
    "\n",
    "gar1 = sns.kdeplot(data = train_data, x = 'Age', hue = 'Survived', palette = ['Green', 'Red'],\n",
    "                  fill = True).set(title = \"Survived/Non-Survived Passenger Age Distribution\",\n",
    "                                              ylabel = \"% of Passenger Survived\")\n",
    "\n",
    "plt.legend(['Not-Survived','Survived'])"
   ]
  },
  {
   "cell_type": "markdown",
   "id": "378ccb35-9145-44c1-8c71-cc6398916666",
   "metadata": {},
   "source": [
    "There is nothing extra ordinary in the graph, everything looks fine."
   ]
  },
  {
   "cell_type": "markdown",
   "id": "daab4be3-c6dd-429e-8a02-399dd0583538",
   "metadata": {},
   "source": [
    "# Survived by Sex and Age"
   ]
  },
  {
   "cell_type": "code",
   "execution_count": 214,
   "id": "ef30647c-0c74-4133-9346-2345d0b72a7b",
   "metadata": {
    "tags": []
   },
   "outputs": [
    {
     "data": {
      "image/png": "[encoded data removed]",
      "text/plain": [
       "<Figure size 800x600 with 1 Axes>"
      ]
     },
     "metadata": {},
     "output_type": "display_data"
    }
   ],
   "source": [
    "plt.figure(figsize = (8,6))\n",
    "\n",
    "sns.set(style = \"darkgrid\")\n",
    "\n",
    "gar1 = sns.barplot(data = train_data, x = 'Sex', y = 'Age', hue = 'Survived', palette = ['Pink', 'lightblue'],\n",
    "                  fill = True).set(title = \"Survived/Non-Survived Passenger Age Distribution\",\n",
    "                                              ylabel = \"% of Passenger Survived\")\n"
   ]
  },
  {
   "cell_type": "markdown",
   "id": "56aba714-4dfb-430f-a78f-28e90fadd968",
   "metadata": {},
   "source": [
    "# Statistical Analysis"
   ]
  },
  {
   "cell_type": "code",
   "execution_count": 215,
   "id": "8643a0d8-c1d4-45a8-ab66-eec4f0a7c9f4",
   "metadata": {
    "tags": []
   },
   "outputs": [
    {
     "data": {
      "text/plain": [
       "(891, 12)"
      ]
     },
     "execution_count": 215,
     "metadata": {},
     "output_type": "execute_result"
    }
   ],
   "source": [
    "train_data.shape"
   ]
  },
  {
   "cell_type": "code",
   "execution_count": 216,
   "id": "efc512f3-0773-4661-a154-d5bd37a89fae",
   "metadata": {
    "tags": []
   },
   "outputs": [],
   "source": [
    "train_data = train_data[train_data['Fare'] < 500]"
   ]
  },
  {
   "cell_type": "code",
   "execution_count": 217,
   "id": "98173daf-9bcb-4940-9f31-24b07c26ccba",
   "metadata": {
    "tags": []
   },
   "outputs": [
    {
     "data": {
      "text/plain": [
       "(888, 12)"
      ]
     },
     "execution_count": 217,
     "metadata": {},
     "output_type": "execute_result"
    }
   ],
   "source": [
    "train_data.shape"
   ]
  },
  {
   "cell_type": "code",
   "execution_count": 218,
   "id": "b811fa55-3af8-41e5-a36e-8818d072013c",
   "metadata": {
    "tags": []
   },
   "outputs": [],
   "source": [
    "train_data[\"Sex\"].replace({\"male\" : 1, \"female\" : 0}, inplace = True)\n",
    "test_data[\"Sex\"].replace({\"male\" : 1, \"female\" : 0}, inplace = True)"
   ]
  },
  {
   "cell_type": "code",
   "execution_count": 219,
   "id": "3c42d6d0-eae9-4d88-9807-d67b02f06bdc",
   "metadata": {
    "tags": []
   },
   "outputs": [
    {
     "data": {
      "text/html": [
       "<div>\n",
       "<style scoped>\n",
       "    .dataframe tbody tr th:only-of-type {\n",
       "        vertical-align: middle;\n",
       "    }\n",
       "\n",
       "    .dataframe tbody tr th {\n",
       "        vertical-align: top;\n",
       "    }\n",
       "\n",
       "    .dataframe thead th {\n",
       "        text-align: right;\n",
       "    }\n",
       "</style>\n",
       "<table border=\"1\" class=\"dataframe\">\n",
       "  <thead>\n",
       "    <tr style=\"text-align: right;\">\n",
       "      <th></th>\n",
       "      <th>PassengerId</th>\n",
       "      <th>Pclass</th>\n",
       "      <th>Sex</th>\n",
       "      <th>Age</th>\n",
       "      <th>SibSp</th>\n",
       "      <th>Parch</th>\n",
       "      <th>Fare</th>\n",
       "      <th>Survived</th>\n",
       "    </tr>\n",
       "  </thead>\n",
       "  <tbody>\n",
       "    <tr>\n",
       "      <th>count</th>\n",
       "      <td>888.000000</td>\n",
       "      <td>888.000000</td>\n",
       "      <td>888.000000</td>\n",
       "      <td>711.000000</td>\n",
       "      <td>888.000000</td>\n",
       "      <td>888.000000</td>\n",
       "      <td>888.000000</td>\n",
       "      <td>888.000000</td>\n",
       "    </tr>\n",
       "    <tr>\n",
       "      <th>mean</th>\n",
       "      <td>445.618243</td>\n",
       "      <td>2.313063</td>\n",
       "      <td>0.647523</td>\n",
       "      <td>29.675345</td>\n",
       "      <td>0.524775</td>\n",
       "      <td>0.381757</td>\n",
       "      <td>30.582164</td>\n",
       "      <td>0.381757</td>\n",
       "    </tr>\n",
       "    <tr>\n",
       "      <th>std</th>\n",
       "      <td>257.405474</td>\n",
       "      <td>0.834007</td>\n",
       "      <td>0.478011</td>\n",
       "      <td>14.552495</td>\n",
       "      <td>1.104186</td>\n",
       "      <td>0.806949</td>\n",
       "      <td>41.176366</td>\n",
       "      <td>0.486091</td>\n",
       "    </tr>\n",
       "    <tr>\n",
       "      <th>min</th>\n",
       "      <td>1.000000</td>\n",
       "      <td>1.000000</td>\n",
       "      <td>0.000000</td>\n",
       "      <td>0.420000</td>\n",
       "      <td>0.000000</td>\n",
       "      <td>0.000000</td>\n",
       "      <td>0.000000</td>\n",
       "      <td>0.000000</td>\n",
       "    </tr>\n",
       "    <tr>\n",
       "      <th>25%</th>\n",
       "      <td>222.750000</td>\n",
       "      <td>2.000000</td>\n",
       "      <td>0.000000</td>\n",
       "      <td>20.000000</td>\n",
       "      <td>0.000000</td>\n",
       "      <td>0.000000</td>\n",
       "      <td>7.895800</td>\n",
       "      <td>0.000000</td>\n",
       "    </tr>\n",
       "    <tr>\n",
       "      <th>50%</th>\n",
       "      <td>445.500000</td>\n",
       "      <td>3.000000</td>\n",
       "      <td>1.000000</td>\n",
       "      <td>28.000000</td>\n",
       "      <td>0.000000</td>\n",
       "      <td>0.000000</td>\n",
       "      <td>14.454200</td>\n",
       "      <td>0.000000</td>\n",
       "    </tr>\n",
       "    <tr>\n",
       "      <th>75%</th>\n",
       "      <td>667.250000</td>\n",
       "      <td>3.000000</td>\n",
       "      <td>1.000000</td>\n",
       "      <td>38.000000</td>\n",
       "      <td>1.000000</td>\n",
       "      <td>0.000000</td>\n",
       "      <td>30.771850</td>\n",
       "      <td>1.000000</td>\n",
       "    </tr>\n",
       "    <tr>\n",
       "      <th>max</th>\n",
       "      <td>891.000000</td>\n",
       "      <td>3.000000</td>\n",
       "      <td>1.000000</td>\n",
       "      <td>80.000000</td>\n",
       "      <td>8.000000</td>\n",
       "      <td>6.000000</td>\n",
       "      <td>263.000000</td>\n",
       "      <td>1.000000</td>\n",
       "    </tr>\n",
       "  </tbody>\n",
       "</table>\n",
       "</div>"
      ],
      "text/plain": [
       "       PassengerId      Pclass         Sex         Age       SibSp  \\\n",
       "count   888.000000  888.000000  888.000000  711.000000  888.000000   \n",
       "mean    445.618243    2.313063    0.647523   29.675345    0.524775   \n",
       "std     257.405474    0.834007    0.478011   14.552495    1.104186   \n",
       "min       1.000000    1.000000    0.000000    0.420000    0.000000   \n",
       "25%     222.750000    2.000000    0.000000   20.000000    0.000000   \n",
       "50%     445.500000    3.000000    1.000000   28.000000    0.000000   \n",
       "75%     667.250000    3.000000    1.000000   38.000000    1.000000   \n",
       "max     891.000000    3.000000    1.000000   80.000000    8.000000   \n",
       "\n",
       "            Parch        Fare    Survived  \n",
       "count  888.000000  888.000000  888.000000  \n",
       "mean     0.381757   30.582164    0.381757  \n",
       "std      0.806949   41.176366    0.486091  \n",
       "min      0.000000    0.000000    0.000000  \n",
       "25%      0.000000    7.895800    0.000000  \n",
       "50%      0.000000   14.454200    0.000000  \n",
       "75%      0.000000   30.771850    1.000000  \n",
       "max      6.000000  263.000000    1.000000  "
      ]
     },
     "execution_count": 219,
     "metadata": {},
     "output_type": "execute_result"
    }
   ],
   "source": [
    "train_data.describe()"
   ]
  },
  {
   "cell_type": "code",
   "execution_count": 220,
   "id": "78d1f417-dfbf-4e58-b08a-da18ab97eb18",
   "metadata": {
    "tags": []
   },
   "outputs": [
    {
     "data": {
      "text/html": [
       "<div>\n",
       "<style scoped>\n",
       "    .dataframe tbody tr th:only-of-type {\n",
       "        vertical-align: middle;\n",
       "    }\n",
       "\n",
       "    .dataframe tbody tr th {\n",
       "        vertical-align: top;\n",
       "    }\n",
       "\n",
       "    .dataframe thead th {\n",
       "        text-align: right;\n",
       "    }\n",
       "</style>\n",
       "<table border=\"1\" class=\"dataframe\">\n",
       "  <thead>\n",
       "    <tr style=\"text-align: right;\">\n",
       "      <th></th>\n",
       "      <th>PassengerId</th>\n",
       "      <th>Pclass</th>\n",
       "      <th>Age</th>\n",
       "      <th>SibSp</th>\n",
       "      <th>Parch</th>\n",
       "      <th>Fare</th>\n",
       "      <th>Survived</th>\n",
       "    </tr>\n",
       "    <tr>\n",
       "      <th>Sex</th>\n",
       "      <th></th>\n",
       "      <th></th>\n",
       "      <th></th>\n",
       "      <th></th>\n",
       "      <th></th>\n",
       "      <th></th>\n",
       "      <th></th>\n",
       "    </tr>\n",
       "  </thead>\n",
       "  <tbody>\n",
       "    <tr>\n",
       "      <th>0</th>\n",
       "      <td>431.578275</td>\n",
       "      <td>2.162939</td>\n",
       "      <td>27.888462</td>\n",
       "      <td>0.696486</td>\n",
       "      <td>0.651757</td>\n",
       "      <td>42.985091</td>\n",
       "      <td>0.741214</td>\n",
       "    </tr>\n",
       "    <tr>\n",
       "      <th>1</th>\n",
       "      <td>453.260870</td>\n",
       "      <td>2.394783</td>\n",
       "      <td>30.705477</td>\n",
       "      <td>0.431304</td>\n",
       "      <td>0.234783</td>\n",
       "      <td>23.830658</td>\n",
       "      <td>0.186087</td>\n",
       "    </tr>\n",
       "  </tbody>\n",
       "</table>\n",
       "</div>"
      ],
      "text/plain": [
       "     PassengerId    Pclass        Age     SibSp     Parch       Fare  Survived\n",
       "Sex                                                                           \n",
       "0     431.578275  2.162939  27.888462  0.696486  0.651757  42.985091  0.741214\n",
       "1     453.260870  2.394783  30.705477  0.431304  0.234783  23.830658  0.186087"
      ]
     },
     "execution_count": 220,
     "metadata": {},
     "output_type": "execute_result"
    }
   ],
   "source": [
    "train_data.groupby('Sex').mean()"
   ]
  },
  {
   "cell_type": "code",
   "execution_count": 221,
   "id": "927ecfe5-8dd0-4fce-a58a-a2c6fdfe8749",
   "metadata": {
    "tags": []
   },
   "outputs": [
    {
     "data": {
      "text/html": [
       "<div>\n",
       "<style scoped>\n",
       "    .dataframe tbody tr th:only-of-type {\n",
       "        vertical-align: middle;\n",
       "    }\n",
       "\n",
       "    .dataframe tbody tr th {\n",
       "        vertical-align: top;\n",
       "    }\n",
       "\n",
       "    .dataframe thead th {\n",
       "        text-align: right;\n",
       "    }\n",
       "</style>\n",
       "<table border=\"1\" class=\"dataframe\">\n",
       "  <thead>\n",
       "    <tr style=\"text-align: right;\">\n",
       "      <th></th>\n",
       "      <th>PassengerId</th>\n",
       "      <th>Sex</th>\n",
       "      <th>Age</th>\n",
       "      <th>SibSp</th>\n",
       "      <th>Parch</th>\n",
       "      <th>Fare</th>\n",
       "      <th>Survived</th>\n",
       "    </tr>\n",
       "    <tr>\n",
       "      <th>Pclass</th>\n",
       "      <th></th>\n",
       "      <th></th>\n",
       "      <th></th>\n",
       "      <th></th>\n",
       "      <th></th>\n",
       "      <th></th>\n",
       "      <th></th>\n",
       "    </tr>\n",
       "  </thead>\n",
       "  <tbody>\n",
       "    <tr>\n",
       "      <th>1</th>\n",
       "      <td>460.225352</td>\n",
       "      <td>0.563380</td>\n",
       "      <td>38.280984</td>\n",
       "      <td>0.422535</td>\n",
       "      <td>0.356808</td>\n",
       "      <td>78.124061</td>\n",
       "      <td>0.624413</td>\n",
       "    </tr>\n",
       "    <tr>\n",
       "      <th>2</th>\n",
       "      <td>445.956522</td>\n",
       "      <td>0.586957</td>\n",
       "      <td>29.877630</td>\n",
       "      <td>0.402174</td>\n",
       "      <td>0.380435</td>\n",
       "      <td>20.662183</td>\n",
       "      <td>0.472826</td>\n",
       "    </tr>\n",
       "    <tr>\n",
       "      <th>3</th>\n",
       "      <td>439.154786</td>\n",
       "      <td>0.706721</td>\n",
       "      <td>25.140620</td>\n",
       "      <td>0.615071</td>\n",
       "      <td>0.393075</td>\n",
       "      <td>13.675550</td>\n",
       "      <td>0.242363</td>\n",
       "    </tr>\n",
       "  </tbody>\n",
       "</table>\n",
       "</div>"
      ],
      "text/plain": [
       "        PassengerId       Sex        Age     SibSp     Parch       Fare  \\\n",
       "Pclass                                                                    \n",
       "1        460.225352  0.563380  38.280984  0.422535  0.356808  78.124061   \n",
       "2        445.956522  0.586957  29.877630  0.402174  0.380435  20.662183   \n",
       "3        439.154786  0.706721  25.140620  0.615071  0.393075  13.675550   \n",
       "\n",
       "        Survived  \n",
       "Pclass            \n",
       "1       0.624413  \n",
       "2       0.472826  \n",
       "3       0.242363  "
      ]
     },
     "execution_count": 221,
     "metadata": {},
     "output_type": "execute_result"
    }
   ],
   "source": [
    "train_data.groupby('Pclass').mean()"
   ]
  },
  {
   "cell_type": "code",
   "execution_count": 222,
   "id": "e8ebb6f3-5f9b-43f3-bc45-f75c3bbbc77c",
   "metadata": {
    "tags": []
   },
   "outputs": [
    {
     "data": {
      "text/html": [
       "<div>\n",
       "<style scoped>\n",
       "    .dataframe tbody tr th:only-of-type {\n",
       "        vertical-align: middle;\n",
       "    }\n",
       "\n",
       "    .dataframe tbody tr th {\n",
       "        vertical-align: top;\n",
       "    }\n",
       "\n",
       "    .dataframe thead th {\n",
       "        text-align: right;\n",
       "    }\n",
       "</style>\n",
       "<table border=\"1\" class=\"dataframe\">\n",
       "  <thead>\n",
       "    <tr style=\"text-align: right;\">\n",
       "      <th></th>\n",
       "      <th>PassengerId</th>\n",
       "      <th>Pclass</th>\n",
       "      <th>Sex</th>\n",
       "      <th>Age</th>\n",
       "      <th>SibSp</th>\n",
       "      <th>Parch</th>\n",
       "      <th>Fare</th>\n",
       "      <th>Survived</th>\n",
       "    </tr>\n",
       "    <tr>\n",
       "      <th>Embarked</th>\n",
       "      <th></th>\n",
       "      <th></th>\n",
       "      <th></th>\n",
       "      <th></th>\n",
       "      <th></th>\n",
       "      <th></th>\n",
       "      <th></th>\n",
       "      <th></th>\n",
       "    </tr>\n",
       "  </thead>\n",
       "  <tbody>\n",
       "    <tr>\n",
       "      <th>C</th>\n",
       "      <td>443.323353</td>\n",
       "      <td>1.892216</td>\n",
       "      <td>0.556886</td>\n",
       "      <td>31.007132</td>\n",
       "      <td>0.389222</td>\n",
       "      <td>0.359281</td>\n",
       "      <td>52.067716</td>\n",
       "      <td>0.550898</td>\n",
       "    </tr>\n",
       "    <tr>\n",
       "      <th>Q</th>\n",
       "      <td>417.896104</td>\n",
       "      <td>2.909091</td>\n",
       "      <td>0.532468</td>\n",
       "      <td>28.089286</td>\n",
       "      <td>0.428571</td>\n",
       "      <td>0.168831</td>\n",
       "      <td>13.276030</td>\n",
       "      <td>0.389610</td>\n",
       "    </tr>\n",
       "    <tr>\n",
       "      <th>S</th>\n",
       "      <td>449.527950</td>\n",
       "      <td>2.350932</td>\n",
       "      <td>0.684783</td>\n",
       "      <td>29.445397</td>\n",
       "      <td>0.571429</td>\n",
       "      <td>0.413043</td>\n",
       "      <td>27.079812</td>\n",
       "      <td>0.336957</td>\n",
       "    </tr>\n",
       "  </tbody>\n",
       "</table>\n",
       "</div>"
      ],
      "text/plain": [
       "          PassengerId    Pclass       Sex        Age     SibSp     Parch  \\\n",
       "Embarked                                                                   \n",
       "C          443.323353  1.892216  0.556886  31.007132  0.389222  0.359281   \n",
       "Q          417.896104  2.909091  0.532468  28.089286  0.428571  0.168831   \n",
       "S          449.527950  2.350932  0.684783  29.445397  0.571429  0.413043   \n",
       "\n",
       "               Fare  Survived  \n",
       "Embarked                       \n",
       "C         52.067716  0.550898  \n",
       "Q         13.276030  0.389610  \n",
       "S         27.079812  0.336957  "
      ]
     },
     "execution_count": 222,
     "metadata": {},
     "output_type": "execute_result"
    }
   ],
   "source": [
    "train_data.groupby('Embarked').mean()"
   ]
  },
  {
   "cell_type": "code",
   "execution_count": 223,
   "id": "64245ca8-f40d-4e05-8965-8c75b90ac609",
   "metadata": {
    "tags": []
   },
   "outputs": [
    {
     "data": {
      "text/html": [
       "<div>\n",
       "<style scoped>\n",
       "    .dataframe tbody tr th:only-of-type {\n",
       "        vertical-align: middle;\n",
       "    }\n",
       "\n",
       "    .dataframe tbody tr th {\n",
       "        vertical-align: top;\n",
       "    }\n",
       "\n",
       "    .dataframe thead th {\n",
       "        text-align: right;\n",
       "    }\n",
       "</style>\n",
       "<table border=\"1\" class=\"dataframe\">\n",
       "  <thead>\n",
       "    <tr style=\"text-align: right;\">\n",
       "      <th></th>\n",
       "      <th>PassengerId</th>\n",
       "      <th>Pclass</th>\n",
       "      <th>Sex</th>\n",
       "      <th>Age</th>\n",
       "      <th>SibSp</th>\n",
       "      <th>Parch</th>\n",
       "      <th>Fare</th>\n",
       "    </tr>\n",
       "    <tr>\n",
       "      <th>Survived</th>\n",
       "      <th></th>\n",
       "      <th></th>\n",
       "      <th></th>\n",
       "      <th></th>\n",
       "      <th></th>\n",
       "      <th></th>\n",
       "      <th></th>\n",
       "    </tr>\n",
       "  </thead>\n",
       "  <tbody>\n",
       "    <tr>\n",
       "      <th>0</th>\n",
       "      <td>447.016393</td>\n",
       "      <td>2.531876</td>\n",
       "      <td>0.852459</td>\n",
       "      <td>30.626179</td>\n",
       "      <td>0.553734</td>\n",
       "      <td>0.329690</td>\n",
       "      <td>22.117887</td>\n",
       "    </tr>\n",
       "    <tr>\n",
       "      <th>1</th>\n",
       "      <td>443.353982</td>\n",
       "      <td>1.958702</td>\n",
       "      <td>0.315634</td>\n",
       "      <td>28.270627</td>\n",
       "      <td>0.477876</td>\n",
       "      <td>0.466077</td>\n",
       "      <td>44.289799</td>\n",
       "    </tr>\n",
       "  </tbody>\n",
       "</table>\n",
       "</div>"
      ],
      "text/plain": [
       "          PassengerId    Pclass       Sex        Age     SibSp     Parch  \\\n",
       "Survived                                                                   \n",
       "0          447.016393  2.531876  0.852459  30.626179  0.553734  0.329690   \n",
       "1          443.353982  1.958702  0.315634  28.270627  0.477876  0.466077   \n",
       "\n",
       "               Fare  \n",
       "Survived             \n",
       "0         22.117887  \n",
       "1         44.289799  "
      ]
     },
     "execution_count": 223,
     "metadata": {},
     "output_type": "execute_result"
    }
   ],
   "source": [
    "train_data.groupby('Survived').mean()"
   ]
  },
  {
   "cell_type": "markdown",
   "id": "c8a1538b-1eed-4fb4-9861-e5a9fc1eced6",
   "metadata": {},
   "source": [
    "From this statistical analysis, we can conclude the following observations:\n",
    "\n",
    "* Train data consist of 888 rows and 12 columns.\n",
    "* ~74% of Female passenger survived while only ~18 % of male passenger survived.\n",
    "* ~62% of Pclass 1 survived while only ~24% of Pclass 3 is survived."
   ]
  },
  {
   "cell_type": "code",
   "execution_count": 224,
   "id": "0db716e5-9265-4d70-aa34-cf723074f7be",
   "metadata": {
    "tags": []
   },
   "outputs": [
    {
     "data": {
      "text/html": [
       "<div>\n",
       "<style scoped>\n",
       "    .dataframe tbody tr th:only-of-type {\n",
       "        vertical-align: middle;\n",
       "    }\n",
       "\n",
       "    .dataframe tbody tr th {\n",
       "        vertical-align: top;\n",
       "    }\n",
       "\n",
       "    .dataframe thead th {\n",
       "        text-align: right;\n",
       "    }\n",
       "</style>\n",
       "<table border=\"1\" class=\"dataframe\">\n",
       "  <thead>\n",
       "    <tr style=\"text-align: right;\">\n",
       "      <th></th>\n",
       "      <th>PassengerId</th>\n",
       "      <th>Pclass</th>\n",
       "      <th>Sex</th>\n",
       "      <th>Age</th>\n",
       "      <th>SibSp</th>\n",
       "      <th>Parch</th>\n",
       "      <th>Fare</th>\n",
       "      <th>Survived</th>\n",
       "    </tr>\n",
       "  </thead>\n",
       "  <tbody>\n",
       "    <tr>\n",
       "      <th>PassengerId</th>\n",
       "      <td>1.000000</td>\n",
       "      <td>-0.033005</td>\n",
       "      <td>0.040265</td>\n",
       "      <td>0.036181</td>\n",
       "      <td>-0.056929</td>\n",
       "      <td>-0.002223</td>\n",
       "      <td>-0.002046</td>\n",
       "      <td>-0.006916</td>\n",
       "    </tr>\n",
       "    <tr>\n",
       "      <th>Pclass</th>\n",
       "      <td>-0.033005</td>\n",
       "      <td>1.000000</td>\n",
       "      <td>0.132881</td>\n",
       "      <td>-0.368625</td>\n",
       "      <td>0.080937</td>\n",
       "      <td>0.018212</td>\n",
       "      <td>-0.604960</td>\n",
       "      <td>-0.334068</td>\n",
       "    </tr>\n",
       "    <tr>\n",
       "      <th>Sex</th>\n",
       "      <td>0.040265</td>\n",
       "      <td>0.132881</td>\n",
       "      <td>1.000000</td>\n",
       "      <td>0.093296</td>\n",
       "      <td>-0.114799</td>\n",
       "      <td>-0.247003</td>\n",
       "      <td>-0.222361</td>\n",
       "      <td>-0.545899</td>\n",
       "    </tr>\n",
       "    <tr>\n",
       "      <th>Age</th>\n",
       "      <td>0.036181</td>\n",
       "      <td>-0.368625</td>\n",
       "      <td>0.093296</td>\n",
       "      <td>1.000000</td>\n",
       "      <td>-0.307639</td>\n",
       "      <td>-0.189194</td>\n",
       "      <td>0.100396</td>\n",
       "      <td>-0.079472</td>\n",
       "    </tr>\n",
       "    <tr>\n",
       "      <th>SibSp</th>\n",
       "      <td>-0.056929</td>\n",
       "      <td>0.080937</td>\n",
       "      <td>-0.114799</td>\n",
       "      <td>-0.307639</td>\n",
       "      <td>1.000000</td>\n",
       "      <td>0.415141</td>\n",
       "      <td>0.211816</td>\n",
       "      <td>-0.033395</td>\n",
       "    </tr>\n",
       "    <tr>\n",
       "      <th>Parch</th>\n",
       "      <td>-0.002223</td>\n",
       "      <td>0.018212</td>\n",
       "      <td>-0.247003</td>\n",
       "      <td>-0.189194</td>\n",
       "      <td>0.415141</td>\n",
       "      <td>1.000000</td>\n",
       "      <td>0.263910</td>\n",
       "      <td>0.082157</td>\n",
       "    </tr>\n",
       "    <tr>\n",
       "      <th>Fare</th>\n",
       "      <td>-0.002046</td>\n",
       "      <td>-0.604960</td>\n",
       "      <td>-0.222361</td>\n",
       "      <td>0.100396</td>\n",
       "      <td>0.211816</td>\n",
       "      <td>0.263910</td>\n",
       "      <td>1.000000</td>\n",
       "      <td>0.261742</td>\n",
       "    </tr>\n",
       "    <tr>\n",
       "      <th>Survived</th>\n",
       "      <td>-0.006916</td>\n",
       "      <td>-0.334068</td>\n",
       "      <td>-0.545899</td>\n",
       "      <td>-0.079472</td>\n",
       "      <td>-0.033395</td>\n",
       "      <td>0.082157</td>\n",
       "      <td>0.261742</td>\n",
       "      <td>1.000000</td>\n",
       "    </tr>\n",
       "  </tbody>\n",
       "</table>\n",
       "</div>"
      ],
      "text/plain": [
       "             PassengerId    Pclass       Sex       Age     SibSp     Parch  \\\n",
       "PassengerId     1.000000 -0.033005  0.040265  0.036181 -0.056929 -0.002223   \n",
       "Pclass         -0.033005  1.000000  0.132881 -0.368625  0.080937  0.018212   \n",
       "Sex             0.040265  0.132881  1.000000  0.093296 -0.114799 -0.247003   \n",
       "Age             0.036181 -0.368625  0.093296  1.000000 -0.307639 -0.189194   \n",
       "SibSp          -0.056929  0.080937 -0.114799 -0.307639  1.000000  0.415141   \n",
       "Parch          -0.002223  0.018212 -0.247003 -0.189194  0.415141  1.000000   \n",
       "Fare           -0.002046 -0.604960 -0.222361  0.100396  0.211816  0.263910   \n",
       "Survived       -0.006916 -0.334068 -0.545899 -0.079472 -0.033395  0.082157   \n",
       "\n",
       "                 Fare  Survived  \n",
       "PassengerId -0.002046 -0.006916  \n",
       "Pclass      -0.604960 -0.334068  \n",
       "Sex         -0.222361 -0.545899  \n",
       "Age          0.100396 -0.079472  \n",
       "SibSp        0.211816 -0.033395  \n",
       "Parch        0.263910  0.082157  \n",
       "Fare         1.000000  0.261742  \n",
       "Survived     0.261742  1.000000  "
      ]
     },
     "execution_count": 224,
     "metadata": {},
     "output_type": "execute_result"
    }
   ],
   "source": [
    "train_data.corr()"
   ]
  },
  {
   "cell_type": "code",
   "execution_count": 225,
   "id": "b41bae12-47f0-42e3-8278-6c7e037615db",
   "metadata": {
    "tags": []
   },
   "outputs": [
    {
     "data": {
      "text/plain": [
       "<Axes: >"
      ]
     },
     "execution_count": 225,
     "metadata": {},
     "output_type": "execute_result"
    },
    {
     "data": {
      "image/png": "[encoded data removed]",
      "text/plain": [
       "<Figure size 800x500 with 2 Axes>"
      ]
     },
     "metadata": {},
     "output_type": "display_data"
    }
   ],
   "source": [
    "plt.figure(figsize = (8,5))\n",
    "\n",
    "sns.heatmap(data = train_data.corr(), annot = True , fmt = \".1f\", linewidth = 0.8, cmap = 'YlGnBu')"
   ]
  },
  {
   "cell_type": "markdown",
   "id": "c93ddd56-9f8f-465b-8fe1-7773d1a914fe",
   "metadata": {},
   "source": [
    "From this heat map, we can see Sex is the most correlated feature with Survived with correlation of around 0.5."
   ]
  },
  {
   "cell_type": "markdown",
   "id": "f2d2746a-c9e2-4563-8de7-28d10d99a313",
   "metadata": {},
   "source": [
    "Survival rate of Men and Women"
   ]
  },
  {
   "cell_type": "code",
   "execution_count": 226,
   "id": "babc43e6-1b8d-42e8-bafe-ace1730a8a6a",
   "metadata": {
    "tags": []
   },
   "outputs": [
    {
     "name": "stdout",
     "output_type": "stream",
     "text": [
      "The Survival rate for men is 0.18608695652173912\n",
      "The Survival rate for women is 0.7412140575079872\n",
      "Mean Difference between the survival rate of both men and women is around 0.5551271009862481 and 55.51 %\n"
     ]
    }
   ],
   "source": [
    "men = train_data[train_data['Sex'] == 1]['Survived'].mean()\n",
    "women = train_data[train_data['Sex'] == 0]['Survived'].mean()\n",
    "\n",
    "print(\"The Survival rate for men is\", men)\n",
    "print(\"The Survival rate for women is\",women)\n",
    "\n",
    "print(\"Mean Difference between the survival rate of both men and women is around\", women - men, \"and\", round((women - men)*100,2) ,\"%\")"
   ]
  },
  {
   "cell_type": "markdown",
   "id": "e332e431-cc63-485a-b9f5-6571d3475681",
   "metadata": {},
   "source": [
    "# Feature Engineering"
   ]
  },
  {
   "cell_type": "markdown",
   "id": "e666ff37-b275-42b4-9153-f0917628140d",
   "metadata": {},
   "source": [
    "we will try to get the title name like miss, mr. etc for all datasets"
   ]
  },
  {
   "cell_type": "code",
   "execution_count": 227,
   "id": "c5bbaf9e-1422-468b-8fc8-035a0c2f2279",
   "metadata": {},
   "outputs": [
    {
     "data": {
      "text/plain": [
       "0                                Braund, Mr. Owen Harris\n",
       "1      Cumings, Mrs. John Bradley (Florence Briggs Th...\n",
       "2                                 Heikkinen, Miss. Laina\n",
       "3           Futrelle, Mrs. Jacques Heath (Lily May Peel)\n",
       "4                               Allen, Mr. William Henry\n",
       "                             ...                        \n",
       "886                                Montvila, Rev. Juozas\n",
       "887                         Graham, Miss. Margaret Edith\n",
       "888             Johnston, Miss. Catherine Helen \"Carrie\"\n",
       "889                                Behr, Mr. Karl Howell\n",
       "890                                  Dooley, Mr. Patrick\n",
       "Name: Name, Length: 888, dtype: object"
      ]
     },
     "execution_count": 227,
     "metadata": {},
     "output_type": "execute_result"
    }
   ],
   "source": [
    "train_data['Name']"
   ]
  },
  {
   "cell_type": "code",
   "execution_count": 228,
   "id": "8e41ddac-83eb-4641-a8e4-6d4a01e7d2c2",
   "metadata": {
    "tags": []
   },
   "outputs": [],
   "source": [
    "a = ''\n",
    "def name_define(i):\n",
    "    if i < 20:\n",
    "        a = 'Short'\n",
    "    elif i >=20 & i <=35:\n",
    "        a = 'middle'\n",
    "    else:\n",
    "        a = 'long'\n",
    "        \n",
    "    return a\n",
    "\n",
    "train_data['name_length'] = [len(i) for i in train_data['Name']]\n",
    "\n",
    "train_data['nlength'] = train_data['name_length'].apply(name_define)"
   ]
  },
  {
   "cell_type": "code",
   "execution_count": 229,
   "id": "117ee767-ab57-4711-959d-15be468bb847",
   "metadata": {
    "tags": []
   },
   "outputs": [
    {
     "data": {
      "text/plain": [
       "middle    685\n",
       "Short     203\n",
       "Name: nlength, dtype: int64"
      ]
     },
     "execution_count": 229,
     "metadata": {},
     "output_type": "execute_result"
    }
   ],
   "source": [
    "train_data['nlength'].value_counts()"
   ]
  },
  {
   "cell_type": "code",
   "execution_count": 230,
   "id": "fd26da17-60cc-4de8-afc8-b97098a19c1b",
   "metadata": {
    "tags": []
   },
   "outputs": [],
   "source": [
    "test_data['name_length'] = [len(i) for i in test_data['Name']]\n",
    "\n",
    "test_data['nlength'] = test_data['name_length'].apply(name_define)"
   ]
  },
  {
   "cell_type": "code",
   "execution_count": 231,
   "id": "5f835941-8b32-4110-8535-c81e8fee82e4",
   "metadata": {
    "tags": []
   },
   "outputs": [
    {
     "data": {
      "text/plain": [
       "middle    330\n",
       "Short      88\n",
       "Name: nlength, dtype: int64"
      ]
     },
     "execution_count": 231,
     "metadata": {},
     "output_type": "execute_result"
    }
   ],
   "source": [
    "test_data['nlength'].value_counts()"
   ]
  },
  {
   "cell_type": "markdown",
   "id": "dde722dc-1d38-48f3-90c0-d3386519dfc4",
   "metadata": {},
   "source": [
    "Now, get the title of each name as a new feature"
   ]
  },
  {
   "cell_type": "code",
   "execution_count": 232,
   "id": "b1571312-f597-4c83-bc94-4078494ce665",
   "metadata": {
    "tags": []
   },
   "outputs": [],
   "source": [
    "train_data['title'] = [i.split(\".\")[0] for i in train_data['Name']]\n",
    "\n",
    "train_data['title'] = [i.split(\",\")[1] for i in train_data['title']]"
   ]
  },
  {
   "cell_type": "code",
   "execution_count": 233,
   "id": "1395ffe3-c8c1-4aae-a534-51204467d1f3",
   "metadata": {
    "tags": []
   },
   "outputs": [
    {
     "data": {
      "text/plain": [
       "array([' Mr', ' Mrs', ' Miss', ' Master', ' Don', ' Rev', ' Dr', ' Mme',\n",
       "       ' Ms', ' Major', ' Lady', ' Sir', ' Mlle', ' Col', ' Capt',\n",
       "       ' the Countess', ' Jonkheer'], dtype=object)"
      ]
     },
     "execution_count": 233,
     "metadata": {},
     "output_type": "execute_result"
    }
   ],
   "source": [
    "train_data['title'].unique()"
   ]
  },
  {
   "cell_type": "code",
   "execution_count": 234,
   "id": "a353b788-fc59-4cc1-97f7-affa0a89a632",
   "metadata": {
    "tags": []
   },
   "outputs": [],
   "source": [
    "train_data['title'] = train_data['title'].apply(lambda x: x.strip())"
   ]
  },
  {
   "cell_type": "code",
   "execution_count": 235,
   "id": "351e2cdb-7c18-4318-b889-109db6c3003b",
   "metadata": {
    "tags": []
   },
   "outputs": [
    {
     "data": {
      "text/plain": [
       "array(['Mr', 'Mrs', 'Miss', 'Master', 'Don', 'Rev', 'Dr', 'Mme', 'Ms',\n",
       "       'Major', 'Lady', 'Sir', 'Mlle', 'Col', 'Capt', 'the Countess',\n",
       "       'Jonkheer'], dtype=object)"
      ]
     },
     "execution_count": 235,
     "metadata": {},
     "output_type": "execute_result"
    }
   ],
   "source": [
    "train_data['title'].unique()"
   ]
  },
  {
   "cell_type": "code",
   "execution_count": 236,
   "id": "706da16f-5008-4dd3-b9a7-fe5c3506bb91",
   "metadata": {
    "tags": []
   },
   "outputs": [],
   "source": [
    "def tittle_change(i):\n",
    "    \n",
    "    a = \"\"\n",
    "    if i in ['the Countess','Capt','Lady','Sir','Jonkheer','Don','Major','Col', 'Rev', 'Dona', 'Dr']:\n",
    "        a = 'rare'\n",
    "    elif i in ['Miss', 'Ms', 'Mlle', 'Lady']:\n",
    "        a = 'Miss'\n",
    "    elif i in ['Mme', 'Mrs']:\n",
    "        a = 'Mrs'\n",
    "    else:\n",
    "        a = i\n",
    "        \n",
    "    return a\n",
    "    "
   ]
  },
  {
   "cell_type": "code",
   "execution_count": 237,
   "id": "8b0d7008-b862-482b-840e-12b5248062d4",
   "metadata": {
    "tags": []
   },
   "outputs": [],
   "source": [
    "train_data['title'] = train_data['title'].map(tittle_change)"
   ]
  },
  {
   "cell_type": "code",
   "execution_count": 238,
   "id": "3a5ec08f-6cc7-441d-b816-215b6d3529a9",
   "metadata": {
    "tags": []
   },
   "outputs": [
    {
     "data": {
      "text/plain": [
       "Mr        515\n",
       "Miss      184\n",
       "Mrs       126\n",
       "Master     40\n",
       "rare       23\n",
       "Name: title, dtype: int64"
      ]
     },
     "execution_count": 238,
     "metadata": {},
     "output_type": "execute_result"
    }
   ],
   "source": [
    "train_data['title'].value_counts()"
   ]
  },
  {
   "cell_type": "code",
   "execution_count": 239,
   "id": "f9f24d79-a68b-47f0-a94c-76fd0fbdc0fe",
   "metadata": {
    "tags": []
   },
   "outputs": [],
   "source": [
    "# now calculate same for test data\n",
    "\n",
    "test_data['title'] = [i.split(\".\")[0] for i in test_data['Name']]\n",
    "test_data['title'] = [i.split(\",\")[1] for i in test_data['title']]\n",
    "\n",
    "test_data['title'] = [i.strip() for i in test_data['title']]\n",
    "\n",
    "test_data['title'] = test_data['title'].apply(tittle_change)"
   ]
  },
  {
   "cell_type": "code",
   "execution_count": 240,
   "id": "8b188b2b-c021-4279-979a-b0fb8963f8cb",
   "metadata": {
    "tags": []
   },
   "outputs": [
    {
     "data": {
      "text/plain": [
       "Mr        240\n",
       "Miss       79\n",
       "Mrs        72\n",
       "Master     21\n",
       "rare        6\n",
       "Name: title, dtype: int64"
      ]
     },
     "execution_count": 240,
     "metadata": {},
     "output_type": "execute_result"
    }
   ],
   "source": [
    "test_data['title'].value_counts()"
   ]
  },
  {
   "cell_type": "markdown",
   "id": "fc245c84-6079-44fb-b664-f7d37bc6ce4d",
   "metadata": {},
   "source": [
    "Now, we will try to create new feature called family size"
   ]
  },
  {
   "cell_type": "code",
   "execution_count": 241,
   "id": "d39fd9c0-424a-428c-a77f-5fdb7402a954",
   "metadata": {
    "tags": []
   },
   "outputs": [
    {
     "name": "stdout",
     "output_type": "stream",
     "text": [
      "<class 'pandas.core.frame.DataFrame'>\n",
      "Int64Index: 888 entries, 0 to 890\n",
      "Data columns (total 15 columns):\n",
      " #   Column       Non-Null Count  Dtype  \n",
      "---  ------       --------------  -----  \n",
      " 0   PassengerId  888 non-null    int64  \n",
      " 1   Pclass       888 non-null    int64  \n",
      " 2   Name         888 non-null    object \n",
      " 3   Sex          888 non-null    int64  \n",
      " 4   Age          711 non-null    float64\n",
      " 5   SibSp        888 non-null    int64  \n",
      " 6   Parch        888 non-null    int64  \n",
      " 7   Ticket       888 non-null    object \n",
      " 8   Fare         888 non-null    float64\n",
      " 9   Cabin        888 non-null    object \n",
      " 10  Embarked     888 non-null    object \n",
      " 11  Survived     888 non-null    int64  \n",
      " 12  name_length  888 non-null    int64  \n",
      " 13  nlength      888 non-null    object \n",
      " 14  title        888 non-null    object \n",
      "dtypes: float64(2), int64(7), object(6)\n",
      "memory usage: 111.0+ KB\n"
     ]
    }
   ],
   "source": [
    "train_data.info()"
   ]
  },
  {
   "cell_type": "markdown",
   "id": "f561c7d6-e579-4c95-be22-622338ebbe4b",
   "metadata": {},
   "source": [
    "Here, Sibsp is denoting number of sibling/spouses and parch is denoting number of parents/childern, \n",
    "so for calculating family size, we will take into account these two features."
   ]
  },
  {
   "cell_type": "code",
   "execution_count": 242,
   "id": "bfb3661f-27d1-42bc-b7e0-f204fca82f37",
   "metadata": {
    "tags": []
   },
   "outputs": [
    {
     "data": {
      "text/plain": [
       "0    676\n",
       "1    117\n",
       "2     80\n",
       "5      5\n",
       "3      5\n",
       "4      4\n",
       "6      1\n",
       "Name: Parch, dtype: int64"
      ]
     },
     "execution_count": 242,
     "metadata": {},
     "output_type": "execute_result"
    }
   ],
   "source": [
    "train_data['Parch'].value_counts()"
   ]
  },
  {
   "cell_type": "code",
   "execution_count": 243,
   "id": "be985dcd-49c0-4cac-ab82-42a8bbe15f5d",
   "metadata": {
    "tags": []
   },
   "outputs": [],
   "source": [
    "train_data['Family_size'] = train_data['SibSp'] + train_data['Parch']"
   ]
  },
  {
   "cell_type": "code",
   "execution_count": 244,
   "id": "70e68ad8-659a-4fc8-b723-c851dd3611d3",
   "metadata": {
    "tags": []
   },
   "outputs": [
    {
     "data": {
      "text/plain": [
       "array([ 1,  0,  4,  2,  6,  5,  3,  7, 10], dtype=int64)"
      ]
     },
     "execution_count": 244,
     "metadata": {},
     "output_type": "execute_result"
    }
   ],
   "source": [
    "train_data['Family_size'].unique()"
   ]
  },
  {
   "cell_type": "markdown",
   "id": "7a176954-c3e0-47d2-8726-7f92b51eb866",
   "metadata": {},
   "source": [
    "As 0 does not mean anything here, we will add 1 to above."
   ]
  },
  {
   "cell_type": "code",
   "execution_count": 245,
   "id": "4c522a2a-929c-4061-bf42-ca8ce8433c94",
   "metadata": {
    "tags": []
   },
   "outputs": [],
   "source": [
    "train_data['Family_size'] = train_data['Family_size'] + 1"
   ]
  },
  {
   "cell_type": "code",
   "execution_count": 246,
   "id": "feab5582-62c6-44ce-a024-2ee97f78b58e",
   "metadata": {
    "tags": []
   },
   "outputs": [
    {
     "data": {
      "text/plain": [
       "array([ 2,  1,  5,  3,  7,  6,  4,  8, 11], dtype=int64)"
      ]
     },
     "execution_count": 246,
     "metadata": {},
     "output_type": "execute_result"
    }
   ],
   "source": [
    "train_data['Family_size'].unique()"
   ]
  },
  {
   "cell_type": "code",
   "execution_count": 247,
   "id": "2291e9a9-4fd0-4a3d-b1ec-abe78c7f0215",
   "metadata": {
    "tags": []
   },
   "outputs": [],
   "source": [
    "def family_define(i):\n",
    "    \n",
    "    a = \"\"\n",
    "    if i <= 1:\n",
    "        a = 'alone'\n",
    "    elif i> 1 and i<=4:\n",
    "        a = \"short\"\n",
    "    else:\n",
    "        a = \"long\"\n",
    "        \n",
    "    return a"
   ]
  },
  {
   "cell_type": "code",
   "execution_count": 248,
   "id": "4a8fd809-8498-42fe-9407-94f34b591496",
   "metadata": {
    "tags": []
   },
   "outputs": [],
   "source": [
    "train_data['Family_group'] = train_data['Family_size'].map(family_define)"
   ]
  },
  {
   "cell_type": "code",
   "execution_count": 249,
   "id": "2d4b1b7c-daba-4db6-990e-383b62969cfc",
   "metadata": {
    "tags": []
   },
   "outputs": [],
   "source": [
    "train_data['is_alone'] = [1 if i < 2 else 0 for i in train_data['Family_size']]"
   ]
  },
  {
   "cell_type": "code",
   "execution_count": 250,
   "id": "0633537b-142e-4190-8a05-f70c5f875fc2",
   "metadata": {
    "tags": []
   },
   "outputs": [],
   "source": [
    "# apply same on test data as well\n",
    "\n",
    "test_data['Family_size'] = test_data['SibSp'] + test_data['Parch'] + 1\n",
    "test_data['Family_group'] = test_data['Family_size'].map(family_define)\n",
    "\n",
    "test_data['is_alone'] = [1 if i < 2 else 0 for i in test_data['Family_size']]"
   ]
  },
  {
   "cell_type": "markdown",
   "id": "7a768cc1-76b9-4b0f-bd64-a38d936f6d10",
   "metadata": {},
   "source": [
    "Now look at the ticket feature"
   ]
  },
  {
   "cell_type": "code",
   "execution_count": 251,
   "id": "28da3abe-c1f1-4a1f-9941-d781c8194dc8",
   "metadata": {},
   "outputs": [
    {
     "data": {
      "text/plain": [
       "347082      7\n",
       "CA. 2343    7\n",
       "1601        7\n",
       "3101295     6\n",
       "CA 2144     6\n",
       "           ..\n",
       "9234        1\n",
       "19988       1\n",
       "2693        1\n",
       "PC 17612    1\n",
       "370376      1\n",
       "Name: Ticket, Length: 680, dtype: int64"
      ]
     },
     "execution_count": 251,
     "metadata": {},
     "output_type": "execute_result"
    }
   ],
   "source": [
    "train_data['Ticket'].value_counts()"
   ]
  },
  {
   "cell_type": "code",
   "execution_count": 252,
   "id": "d8530450-a513-49cf-9e40-f3b27f4c6886",
   "metadata": {
    "tags": []
   },
   "outputs": [
    {
     "data": {
      "text/plain": [
       "680"
      ]
     },
     "execution_count": 252,
     "metadata": {},
     "output_type": "execute_result"
    }
   ],
   "source": [
    "train_data['Ticket'].nunique()"
   ]
  },
  {
   "cell_type": "markdown",
   "id": "a7e13e95-1fdd-4d3d-b433-be93772e62a9",
   "metadata": {},
   "source": [
    "There are 680 unique values here. So, nothing can be concluded from this feature. \n",
    "\n",
    "Hence, this feature is not usefull, we can drop this feature"
   ]
  },
  {
   "cell_type": "code",
   "execution_count": 253,
   "id": "0a8d7d53-74a1-4f5b-a225-9833c96fa922",
   "metadata": {
    "tags": []
   },
   "outputs": [],
   "source": [
    "train_data.drop(['Ticket'], axis = 1, inplace = True)\n",
    "\n",
    "test_data.drop(['Ticket'], axis = 1, inplace = True)"
   ]
  },
  {
   "cell_type": "markdown",
   "id": "02c536d6-66fa-4bc4-9008-e0446806620a",
   "metadata": {},
   "source": [
    "Now we will look into Fare feature"
   ]
  },
  {
   "cell_type": "markdown",
   "id": "a9b1fc24-d16b-42de-b8dc-eeb1b55ba48d",
   "metadata": {},
   "source": [
    "Some people have travelled in groups like family or friends. It seems like Fare column kept a record of the total fare rather than the fare of individual passenger,therefore calculated fare will be much handy in this situation."
   ]
  },
  {
   "cell_type": "code",
   "execution_count": 254,
   "id": "90c8d125-83cd-491f-a9c9-823c2e0241cb",
   "metadata": {
    "tags": []
   },
   "outputs": [
    {
     "data": {
      "text/plain": [
       "8.0500     43\n",
       "13.0000    42\n",
       "7.8958     38\n",
       "7.7500     34\n",
       "26.0000    31\n",
       "           ..\n",
       "6.8583      1\n",
       "12.6500     1\n",
       "12.5250     1\n",
       "12.0000     1\n",
       "10.5167     1\n",
       "Name: Fare, Length: 247, dtype: int64"
      ]
     },
     "execution_count": 254,
     "metadata": {},
     "output_type": "execute_result"
    }
   ],
   "source": [
    "train_data['Fare'].value_counts()"
   ]
  },
  {
   "cell_type": "code",
   "execution_count": 255,
   "id": "6948af30-dfeb-4758-b714-5b9e9fb66fe8",
   "metadata": {
    "tags": []
   },
   "outputs": [],
   "source": [
    "train_data['ind_fare'] = round(train_data['Fare']/train_data['Family_size'],2)"
   ]
  },
  {
   "cell_type": "code",
   "execution_count": 256,
   "id": "f380bfd7-3a5d-4574-bda4-4ffe2b0b8d7c",
   "metadata": {
    "tags": []
   },
   "outputs": [],
   "source": [
    "def fare_define(i):\n",
    "    \n",
    "    a = \"\"\n",
    "    if i <= 4:\n",
    "        a = \"very_low\"\n",
    "    elif i> 4 and i<=10:\n",
    "        a = \"low\"\n",
    "    elif i> 10 and i<=20:\n",
    "        a =\"mid\"\n",
    "    elif i> 20 and i <= 45:\n",
    "        a = \"high\"\n",
    "    else:\n",
    "        a = \"very_high\"\n",
    "        \n",
    "    return a"
   ]
  },
  {
   "cell_type": "code",
   "execution_count": 257,
   "id": "459e79ac-5d6c-42c7-b360-b2109d8c3a8f",
   "metadata": {
    "tags": []
   },
   "outputs": [],
   "source": [
    "train_data['fare_group'] = train_data['ind_fare'].map(fare_define)"
   ]
  },
  {
   "cell_type": "code",
   "execution_count": 258,
   "id": "acfe7460-bead-41c0-8c99-2650e31878a1",
   "metadata": {
    "tags": []
   },
   "outputs": [
    {
     "data": {
      "text/plain": [
       "low          471\n",
       "high         154\n",
       "mid          153\n",
       "very_high     69\n",
       "very_low      41\n",
       "Name: fare_group, dtype: int64"
      ]
     },
     "execution_count": 258,
     "metadata": {},
     "output_type": "execute_result"
    }
   ],
   "source": [
    "train_data['fare_group'].value_counts()"
   ]
  },
  {
   "cell_type": "markdown",
   "id": "c7727578-3f38-4b99-a4fd-b8cc8a6a4905",
   "metadata": {},
   "source": [
    "Do same for test data as well"
   ]
  },
  {
   "cell_type": "code",
   "execution_count": 259,
   "id": "4875895a-fd1b-4edf-baa1-58350ec742e4",
   "metadata": {
    "tags": []
   },
   "outputs": [],
   "source": [
    "test_data['ind_fare'] = round(test_data['Fare']/test_data['Family_size'],2)\n",
    "\n",
    "test_data['fare_group'] = test_data['ind_fare'].map(fare_define)"
   ]
  },
  {
   "cell_type": "code",
   "execution_count": 260,
   "id": "41f30958-4155-492f-853a-9de3b782ec8b",
   "metadata": {
    "tags": []
   },
   "outputs": [
    {
     "data": {
      "text/plain": [
       "low          216\n",
       "mid           76\n",
       "high          73\n",
       "very_high     40\n",
       "very_low      13\n",
       "Name: fare_group, dtype: int64"
      ]
     },
     "execution_count": 260,
     "metadata": {},
     "output_type": "execute_result"
    }
   ],
   "source": [
    "test_data['fare_group'].value_counts()"
   ]
  },
  {
   "cell_type": "code",
   "execution_count": 261,
   "id": "bc60f1b2-c290-4330-b46a-b003310b662b",
   "metadata": {
    "tags": []
   },
   "outputs": [],
   "source": [
    "passengerid = test_data['PassengerId']"
   ]
  },
  {
   "cell_type": "markdown",
   "id": "399056a2-39a7-4506-b458-95eb2db0701a",
   "metadata": {},
   "source": [
    "Now we will look into the passenger_id feature"
   ]
  },
  {
   "cell_type": "code",
   "execution_count": 262,
   "id": "7acab098-fc0e-4465-bf7f-3d07cb629367",
   "metadata": {
    "tags": []
   },
   "outputs": [],
   "source": [
    "train_data.drop(['PassengerId'], axis = 1, inplace = True)\n",
    "\n",
    "test_data.drop(['PassengerId'], axis = 1, inplace = True)"
   ]
  },
  {
   "cell_type": "markdown",
   "id": "b1a10c35-70db-4da5-9616-632cad36bc3d",
   "metadata": {},
   "source": [
    "# Creating Dummy Variable"
   ]
  },
  {
   "cell_type": "code",
   "execution_count": 263,
   "id": "5931ca71-751e-4284-a057-2782598d5ce8",
   "metadata": {
    "tags": []
   },
   "outputs": [
    {
     "data": {
      "text/plain": [
       "Index(['Pclass', 'Name', 'Sex', 'Age', 'SibSp', 'Parch', 'Fare', 'Cabin',\n",
       "       'Embarked', 'Survived', 'name_length', 'nlength', 'title',\n",
       "       'Family_size', 'Family_group', 'is_alone', 'ind_fare', 'fare_group'],\n",
       "      dtype='object')"
      ]
     },
     "execution_count": 263,
     "metadata": {},
     "output_type": "execute_result"
    }
   ],
   "source": [
    "train_data.columns"
   ]
  },
  {
   "cell_type": "code",
   "execution_count": 264,
   "id": "f90d7812-aa60-42c4-9ec2-7519da5b5bb2",
   "metadata": {
    "tags": []
   },
   "outputs": [
    {
     "data": {
      "text/plain": [
       "Index(['Pclass', 'Name', 'Sex', 'Age', 'SibSp', 'Parch', 'Fare', 'Cabin',\n",
       "       'Embarked', 'name_length', 'nlength', 'title', 'Family_size',\n",
       "       'Family_group', 'is_alone', 'ind_fare', 'fare_group'],\n",
       "      dtype='object')"
      ]
     },
     "execution_count": 264,
     "metadata": {},
     "output_type": "execute_result"
    }
   ],
   "source": [
    "test_data.columns"
   ]
  },
  {
   "cell_type": "code",
   "execution_count": 265,
   "id": "67d891be-274e-4166-b98a-1bab63e6622d",
   "metadata": {},
   "outputs": [],
   "source": [
    "train_data = pd.get_dummies(data= train_data, columns = ['Pclass','Embarked','Cabin','title','nlength', 'Family_group','fare_group'],drop_first = False)"
   ]
  },
  {
   "cell_type": "code",
   "execution_count": 266,
   "id": "65470e25-59b7-4b79-a118-ac483106a140",
   "metadata": {},
   "outputs": [],
   "source": [
    "test_data = pd.get_dummies(data = test_data, columns = ['Pclass','Embarked','Cabin','title','nlength', 'Family_group','fare_group'], drop_first = False)"
   ]
  },
  {
   "cell_type": "code",
   "execution_count": 267,
   "id": "2bbda691-5c10-426a-8ec9-2c8839e9a580",
   "metadata": {},
   "outputs": [],
   "source": [
    "train_data.drop(['Family_size','name_length', 'Fare', 'Name'], axis =1, inplace = True)\n",
    "\n",
    "test_data.drop(['Family_size','name_length', 'Fare', 'Name'], axis =1, inplace = True)"
   ]
  },
  {
   "cell_type": "code",
   "execution_count": 268,
   "id": "6f4b0883-92e5-4f9e-bc9e-50469530f7a4",
   "metadata": {},
   "outputs": [
    {
     "data": {
      "text/html": [
       "<div>\n",
       "<style scoped>\n",
       "    .dataframe tbody tr th:only-of-type {\n",
       "        vertical-align: middle;\n",
       "    }\n",
       "\n",
       "    .dataframe tbody tr th {\n",
       "        vertical-align: top;\n",
       "    }\n",
       "\n",
       "    .dataframe thead th {\n",
       "        text-align: right;\n",
       "    }\n",
       "</style>\n",
       "<table border=\"1\" class=\"dataframe\">\n",
       "  <thead>\n",
       "    <tr style=\"text-align: right;\">\n",
       "      <th></th>\n",
       "      <th>Sex</th>\n",
       "      <th>Age</th>\n",
       "      <th>SibSp</th>\n",
       "      <th>Parch</th>\n",
       "      <th>Survived</th>\n",
       "      <th>is_alone</th>\n",
       "      <th>ind_fare</th>\n",
       "      <th>Pclass_1</th>\n",
       "      <th>Pclass_2</th>\n",
       "      <th>Pclass_3</th>\n",
       "      <th>...</th>\n",
       "      <th>nlength_Short</th>\n",
       "      <th>nlength_middle</th>\n",
       "      <th>Family_group_alone</th>\n",
       "      <th>Family_group_long</th>\n",
       "      <th>Family_group_short</th>\n",
       "      <th>fare_group_high</th>\n",
       "      <th>fare_group_low</th>\n",
       "      <th>fare_group_mid</th>\n",
       "      <th>fare_group_very_high</th>\n",
       "      <th>fare_group_very_low</th>\n",
       "    </tr>\n",
       "  </thead>\n",
       "  <tbody>\n",
       "    <tr>\n",
       "      <th>0</th>\n",
       "      <td>1</td>\n",
       "      <td>22.0</td>\n",
       "      <td>1</td>\n",
       "      <td>0</td>\n",
       "      <td>0</td>\n",
       "      <td>0</td>\n",
       "      <td>3.62</td>\n",
       "      <td>0</td>\n",
       "      <td>0</td>\n",
       "      <td>1</td>\n",
       "      <td>...</td>\n",
       "      <td>0</td>\n",
       "      <td>1</td>\n",
       "      <td>0</td>\n",
       "      <td>0</td>\n",
       "      <td>1</td>\n",
       "      <td>0</td>\n",
       "      <td>0</td>\n",
       "      <td>0</td>\n",
       "      <td>0</td>\n",
       "      <td>1</td>\n",
       "    </tr>\n",
       "    <tr>\n",
       "      <th>1</th>\n",
       "      <td>0</td>\n",
       "      <td>38.0</td>\n",
       "      <td>1</td>\n",
       "      <td>0</td>\n",
       "      <td>1</td>\n",
       "      <td>0</td>\n",
       "      <td>35.64</td>\n",
       "      <td>1</td>\n",
       "      <td>0</td>\n",
       "      <td>0</td>\n",
       "      <td>...</td>\n",
       "      <td>0</td>\n",
       "      <td>1</td>\n",
       "      <td>0</td>\n",
       "      <td>0</td>\n",
       "      <td>1</td>\n",
       "      <td>1</td>\n",
       "      <td>0</td>\n",
       "      <td>0</td>\n",
       "      <td>0</td>\n",
       "      <td>0</td>\n",
       "    </tr>\n",
       "    <tr>\n",
       "      <th>2</th>\n",
       "      <td>0</td>\n",
       "      <td>26.0</td>\n",
       "      <td>0</td>\n",
       "      <td>0</td>\n",
       "      <td>1</td>\n",
       "      <td>1</td>\n",
       "      <td>7.92</td>\n",
       "      <td>0</td>\n",
       "      <td>0</td>\n",
       "      <td>1</td>\n",
       "      <td>...</td>\n",
       "      <td>0</td>\n",
       "      <td>1</td>\n",
       "      <td>1</td>\n",
       "      <td>0</td>\n",
       "      <td>0</td>\n",
       "      <td>0</td>\n",
       "      <td>1</td>\n",
       "      <td>0</td>\n",
       "      <td>0</td>\n",
       "      <td>0</td>\n",
       "    </tr>\n",
       "    <tr>\n",
       "      <th>3</th>\n",
       "      <td>0</td>\n",
       "      <td>35.0</td>\n",
       "      <td>1</td>\n",
       "      <td>0</td>\n",
       "      <td>1</td>\n",
       "      <td>0</td>\n",
       "      <td>26.55</td>\n",
       "      <td>1</td>\n",
       "      <td>0</td>\n",
       "      <td>0</td>\n",
       "      <td>...</td>\n",
       "      <td>0</td>\n",
       "      <td>1</td>\n",
       "      <td>0</td>\n",
       "      <td>0</td>\n",
       "      <td>1</td>\n",
       "      <td>1</td>\n",
       "      <td>0</td>\n",
       "      <td>0</td>\n",
       "      <td>0</td>\n",
       "      <td>0</td>\n",
       "    </tr>\n",
       "    <tr>\n",
       "      <th>4</th>\n",
       "      <td>1</td>\n",
       "      <td>35.0</td>\n",
       "      <td>0</td>\n",
       "      <td>0</td>\n",
       "      <td>0</td>\n",
       "      <td>1</td>\n",
       "      <td>8.05</td>\n",
       "      <td>0</td>\n",
       "      <td>0</td>\n",
       "      <td>1</td>\n",
       "      <td>...</td>\n",
       "      <td>0</td>\n",
       "      <td>1</td>\n",
       "      <td>1</td>\n",
       "      <td>0</td>\n",
       "      <td>0</td>\n",
       "      <td>0</td>\n",
       "      <td>1</td>\n",
       "      <td>0</td>\n",
       "      <td>0</td>\n",
       "      <td>0</td>\n",
       "    </tr>\n",
       "  </tbody>\n",
       "</table>\n",
       "<p>5 rows × 36 columns</p>\n",
       "</div>"
      ],
      "text/plain": [
       "   Sex   Age  SibSp  Parch  Survived  is_alone  ind_fare  Pclass_1  Pclass_2  \\\n",
       "0    1  22.0      1      0         0         0      3.62         0         0   \n",
       "1    0  38.0      1      0         1         0     35.64         1         0   \n",
       "2    0  26.0      0      0         1         1      7.92         0         0   \n",
       "3    0  35.0      1      0         1         0     26.55         1         0   \n",
       "4    1  35.0      0      0         0         1      8.05         0         0   \n",
       "\n",
       "   Pclass_3  ...  nlength_Short  nlength_middle  Family_group_alone  \\\n",
       "0         1  ...              0               1                   0   \n",
       "1         0  ...              0               1                   0   \n",
       "2         1  ...              0               1                   1   \n",
       "3         0  ...              0               1                   0   \n",
       "4         1  ...              0               1                   1   \n",
       "\n",
       "   Family_group_long  Family_group_short  fare_group_high  fare_group_low  \\\n",
       "0                  0                   1                0               0   \n",
       "1                  0                   1                1               0   \n",
       "2                  0                   0                0               1   \n",
       "3                  0                   1                1               0   \n",
       "4                  0                   0                0               1   \n",
       "\n",
       "   fare_group_mid  fare_group_very_high  fare_group_very_low  \n",
       "0               0                     0                    1  \n",
       "1               0                     0                    0  \n",
       "2               0                     0                    0  \n",
       "3               0                     0                    0  \n",
       "4               0                     0                    0  \n",
       "\n",
       "[5 rows x 36 columns]"
      ]
     },
     "execution_count": 268,
     "metadata": {},
     "output_type": "execute_result"
    }
   ],
   "source": [
    "train_data.head()"
   ]
  },
  {
   "cell_type": "code",
   "execution_count": 269,
   "id": "89e6b961-a7b4-4bd9-b17b-b830c59d3465",
   "metadata": {
    "tags": []
   },
   "outputs": [
    {
     "data": {
      "text/html": [
       "<div>\n",
       "<style scoped>\n",
       "    .dataframe tbody tr th:only-of-type {\n",
       "        vertical-align: middle;\n",
       "    }\n",
       "\n",
       "    .dataframe tbody tr th {\n",
       "        vertical-align: top;\n",
       "    }\n",
       "\n",
       "    .dataframe thead th {\n",
       "        text-align: right;\n",
       "    }\n",
       "</style>\n",
       "<table border=\"1\" class=\"dataframe\">\n",
       "  <thead>\n",
       "    <tr style=\"text-align: right;\">\n",
       "      <th></th>\n",
       "      <th>Sex</th>\n",
       "      <th>Age</th>\n",
       "      <th>SibSp</th>\n",
       "      <th>Parch</th>\n",
       "      <th>is_alone</th>\n",
       "      <th>ind_fare</th>\n",
       "      <th>Pclass_1</th>\n",
       "      <th>Pclass_2</th>\n",
       "      <th>Pclass_3</th>\n",
       "      <th>Embarked_C</th>\n",
       "      <th>...</th>\n",
       "      <th>nlength_Short</th>\n",
       "      <th>nlength_middle</th>\n",
       "      <th>Family_group_alone</th>\n",
       "      <th>Family_group_long</th>\n",
       "      <th>Family_group_short</th>\n",
       "      <th>fare_group_high</th>\n",
       "      <th>fare_group_low</th>\n",
       "      <th>fare_group_mid</th>\n",
       "      <th>fare_group_very_high</th>\n",
       "      <th>fare_group_very_low</th>\n",
       "    </tr>\n",
       "  </thead>\n",
       "  <tbody>\n",
       "    <tr>\n",
       "      <th>0</th>\n",
       "      <td>1</td>\n",
       "      <td>34.5</td>\n",
       "      <td>0</td>\n",
       "      <td>0</td>\n",
       "      <td>1</td>\n",
       "      <td>7.83</td>\n",
       "      <td>0</td>\n",
       "      <td>0</td>\n",
       "      <td>1</td>\n",
       "      <td>0</td>\n",
       "      <td>...</td>\n",
       "      <td>1</td>\n",
       "      <td>0</td>\n",
       "      <td>1</td>\n",
       "      <td>0</td>\n",
       "      <td>0</td>\n",
       "      <td>0</td>\n",
       "      <td>1</td>\n",
       "      <td>0</td>\n",
       "      <td>0</td>\n",
       "      <td>0</td>\n",
       "    </tr>\n",
       "    <tr>\n",
       "      <th>1</th>\n",
       "      <td>0</td>\n",
       "      <td>47.0</td>\n",
       "      <td>1</td>\n",
       "      <td>0</td>\n",
       "      <td>0</td>\n",
       "      <td>3.50</td>\n",
       "      <td>0</td>\n",
       "      <td>0</td>\n",
       "      <td>1</td>\n",
       "      <td>0</td>\n",
       "      <td>...</td>\n",
       "      <td>0</td>\n",
       "      <td>1</td>\n",
       "      <td>0</td>\n",
       "      <td>0</td>\n",
       "      <td>1</td>\n",
       "      <td>0</td>\n",
       "      <td>0</td>\n",
       "      <td>0</td>\n",
       "      <td>0</td>\n",
       "      <td>1</td>\n",
       "    </tr>\n",
       "    <tr>\n",
       "      <th>2</th>\n",
       "      <td>1</td>\n",
       "      <td>62.0</td>\n",
       "      <td>0</td>\n",
       "      <td>0</td>\n",
       "      <td>1</td>\n",
       "      <td>9.69</td>\n",
       "      <td>0</td>\n",
       "      <td>1</td>\n",
       "      <td>0</td>\n",
       "      <td>0</td>\n",
       "      <td>...</td>\n",
       "      <td>0</td>\n",
       "      <td>1</td>\n",
       "      <td>1</td>\n",
       "      <td>0</td>\n",
       "      <td>0</td>\n",
       "      <td>0</td>\n",
       "      <td>1</td>\n",
       "      <td>0</td>\n",
       "      <td>0</td>\n",
       "      <td>0</td>\n",
       "    </tr>\n",
       "    <tr>\n",
       "      <th>3</th>\n",
       "      <td>1</td>\n",
       "      <td>27.0</td>\n",
       "      <td>0</td>\n",
       "      <td>0</td>\n",
       "      <td>1</td>\n",
       "      <td>8.66</td>\n",
       "      <td>0</td>\n",
       "      <td>0</td>\n",
       "      <td>1</td>\n",
       "      <td>0</td>\n",
       "      <td>...</td>\n",
       "      <td>1</td>\n",
       "      <td>0</td>\n",
       "      <td>1</td>\n",
       "      <td>0</td>\n",
       "      <td>0</td>\n",
       "      <td>0</td>\n",
       "      <td>1</td>\n",
       "      <td>0</td>\n",
       "      <td>0</td>\n",
       "      <td>0</td>\n",
       "    </tr>\n",
       "    <tr>\n",
       "      <th>4</th>\n",
       "      <td>0</td>\n",
       "      <td>22.0</td>\n",
       "      <td>1</td>\n",
       "      <td>1</td>\n",
       "      <td>0</td>\n",
       "      <td>4.10</td>\n",
       "      <td>0</td>\n",
       "      <td>0</td>\n",
       "      <td>1</td>\n",
       "      <td>0</td>\n",
       "      <td>...</td>\n",
       "      <td>0</td>\n",
       "      <td>1</td>\n",
       "      <td>0</td>\n",
       "      <td>0</td>\n",
       "      <td>1</td>\n",
       "      <td>0</td>\n",
       "      <td>1</td>\n",
       "      <td>0</td>\n",
       "      <td>0</td>\n",
       "      <td>0</td>\n",
       "    </tr>\n",
       "  </tbody>\n",
       "</table>\n",
       "<p>5 rows × 35 columns</p>\n",
       "</div>"
      ],
      "text/plain": [
       "   Sex   Age  SibSp  Parch  is_alone  ind_fare  Pclass_1  Pclass_2  Pclass_3  \\\n",
       "0    1  34.5      0      0         1      7.83         0         0         1   \n",
       "1    0  47.0      1      0         0      3.50         0         0         1   \n",
       "2    1  62.0      0      0         1      9.69         0         1         0   \n",
       "3    1  27.0      0      0         1      8.66         0         0         1   \n",
       "4    0  22.0      1      1         0      4.10         0         0         1   \n",
       "\n",
       "   Embarked_C  ...  nlength_Short  nlength_middle  Family_group_alone  \\\n",
       "0           0  ...              1               0                   1   \n",
       "1           0  ...              0               1                   0   \n",
       "2           0  ...              0               1                   1   \n",
       "3           0  ...              1               0                   1   \n",
       "4           0  ...              0               1                   0   \n",
       "\n",
       "   Family_group_long  Family_group_short  fare_group_high  fare_group_low  \\\n",
       "0                  0                   0                0               1   \n",
       "1                  0                   1                0               0   \n",
       "2                  0                   0                0               1   \n",
       "3                  0                   0                0               1   \n",
       "4                  0                   1                0               1   \n",
       "\n",
       "   fare_group_mid  fare_group_very_high  fare_group_very_low  \n",
       "0               0                     0                    0  \n",
       "1               0                     0                    1  \n",
       "2               0                     0                    0  \n",
       "3               0                     0                    0  \n",
       "4               0                     0                    0  \n",
       "\n",
       "[5 rows x 35 columns]"
      ]
     },
     "execution_count": 269,
     "metadata": {},
     "output_type": "execute_result"
    }
   ],
   "source": [
    "test_data.head()"
   ]
  },
  {
   "cell_type": "markdown",
   "id": "df7642eb-0c5f-4b12-ba2f-4dfc28020ae2",
   "metadata": {},
   "source": [
    "Now, try to fill the missing value for age feature"
   ]
  },
  {
   "cell_type": "code",
   "execution_count": 270,
   "id": "1dd6f782-863c-4f9b-8aae-ef87192ef500",
   "metadata": {
    "tags": []
   },
   "outputs": [],
   "source": [
    "train_data = pd.concat([train_data[['Survived','Age','Sex','SibSp','Parch']], train_data.loc[:,'is_alone':]], axis = 1)"
   ]
  },
  {
   "cell_type": "code",
   "execution_count": 271,
   "id": "ca88af45-fec8-46c1-b9ec-aa7a64cbc252",
   "metadata": {
    "tags": []
   },
   "outputs": [],
   "source": [
    "test_data = pd.concat([test_data[['Age','Sex','SibSp','Parch']], test_data.loc[:,'is_alone':]], axis = 1)"
   ]
  },
  {
   "cell_type": "code",
   "execution_count": 272,
   "id": "6cb93929-230a-459a-9525-bc8cff8c65a4",
   "metadata": {
    "tags": []
   },
   "outputs": [
    {
     "data": {
      "text/plain": [
       "(888, 36)"
      ]
     },
     "execution_count": 272,
     "metadata": {},
     "output_type": "execute_result"
    }
   ],
   "source": [
    "train_data.shape"
   ]
  },
  {
   "cell_type": "code",
   "execution_count": 273,
   "id": "254c2bc1-9f5c-4d80-b5f8-9c735fb037cc",
   "metadata": {
    "tags": []
   },
   "outputs": [
    {
     "data": {
      "text/plain": [
       "(418, 35)"
      ]
     },
     "execution_count": 273,
     "metadata": {},
     "output_type": "execute_result"
    }
   ],
   "source": [
    "test_data.shape"
   ]
  },
  {
   "cell_type": "code",
   "execution_count": 274,
   "id": "bb52b855-c378-4e8d-aace-aa92bd77b70f",
   "metadata": {},
   "outputs": [
    {
     "data": {
      "text/html": [
       "<div>\n",
       "<style scoped>\n",
       "    .dataframe tbody tr th:only-of-type {\n",
       "        vertical-align: middle;\n",
       "    }\n",
       "\n",
       "    .dataframe tbody tr th {\n",
       "        vertical-align: top;\n",
       "    }\n",
       "\n",
       "    .dataframe thead th {\n",
       "        text-align: right;\n",
       "    }\n",
       "</style>\n",
       "<table border=\"1\" class=\"dataframe\">\n",
       "  <thead>\n",
       "    <tr style=\"text-align: right;\">\n",
       "      <th></th>\n",
       "      <th>Age</th>\n",
       "      <th>Sex</th>\n",
       "      <th>SibSp</th>\n",
       "      <th>Parch</th>\n",
       "      <th>is_alone</th>\n",
       "      <th>ind_fare</th>\n",
       "      <th>Pclass_1</th>\n",
       "      <th>Pclass_2</th>\n",
       "      <th>Pclass_3</th>\n",
       "      <th>Embarked_C</th>\n",
       "      <th>...</th>\n",
       "      <th>nlength_Short</th>\n",
       "      <th>nlength_middle</th>\n",
       "      <th>Family_group_alone</th>\n",
       "      <th>Family_group_long</th>\n",
       "      <th>Family_group_short</th>\n",
       "      <th>fare_group_high</th>\n",
       "      <th>fare_group_low</th>\n",
       "      <th>fare_group_mid</th>\n",
       "      <th>fare_group_very_high</th>\n",
       "      <th>fare_group_very_low</th>\n",
       "    </tr>\n",
       "  </thead>\n",
       "  <tbody>\n",
       "    <tr>\n",
       "      <th>0</th>\n",
       "      <td>34.500000</td>\n",
       "      <td>1</td>\n",
       "      <td>0</td>\n",
       "      <td>0</td>\n",
       "      <td>1</td>\n",
       "      <td>7.83</td>\n",
       "      <td>0</td>\n",
       "      <td>0</td>\n",
       "      <td>1</td>\n",
       "      <td>0</td>\n",
       "      <td>...</td>\n",
       "      <td>1</td>\n",
       "      <td>0</td>\n",
       "      <td>1</td>\n",
       "      <td>0</td>\n",
       "      <td>0</td>\n",
       "      <td>0</td>\n",
       "      <td>1</td>\n",
       "      <td>0</td>\n",
       "      <td>0</td>\n",
       "      <td>0</td>\n",
       "    </tr>\n",
       "    <tr>\n",
       "      <th>1</th>\n",
       "      <td>47.000000</td>\n",
       "      <td>0</td>\n",
       "      <td>1</td>\n",
       "      <td>0</td>\n",
       "      <td>0</td>\n",
       "      <td>3.50</td>\n",
       "      <td>0</td>\n",
       "      <td>0</td>\n",
       "      <td>1</td>\n",
       "      <td>0</td>\n",
       "      <td>...</td>\n",
       "      <td>0</td>\n",
       "      <td>1</td>\n",
       "      <td>0</td>\n",
       "      <td>0</td>\n",
       "      <td>1</td>\n",
       "      <td>0</td>\n",
       "      <td>0</td>\n",
       "      <td>0</td>\n",
       "      <td>0</td>\n",
       "      <td>1</td>\n",
       "    </tr>\n",
       "    <tr>\n",
       "      <th>2</th>\n",
       "      <td>62.000000</td>\n",
       "      <td>1</td>\n",
       "      <td>0</td>\n",
       "      <td>0</td>\n",
       "      <td>1</td>\n",
       "      <td>9.69</td>\n",
       "      <td>0</td>\n",
       "      <td>1</td>\n",
       "      <td>0</td>\n",
       "      <td>0</td>\n",
       "      <td>...</td>\n",
       "      <td>0</td>\n",
       "      <td>1</td>\n",
       "      <td>1</td>\n",
       "      <td>0</td>\n",
       "      <td>0</td>\n",
       "      <td>0</td>\n",
       "      <td>1</td>\n",
       "      <td>0</td>\n",
       "      <td>0</td>\n",
       "      <td>0</td>\n",
       "    </tr>\n",
       "    <tr>\n",
       "      <th>3</th>\n",
       "      <td>27.000000</td>\n",
       "      <td>1</td>\n",
       "      <td>0</td>\n",
       "      <td>0</td>\n",
       "      <td>1</td>\n",
       "      <td>8.66</td>\n",
       "      <td>0</td>\n",
       "      <td>0</td>\n",
       "      <td>1</td>\n",
       "      <td>0</td>\n",
       "      <td>...</td>\n",
       "      <td>1</td>\n",
       "      <td>0</td>\n",
       "      <td>1</td>\n",
       "      <td>0</td>\n",
       "      <td>0</td>\n",
       "      <td>0</td>\n",
       "      <td>1</td>\n",
       "      <td>0</td>\n",
       "      <td>0</td>\n",
       "      <td>0</td>\n",
       "    </tr>\n",
       "    <tr>\n",
       "      <th>4</th>\n",
       "      <td>22.000000</td>\n",
       "      <td>0</td>\n",
       "      <td>1</td>\n",
       "      <td>1</td>\n",
       "      <td>0</td>\n",
       "      <td>4.10</td>\n",
       "      <td>0</td>\n",
       "      <td>0</td>\n",
       "      <td>1</td>\n",
       "      <td>0</td>\n",
       "      <td>...</td>\n",
       "      <td>0</td>\n",
       "      <td>1</td>\n",
       "      <td>0</td>\n",
       "      <td>0</td>\n",
       "      <td>1</td>\n",
       "      <td>0</td>\n",
       "      <td>1</td>\n",
       "      <td>0</td>\n",
       "      <td>0</td>\n",
       "      <td>0</td>\n",
       "    </tr>\n",
       "    <tr>\n",
       "      <th>...</th>\n",
       "      <td>...</td>\n",
       "      <td>...</td>\n",
       "      <td>...</td>\n",
       "      <td>...</td>\n",
       "      <td>...</td>\n",
       "      <td>...</td>\n",
       "      <td>...</td>\n",
       "      <td>...</td>\n",
       "      <td>...</td>\n",
       "      <td>...</td>\n",
       "      <td>...</td>\n",
       "      <td>...</td>\n",
       "      <td>...</td>\n",
       "      <td>...</td>\n",
       "      <td>...</td>\n",
       "      <td>...</td>\n",
       "      <td>...</td>\n",
       "      <td>...</td>\n",
       "      <td>...</td>\n",
       "      <td>...</td>\n",
       "      <td>...</td>\n",
       "    </tr>\n",
       "    <tr>\n",
       "      <th>413</th>\n",
       "      <td>23.351346</td>\n",
       "      <td>1</td>\n",
       "      <td>0</td>\n",
       "      <td>0</td>\n",
       "      <td>1</td>\n",
       "      <td>8.05</td>\n",
       "      <td>0</td>\n",
       "      <td>0</td>\n",
       "      <td>1</td>\n",
       "      <td>0</td>\n",
       "      <td>...</td>\n",
       "      <td>1</td>\n",
       "      <td>0</td>\n",
       "      <td>1</td>\n",
       "      <td>0</td>\n",
       "      <td>0</td>\n",
       "      <td>0</td>\n",
       "      <td>1</td>\n",
       "      <td>0</td>\n",
       "      <td>0</td>\n",
       "      <td>0</td>\n",
       "    </tr>\n",
       "    <tr>\n",
       "      <th>414</th>\n",
       "      <td>39.000000</td>\n",
       "      <td>0</td>\n",
       "      <td>0</td>\n",
       "      <td>0</td>\n",
       "      <td>1</td>\n",
       "      <td>108.90</td>\n",
       "      <td>1</td>\n",
       "      <td>0</td>\n",
       "      <td>0</td>\n",
       "      <td>1</td>\n",
       "      <td>...</td>\n",
       "      <td>0</td>\n",
       "      <td>1</td>\n",
       "      <td>1</td>\n",
       "      <td>0</td>\n",
       "      <td>0</td>\n",
       "      <td>0</td>\n",
       "      <td>0</td>\n",
       "      <td>0</td>\n",
       "      <td>1</td>\n",
       "      <td>0</td>\n",
       "    </tr>\n",
       "    <tr>\n",
       "      <th>415</th>\n",
       "      <td>38.500000</td>\n",
       "      <td>1</td>\n",
       "      <td>0</td>\n",
       "      <td>0</td>\n",
       "      <td>1</td>\n",
       "      <td>7.25</td>\n",
       "      <td>0</td>\n",
       "      <td>0</td>\n",
       "      <td>1</td>\n",
       "      <td>0</td>\n",
       "      <td>...</td>\n",
       "      <td>0</td>\n",
       "      <td>1</td>\n",
       "      <td>1</td>\n",
       "      <td>0</td>\n",
       "      <td>0</td>\n",
       "      <td>0</td>\n",
       "      <td>1</td>\n",
       "      <td>0</td>\n",
       "      <td>0</td>\n",
       "      <td>0</td>\n",
       "    </tr>\n",
       "    <tr>\n",
       "      <th>416</th>\n",
       "      <td>23.351346</td>\n",
       "      <td>1</td>\n",
       "      <td>0</td>\n",
       "      <td>0</td>\n",
       "      <td>1</td>\n",
       "      <td>8.05</td>\n",
       "      <td>0</td>\n",
       "      <td>0</td>\n",
       "      <td>1</td>\n",
       "      <td>0</td>\n",
       "      <td>...</td>\n",
       "      <td>1</td>\n",
       "      <td>0</td>\n",
       "      <td>1</td>\n",
       "      <td>0</td>\n",
       "      <td>0</td>\n",
       "      <td>0</td>\n",
       "      <td>1</td>\n",
       "      <td>0</td>\n",
       "      <td>0</td>\n",
       "      <td>0</td>\n",
       "    </tr>\n",
       "    <tr>\n",
       "      <th>417</th>\n",
       "      <td>7.164157</td>\n",
       "      <td>1</td>\n",
       "      <td>1</td>\n",
       "      <td>1</td>\n",
       "      <td>0</td>\n",
       "      <td>7.45</td>\n",
       "      <td>0</td>\n",
       "      <td>0</td>\n",
       "      <td>1</td>\n",
       "      <td>1</td>\n",
       "      <td>...</td>\n",
       "      <td>0</td>\n",
       "      <td>1</td>\n",
       "      <td>0</td>\n",
       "      <td>0</td>\n",
       "      <td>1</td>\n",
       "      <td>0</td>\n",
       "      <td>1</td>\n",
       "      <td>0</td>\n",
       "      <td>0</td>\n",
       "      <td>0</td>\n",
       "    </tr>\n",
       "  </tbody>\n",
       "</table>\n",
       "<p>418 rows × 35 columns</p>\n",
       "</div>"
      ],
      "text/plain": [
       "           Age  Sex  SibSp  Parch  is_alone  ind_fare  Pclass_1  Pclass_2  \\\n",
       "0    34.500000    1      0      0         1      7.83         0         0   \n",
       "1    47.000000    0      1      0         0      3.50         0         0   \n",
       "2    62.000000    1      0      0         1      9.69         0         1   \n",
       "3    27.000000    1      0      0         1      8.66         0         0   \n",
       "4    22.000000    0      1      1         0      4.10         0         0   \n",
       "..         ...  ...    ...    ...       ...       ...       ...       ...   \n",
       "413  23.351346    1      0      0         1      8.05         0         0   \n",
       "414  39.000000    0      0      0         1    108.90         1         0   \n",
       "415  38.500000    1      0      0         1      7.25         0         0   \n",
       "416  23.351346    1      0      0         1      8.05         0         0   \n",
       "417   7.164157    1      1      1         0      7.45         0         0   \n",
       "\n",
       "     Pclass_3  Embarked_C  ...  nlength_Short  nlength_middle  \\\n",
       "0           1           0  ...              1               0   \n",
       "1           1           0  ...              0               1   \n",
       "2           0           0  ...              0               1   \n",
       "3           1           0  ...              1               0   \n",
       "4           1           0  ...              0               1   \n",
       "..        ...         ...  ...            ...             ...   \n",
       "413         1           0  ...              1               0   \n",
       "414         0           1  ...              0               1   \n",
       "415         1           0  ...              0               1   \n",
       "416         1           0  ...              1               0   \n",
       "417         1           1  ...              0               1   \n",
       "\n",
       "     Family_group_alone  Family_group_long  Family_group_short  \\\n",
       "0                     1                  0                   0   \n",
       "1                     0                  0                   1   \n",
       "2                     1                  0                   0   \n",
       "3                     1                  0                   0   \n",
       "4                     0                  0                   1   \n",
       "..                  ...                ...                 ...   \n",
       "413                   1                  0                   0   \n",
       "414                   1                  0                   0   \n",
       "415                   1                  0                   0   \n",
       "416                   1                  0                   0   \n",
       "417                   0                  0                   1   \n",
       "\n",
       "     fare_group_high  fare_group_low  fare_group_mid  fare_group_very_high  \\\n",
       "0                  0               1               0                     0   \n",
       "1                  0               0               0                     0   \n",
       "2                  0               1               0                     0   \n",
       "3                  0               1               0                     0   \n",
       "4                  0               1               0                     0   \n",
       "..               ...             ...             ...                   ...   \n",
       "413                0               1               0                     0   \n",
       "414                0               0               0                     1   \n",
       "415                0               1               0                     0   \n",
       "416                0               1               0                     0   \n",
       "417                0               1               0                     0   \n",
       "\n",
       "     fare_group_very_low  \n",
       "0                      0  \n",
       "1                      1  \n",
       "2                      0  \n",
       "3                      0  \n",
       "4                      0  \n",
       "..                   ...  \n",
       "413                    0  \n",
       "414                    0  \n",
       "415                    0  \n",
       "416                    0  \n",
       "417                    0  \n",
       "\n",
       "[418 rows x 35 columns]"
      ]
     },
     "execution_count": 274,
     "metadata": {},
     "output_type": "execute_result"
    }
   ],
   "source": [
    "from sklearn.ensemble import RandomForestRegressor\n",
    "\n",
    "def guess_age(data):\n",
    "    age_df = data.loc[:,\"Age\":] \n",
    "    \n",
    "    temp_train = age_df.loc[age_df.Age.notnull()]\n",
    "    temp_test = age_df.loc[age_df.Age.isnull()] \n",
    "    \n",
    "    y = temp_train.Age.values \n",
    "    x = temp_train.loc[:, \"Sex\":].values\n",
    "    \n",
    "    rfr = RandomForestRegressor(n_estimators = 1500, n_jobs = -1)\n",
    "    rfr.fit(x, y)\n",
    "    \n",
    "    predicted_age = rfr.predict(temp_test.loc[:, \"Sex\":])\n",
    "    \n",
    "    data.loc[data.Age.isnull(), \"Age\"] = predicted_age\n",
    "    \n",
    "    return data\n",
    "    \n",
    "guess_age(train_data)\n",
    "guess_age(test_data)"
   ]
  },
  {
   "cell_type": "code",
   "execution_count": 275,
   "id": "6f58ec54-cc68-44a4-add4-deae0fc80eef",
   "metadata": {},
   "outputs": [
    {
     "data": {
      "text/plain": [
       "<Axes: xlabel='Age', ylabel='Density'>"
      ]
     },
     "execution_count": 275,
     "metadata": {},
     "output_type": "execute_result"
    },
    {
     "data": {
      "image/png": "[encoded data removed]",
      "text/plain": [
       "<Figure size 900x600 with 1 Axes>"
      ]
     },
     "metadata": {},
     "output_type": "display_data"
    }
   ],
   "source": [
    "plt.subplots(figsize = (9,6),)\n",
    "\n",
    "sns.distplot(train_data['Age'], bins = 100, kde = True)"
   ]
  },
  {
   "cell_type": "code",
   "execution_count": 284,
   "id": "62bd3310-791f-4d68-8f26-3a3d1fb75d17",
   "metadata": {},
   "outputs": [],
   "source": [
    "def age_group(age):\n",
    "    \n",
    "    a = ''\n",
    "    if age <= 1:\n",
    "        a = 'infant'\n",
    "    elif age <= 4: \n",
    "        a = 'toddler'\n",
    "    elif age <= 13:\n",
    "        a = 'child'\n",
    "    elif age <= 18:\n",
    "        a = 'teenager'\n",
    "    elif age <= 35:\n",
    "        a = 'Young_Adult'\n",
    "    elif age <= 45:\n",
    "        a = 'adult'\n",
    "    elif age <= 55:\n",
    "        a = 'middle_aged'\n",
    "    elif age <= 65:\n",
    "        a = 'senior_citizen'\n",
    "    else:\n",
    "        a = 'old'\n",
    "    return a\n",
    "        \n",
    "    \n",
    "train_data['age_group'] = train_data['Age'].map(age_group)\n",
    "test_data['age_group'] = test_data['Age'].map(age_group)\n",
    "\n",
    "\n",
    "## Creating dummies for \"age_group\" feature. \n",
    "train_data = pd.get_dummies(train_data, columns = ['age_group'])\n",
    "test_data = pd.get_dummies(test_data, columns = ['age_group'])"
   ]
  },
  {
   "cell_type": "markdown",
   "id": "e4c98fc4-d984-470c-b5ca-26b428b87ea0",
   "metadata": {},
   "source": [
    "# Pre-Modeling Tasks"
   ]
  },
  {
   "cell_type": "markdown",
   "id": "a7f95b1a-7024-473a-bc8f-21118d01dffd",
   "metadata": {},
   "source": [
    "Before we apply any machine learning models, It is important to separate dependent and independent variables. Our dependent variable or target variable is something that we are trying to find, and our independent variable is the features we use to find the dependent variable. The way we use machine learning algorithm in a dataset is that we train our machine learning model by specifying independent variables and dependent variable. To specify them, we need to separate them from each other, and the code below does just that."
   ]
  },
  {
   "cell_type": "code",
   "execution_count": 285,
   "id": "ebb33f4b-25da-430c-b890-da005bd435cd",
   "metadata": {},
   "outputs": [],
   "source": [
    "X = train_data.drop(['Survived'], axis = 1)"
   ]
  },
  {
   "cell_type": "code",
   "execution_count": 286,
   "id": "c1c79e5a-2973-4aed-899b-bff9c95e3eaf",
   "metadata": {},
   "outputs": [],
   "source": [
    "Y = train_data['Survived']"
   ]
  },
  {
   "cell_type": "markdown",
   "id": "f7ba9f19-752d-4486-be5f-c4bf55222e20",
   "metadata": {},
   "source": [
    "# Splitting the training dataset"
   ]
  },
  {
   "cell_type": "markdown",
   "id": "049fce1a-d2b0-4061-b18f-d5f2832e6237",
   "metadata": {
    "tags": []
   },
   "source": [
    "There are multiple ways to split the training dataset:\n",
    "\n",
    "\n",
    "* Train - Test Split\n",
    "* Cross Validation"
   ]
  },
  {
   "cell_type": "code",
   "execution_count": 287,
   "id": "3a33c72b-4b25-4815-9c23-42aa633f2be7",
   "metadata": {
    "tags": []
   },
   "outputs": [],
   "source": [
    "from sklearn.model_selection import train_test_split\n",
    "X_train, X_test, Y_train, Y_test = train_test_split(X, Y, test_size = 0.30, random_state = 0)"
   ]
  },
  {
   "cell_type": "code",
   "execution_count": 288,
   "id": "01711be1-dc7e-492d-b3e9-1a362afbb326",
   "metadata": {
    "tags": []
   },
   "outputs": [
    {
     "data": {
      "text/html": [
       "<div>\n",
       "<style scoped>\n",
       "    .dataframe tbody tr th:only-of-type {\n",
       "        vertical-align: middle;\n",
       "    }\n",
       "\n",
       "    .dataframe tbody tr th {\n",
       "        vertical-align: top;\n",
       "    }\n",
       "\n",
       "    .dataframe thead th {\n",
       "        text-align: right;\n",
       "    }\n",
       "</style>\n",
       "<table border=\"1\" class=\"dataframe\">\n",
       "  <thead>\n",
       "    <tr style=\"text-align: right;\">\n",
       "      <th></th>\n",
       "      <th>Age</th>\n",
       "      <th>Sex</th>\n",
       "      <th>SibSp</th>\n",
       "      <th>Parch</th>\n",
       "      <th>is_alone</th>\n",
       "      <th>ind_fare</th>\n",
       "      <th>Pclass_1</th>\n",
       "      <th>Pclass_2</th>\n",
       "      <th>Pclass_3</th>\n",
       "      <th>Embarked_C</th>\n",
       "      <th>...</th>\n",
       "      <th>age_group_toddler</th>\n",
       "      <th>age_group_Young_Adult</th>\n",
       "      <th>age_group_adult</th>\n",
       "      <th>age_group_child</th>\n",
       "      <th>age_group_infant</th>\n",
       "      <th>age_group_middle_aged</th>\n",
       "      <th>age_group_old</th>\n",
       "      <th>age_group_senior_citizen</th>\n",
       "      <th>age_group_teenager</th>\n",
       "      <th>age_group_toddler</th>\n",
       "    </tr>\n",
       "  </thead>\n",
       "  <tbody>\n",
       "    <tr>\n",
       "      <th>351</th>\n",
       "      <td>47.394267</td>\n",
       "      <td>1</td>\n",
       "      <td>0</td>\n",
       "      <td>0</td>\n",
       "      <td>1</td>\n",
       "      <td>35.00</td>\n",
       "      <td>1</td>\n",
       "      <td>0</td>\n",
       "      <td>0</td>\n",
       "      <td>0</td>\n",
       "      <td>...</td>\n",
       "      <td>0</td>\n",
       "      <td>0</td>\n",
       "      <td>0</td>\n",
       "      <td>0</td>\n",
       "      <td>0</td>\n",
       "      <td>1</td>\n",
       "      <td>0</td>\n",
       "      <td>0</td>\n",
       "      <td>0</td>\n",
       "      <td>0</td>\n",
       "    </tr>\n",
       "    <tr>\n",
       "      <th>124</th>\n",
       "      <td>54.000000</td>\n",
       "      <td>1</td>\n",
       "      <td>0</td>\n",
       "      <td>1</td>\n",
       "      <td>0</td>\n",
       "      <td>38.64</td>\n",
       "      <td>1</td>\n",
       "      <td>0</td>\n",
       "      <td>0</td>\n",
       "      <td>0</td>\n",
       "      <td>...</td>\n",
       "      <td>0</td>\n",
       "      <td>0</td>\n",
       "      <td>0</td>\n",
       "      <td>0</td>\n",
       "      <td>0</td>\n",
       "      <td>1</td>\n",
       "      <td>0</td>\n",
       "      <td>0</td>\n",
       "      <td>0</td>\n",
       "      <td>0</td>\n",
       "    </tr>\n",
       "    <tr>\n",
       "      <th>578</th>\n",
       "      <td>23.509159</td>\n",
       "      <td>0</td>\n",
       "      <td>1</td>\n",
       "      <td>0</td>\n",
       "      <td>0</td>\n",
       "      <td>7.23</td>\n",
       "      <td>0</td>\n",
       "      <td>0</td>\n",
       "      <td>1</td>\n",
       "      <td>1</td>\n",
       "      <td>...</td>\n",
       "      <td>0</td>\n",
       "      <td>1</td>\n",
       "      <td>0</td>\n",
       "      <td>0</td>\n",
       "      <td>0</td>\n",
       "      <td>0</td>\n",
       "      <td>0</td>\n",
       "      <td>0</td>\n",
       "      <td>0</td>\n",
       "      <td>0</td>\n",
       "    </tr>\n",
       "    <tr>\n",
       "      <th>423</th>\n",
       "      <td>28.000000</td>\n",
       "      <td>0</td>\n",
       "      <td>1</td>\n",
       "      <td>1</td>\n",
       "      <td>0</td>\n",
       "      <td>4.80</td>\n",
       "      <td>0</td>\n",
       "      <td>0</td>\n",
       "      <td>1</td>\n",
       "      <td>0</td>\n",
       "      <td>...</td>\n",
       "      <td>0</td>\n",
       "      <td>1</td>\n",
       "      <td>0</td>\n",
       "      <td>0</td>\n",
       "      <td>0</td>\n",
       "      <td>0</td>\n",
       "      <td>0</td>\n",
       "      <td>0</td>\n",
       "      <td>0</td>\n",
       "      <td>0</td>\n",
       "    </tr>\n",
       "    <tr>\n",
       "      <th>118</th>\n",
       "      <td>24.000000</td>\n",
       "      <td>1</td>\n",
       "      <td>0</td>\n",
       "      <td>1</td>\n",
       "      <td>0</td>\n",
       "      <td>123.76</td>\n",
       "      <td>1</td>\n",
       "      <td>0</td>\n",
       "      <td>0</td>\n",
       "      <td>1</td>\n",
       "      <td>...</td>\n",
       "      <td>0</td>\n",
       "      <td>1</td>\n",
       "      <td>0</td>\n",
       "      <td>0</td>\n",
       "      <td>0</td>\n",
       "      <td>0</td>\n",
       "      <td>0</td>\n",
       "      <td>0</td>\n",
       "      <td>0</td>\n",
       "      <td>0</td>\n",
       "    </tr>\n",
       "    <tr>\n",
       "      <th>...</th>\n",
       "      <td>...</td>\n",
       "      <td>...</td>\n",
       "      <td>...</td>\n",
       "      <td>...</td>\n",
       "      <td>...</td>\n",
       "      <td>...</td>\n",
       "      <td>...</td>\n",
       "      <td>...</td>\n",
       "      <td>...</td>\n",
       "      <td>...</td>\n",
       "      <td>...</td>\n",
       "      <td>...</td>\n",
       "      <td>...</td>\n",
       "      <td>...</td>\n",
       "      <td>...</td>\n",
       "      <td>...</td>\n",
       "      <td>...</td>\n",
       "      <td>...</td>\n",
       "      <td>...</td>\n",
       "      <td>...</td>\n",
       "      <td>...</td>\n",
       "    </tr>\n",
       "    <tr>\n",
       "      <th>838</th>\n",
       "      <td>32.000000</td>\n",
       "      <td>1</td>\n",
       "      <td>0</td>\n",
       "      <td>0</td>\n",
       "      <td>1</td>\n",
       "      <td>56.50</td>\n",
       "      <td>0</td>\n",
       "      <td>0</td>\n",
       "      <td>1</td>\n",
       "      <td>0</td>\n",
       "      <td>...</td>\n",
       "      <td>0</td>\n",
       "      <td>1</td>\n",
       "      <td>0</td>\n",
       "      <td>0</td>\n",
       "      <td>0</td>\n",
       "      <td>0</td>\n",
       "      <td>0</td>\n",
       "      <td>0</td>\n",
       "      <td>0</td>\n",
       "      <td>0</td>\n",
       "    </tr>\n",
       "    <tr>\n",
       "      <th>192</th>\n",
       "      <td>19.000000</td>\n",
       "      <td>0</td>\n",
       "      <td>1</td>\n",
       "      <td>0</td>\n",
       "      <td>0</td>\n",
       "      <td>3.93</td>\n",
       "      <td>0</td>\n",
       "      <td>0</td>\n",
       "      <td>1</td>\n",
       "      <td>0</td>\n",
       "      <td>...</td>\n",
       "      <td>0</td>\n",
       "      <td>1</td>\n",
       "      <td>0</td>\n",
       "      <td>0</td>\n",
       "      <td>0</td>\n",
       "      <td>0</td>\n",
       "      <td>0</td>\n",
       "      <td>0</td>\n",
       "      <td>0</td>\n",
       "      <td>0</td>\n",
       "    </tr>\n",
       "    <tr>\n",
       "      <th>630</th>\n",
       "      <td>80.000000</td>\n",
       "      <td>1</td>\n",
       "      <td>0</td>\n",
       "      <td>0</td>\n",
       "      <td>1</td>\n",
       "      <td>30.00</td>\n",
       "      <td>1</td>\n",
       "      <td>0</td>\n",
       "      <td>0</td>\n",
       "      <td>0</td>\n",
       "      <td>...</td>\n",
       "      <td>0</td>\n",
       "      <td>0</td>\n",
       "      <td>0</td>\n",
       "      <td>0</td>\n",
       "      <td>0</td>\n",
       "      <td>0</td>\n",
       "      <td>1</td>\n",
       "      <td>0</td>\n",
       "      <td>0</td>\n",
       "      <td>0</td>\n",
       "    </tr>\n",
       "    <tr>\n",
       "      <th>560</th>\n",
       "      <td>42.861426</td>\n",
       "      <td>1</td>\n",
       "      <td>0</td>\n",
       "      <td>0</td>\n",
       "      <td>1</td>\n",
       "      <td>7.75</td>\n",
       "      <td>0</td>\n",
       "      <td>0</td>\n",
       "      <td>1</td>\n",
       "      <td>0</td>\n",
       "      <td>...</td>\n",
       "      <td>0</td>\n",
       "      <td>0</td>\n",
       "      <td>1</td>\n",
       "      <td>0</td>\n",
       "      <td>0</td>\n",
       "      <td>0</td>\n",
       "      <td>0</td>\n",
       "      <td>0</td>\n",
       "      <td>0</td>\n",
       "      <td>0</td>\n",
       "    </tr>\n",
       "    <tr>\n",
       "      <th>686</th>\n",
       "      <td>14.000000</td>\n",
       "      <td>1</td>\n",
       "      <td>4</td>\n",
       "      <td>1</td>\n",
       "      <td>0</td>\n",
       "      <td>6.61</td>\n",
       "      <td>0</td>\n",
       "      <td>0</td>\n",
       "      <td>1</td>\n",
       "      <td>0</td>\n",
       "      <td>...</td>\n",
       "      <td>0</td>\n",
       "      <td>0</td>\n",
       "      <td>0</td>\n",
       "      <td>0</td>\n",
       "      <td>0</td>\n",
       "      <td>0</td>\n",
       "      <td>0</td>\n",
       "      <td>0</td>\n",
       "      <td>1</td>\n",
       "      <td>0</td>\n",
       "    </tr>\n",
       "  </tbody>\n",
       "</table>\n",
       "<p>621 rows × 53 columns</p>\n",
       "</div>"
      ],
      "text/plain": [
       "           Age  Sex  SibSp  Parch  is_alone  ind_fare  Pclass_1  Pclass_2  \\\n",
       "351  47.394267    1      0      0         1     35.00         1         0   \n",
       "124  54.000000    1      0      1         0     38.64         1         0   \n",
       "578  23.509159    0      1      0         0      7.23         0         0   \n",
       "423  28.000000    0      1      1         0      4.80         0         0   \n",
       "118  24.000000    1      0      1         0    123.76         1         0   \n",
       "..         ...  ...    ...    ...       ...       ...       ...       ...   \n",
       "838  32.000000    1      0      0         1     56.50         0         0   \n",
       "192  19.000000    0      1      0         0      3.93         0         0   \n",
       "630  80.000000    1      0      0         1     30.00         1         0   \n",
       "560  42.861426    1      0      0         1      7.75         0         0   \n",
       "686  14.000000    1      4      1         0      6.61         0         0   \n",
       "\n",
       "     Pclass_3  Embarked_C  ...  age_group_toddler  age_group_Young_Adult  \\\n",
       "351         0           0  ...                  0                      0   \n",
       "124         0           0  ...                  0                      0   \n",
       "578         1           1  ...                  0                      1   \n",
       "423         1           0  ...                  0                      1   \n",
       "118         0           1  ...                  0                      1   \n",
       "..        ...         ...  ...                ...                    ...   \n",
       "838         1           0  ...                  0                      1   \n",
       "192         1           0  ...                  0                      1   \n",
       "630         0           0  ...                  0                      0   \n",
       "560         1           0  ...                  0                      0   \n",
       "686         1           0  ...                  0                      0   \n",
       "\n",
       "     age_group_adult  age_group_child  age_group_infant  \\\n",
       "351                0                0                 0   \n",
       "124                0                0                 0   \n",
       "578                0                0                 0   \n",
       "423                0                0                 0   \n",
       "118                0                0                 0   \n",
       "..               ...              ...               ...   \n",
       "838                0                0                 0   \n",
       "192                0                0                 0   \n",
       "630                0                0                 0   \n",
       "560                1                0                 0   \n",
       "686                0                0                 0   \n",
       "\n",
       "     age_group_middle_aged  age_group_old  age_group_senior_citizen  \\\n",
       "351                      1              0                         0   \n",
       "124                      1              0                         0   \n",
       "578                      0              0                         0   \n",
       "423                      0              0                         0   \n",
       "118                      0              0                         0   \n",
       "..                     ...            ...                       ...   \n",
       "838                      0              0                         0   \n",
       "192                      0              0                         0   \n",
       "630                      0              1                         0   \n",
       "560                      0              0                         0   \n",
       "686                      0              0                         0   \n",
       "\n",
       "     age_group_teenager  age_group_toddler  \n",
       "351                   0                  0  \n",
       "124                   0                  0  \n",
       "578                   0                  0  \n",
       "423                   0                  0  \n",
       "118                   0                  0  \n",
       "..                  ...                ...  \n",
       "838                   0                  0  \n",
       "192                   0                  0  \n",
       "630                   0                  0  \n",
       "560                   0                  0  \n",
       "686                   1                  0  \n",
       "\n",
       "[621 rows x 53 columns]"
      ]
     },
     "execution_count": 288,
     "metadata": {},
     "output_type": "execute_result"
    }
   ],
   "source": [
    "X_train"
   ]
  },
  {
   "cell_type": "code",
   "execution_count": 289,
   "id": "340ea6d8-6991-42b9-8fd1-fc39c7c1b7fb",
   "metadata": {
    "tags": []
   },
   "outputs": [
    {
     "data": {
      "text/html": [
       "<div>\n",
       "<style scoped>\n",
       "    .dataframe tbody tr th:only-of-type {\n",
       "        vertical-align: middle;\n",
       "    }\n",
       "\n",
       "    .dataframe tbody tr th {\n",
       "        vertical-align: top;\n",
       "    }\n",
       "\n",
       "    .dataframe thead th {\n",
       "        text-align: right;\n",
       "    }\n",
       "</style>\n",
       "<table border=\"1\" class=\"dataframe\">\n",
       "  <thead>\n",
       "    <tr style=\"text-align: right;\">\n",
       "      <th></th>\n",
       "      <th>Age</th>\n",
       "      <th>Sex</th>\n",
       "      <th>SibSp</th>\n",
       "      <th>Parch</th>\n",
       "      <th>is_alone</th>\n",
       "      <th>ind_fare</th>\n",
       "      <th>Pclass_1</th>\n",
       "      <th>Pclass_2</th>\n",
       "      <th>Pclass_3</th>\n",
       "      <th>Embarked_C</th>\n",
       "      <th>...</th>\n",
       "      <th>age_group_toddler</th>\n",
       "      <th>age_group_Young_Adult</th>\n",
       "      <th>age_group_adult</th>\n",
       "      <th>age_group_child</th>\n",
       "      <th>age_group_infant</th>\n",
       "      <th>age_group_middle_aged</th>\n",
       "      <th>age_group_old</th>\n",
       "      <th>age_group_senior_citizen</th>\n",
       "      <th>age_group_teenager</th>\n",
       "      <th>age_group_toddler</th>\n",
       "    </tr>\n",
       "  </thead>\n",
       "  <tbody>\n",
       "    <tr>\n",
       "      <th>14</th>\n",
       "      <td>14.000000</td>\n",
       "      <td>0</td>\n",
       "      <td>0</td>\n",
       "      <td>0</td>\n",
       "      <td>1</td>\n",
       "      <td>7.85</td>\n",
       "      <td>0</td>\n",
       "      <td>0</td>\n",
       "      <td>1</td>\n",
       "      <td>0</td>\n",
       "      <td>...</td>\n",
       "      <td>0</td>\n",
       "      <td>0</td>\n",
       "      <td>0</td>\n",
       "      <td>0</td>\n",
       "      <td>0</td>\n",
       "      <td>0</td>\n",
       "      <td>0</td>\n",
       "      <td>0</td>\n",
       "      <td>1</td>\n",
       "      <td>0</td>\n",
       "    </tr>\n",
       "    <tr>\n",
       "      <th>158</th>\n",
       "      <td>24.852095</td>\n",
       "      <td>1</td>\n",
       "      <td>0</td>\n",
       "      <td>0</td>\n",
       "      <td>1</td>\n",
       "      <td>8.66</td>\n",
       "      <td>0</td>\n",
       "      <td>0</td>\n",
       "      <td>1</td>\n",
       "      <td>0</td>\n",
       "      <td>...</td>\n",
       "      <td>0</td>\n",
       "      <td>1</td>\n",
       "      <td>0</td>\n",
       "      <td>0</td>\n",
       "      <td>0</td>\n",
       "      <td>0</td>\n",
       "      <td>0</td>\n",
       "      <td>0</td>\n",
       "      <td>0</td>\n",
       "      <td>0</td>\n",
       "    </tr>\n",
       "    <tr>\n",
       "      <th>765</th>\n",
       "      <td>51.000000</td>\n",
       "      <td>0</td>\n",
       "      <td>1</td>\n",
       "      <td>0</td>\n",
       "      <td>0</td>\n",
       "      <td>38.98</td>\n",
       "      <td>1</td>\n",
       "      <td>0</td>\n",
       "      <td>0</td>\n",
       "      <td>0</td>\n",
       "      <td>...</td>\n",
       "      <td>0</td>\n",
       "      <td>0</td>\n",
       "      <td>0</td>\n",
       "      <td>0</td>\n",
       "      <td>0</td>\n",
       "      <td>1</td>\n",
       "      <td>0</td>\n",
       "      <td>0</td>\n",
       "      <td>0</td>\n",
       "      <td>0</td>\n",
       "    </tr>\n",
       "    <tr>\n",
       "      <th>743</th>\n",
       "      <td>24.000000</td>\n",
       "      <td>1</td>\n",
       "      <td>1</td>\n",
       "      <td>0</td>\n",
       "      <td>0</td>\n",
       "      <td>8.05</td>\n",
       "      <td>0</td>\n",
       "      <td>0</td>\n",
       "      <td>1</td>\n",
       "      <td>0</td>\n",
       "      <td>...</td>\n",
       "      <td>0</td>\n",
       "      <td>1</td>\n",
       "      <td>0</td>\n",
       "      <td>0</td>\n",
       "      <td>0</td>\n",
       "      <td>0</td>\n",
       "      <td>0</td>\n",
       "      <td>0</td>\n",
       "      <td>0</td>\n",
       "      <td>0</td>\n",
       "    </tr>\n",
       "    <tr>\n",
       "      <th>483</th>\n",
       "      <td>63.000000</td>\n",
       "      <td>0</td>\n",
       "      <td>0</td>\n",
       "      <td>0</td>\n",
       "      <td>1</td>\n",
       "      <td>9.59</td>\n",
       "      <td>0</td>\n",
       "      <td>0</td>\n",
       "      <td>1</td>\n",
       "      <td>0</td>\n",
       "      <td>...</td>\n",
       "      <td>0</td>\n",
       "      <td>0</td>\n",
       "      <td>0</td>\n",
       "      <td>0</td>\n",
       "      <td>0</td>\n",
       "      <td>0</td>\n",
       "      <td>0</td>\n",
       "      <td>1</td>\n",
       "      <td>0</td>\n",
       "      <td>0</td>\n",
       "    </tr>\n",
       "    <tr>\n",
       "      <th>...</th>\n",
       "      <td>...</td>\n",
       "      <td>...</td>\n",
       "      <td>...</td>\n",
       "      <td>...</td>\n",
       "      <td>...</td>\n",
       "      <td>...</td>\n",
       "      <td>...</td>\n",
       "      <td>...</td>\n",
       "      <td>...</td>\n",
       "      <td>...</td>\n",
       "      <td>...</td>\n",
       "      <td>...</td>\n",
       "      <td>...</td>\n",
       "      <td>...</td>\n",
       "      <td>...</td>\n",
       "      <td>...</td>\n",
       "      <td>...</td>\n",
       "      <td>...</td>\n",
       "      <td>...</td>\n",
       "      <td>...</td>\n",
       "      <td>...</td>\n",
       "    </tr>\n",
       "    <tr>\n",
       "      <th>620</th>\n",
       "      <td>27.000000</td>\n",
       "      <td>1</td>\n",
       "      <td>1</td>\n",
       "      <td>0</td>\n",
       "      <td>0</td>\n",
       "      <td>7.23</td>\n",
       "      <td>0</td>\n",
       "      <td>0</td>\n",
       "      <td>1</td>\n",
       "      <td>1</td>\n",
       "      <td>...</td>\n",
       "      <td>0</td>\n",
       "      <td>1</td>\n",
       "      <td>0</td>\n",
       "      <td>0</td>\n",
       "      <td>0</td>\n",
       "      <td>0</td>\n",
       "      <td>0</td>\n",
       "      <td>0</td>\n",
       "      <td>0</td>\n",
       "      <td>0</td>\n",
       "    </tr>\n",
       "    <tr>\n",
       "      <th>822</th>\n",
       "      <td>38.000000</td>\n",
       "      <td>1</td>\n",
       "      <td>0</td>\n",
       "      <td>0</td>\n",
       "      <td>1</td>\n",
       "      <td>0.00</td>\n",
       "      <td>1</td>\n",
       "      <td>0</td>\n",
       "      <td>0</td>\n",
       "      <td>0</td>\n",
       "      <td>...</td>\n",
       "      <td>0</td>\n",
       "      <td>0</td>\n",
       "      <td>1</td>\n",
       "      <td>0</td>\n",
       "      <td>0</td>\n",
       "      <td>0</td>\n",
       "      <td>0</td>\n",
       "      <td>0</td>\n",
       "      <td>0</td>\n",
       "      <td>0</td>\n",
       "    </tr>\n",
       "    <tr>\n",
       "      <th>64</th>\n",
       "      <td>35.990378</td>\n",
       "      <td>1</td>\n",
       "      <td>0</td>\n",
       "      <td>0</td>\n",
       "      <td>1</td>\n",
       "      <td>27.72</td>\n",
       "      <td>1</td>\n",
       "      <td>0</td>\n",
       "      <td>0</td>\n",
       "      <td>1</td>\n",
       "      <td>...</td>\n",
       "      <td>0</td>\n",
       "      <td>0</td>\n",
       "      <td>1</td>\n",
       "      <td>0</td>\n",
       "      <td>0</td>\n",
       "      <td>0</td>\n",
       "      <td>0</td>\n",
       "      <td>0</td>\n",
       "      <td>0</td>\n",
       "      <td>0</td>\n",
       "    </tr>\n",
       "    <tr>\n",
       "      <th>884</th>\n",
       "      <td>25.000000</td>\n",
       "      <td>1</td>\n",
       "      <td>0</td>\n",
       "      <td>0</td>\n",
       "      <td>1</td>\n",
       "      <td>7.05</td>\n",
       "      <td>0</td>\n",
       "      <td>0</td>\n",
       "      <td>1</td>\n",
       "      <td>0</td>\n",
       "      <td>...</td>\n",
       "      <td>0</td>\n",
       "      <td>1</td>\n",
       "      <td>0</td>\n",
       "      <td>0</td>\n",
       "      <td>0</td>\n",
       "      <td>0</td>\n",
       "      <td>0</td>\n",
       "      <td>0</td>\n",
       "      <td>0</td>\n",
       "      <td>0</td>\n",
       "    </tr>\n",
       "    <tr>\n",
       "      <th>52</th>\n",
       "      <td>49.000000</td>\n",
       "      <td>0</td>\n",
       "      <td>1</td>\n",
       "      <td>0</td>\n",
       "      <td>0</td>\n",
       "      <td>38.36</td>\n",
       "      <td>1</td>\n",
       "      <td>0</td>\n",
       "      <td>0</td>\n",
       "      <td>1</td>\n",
       "      <td>...</td>\n",
       "      <td>0</td>\n",
       "      <td>0</td>\n",
       "      <td>0</td>\n",
       "      <td>0</td>\n",
       "      <td>0</td>\n",
       "      <td>1</td>\n",
       "      <td>0</td>\n",
       "      <td>0</td>\n",
       "      <td>0</td>\n",
       "      <td>0</td>\n",
       "    </tr>\n",
       "  </tbody>\n",
       "</table>\n",
       "<p>267 rows × 53 columns</p>\n",
       "</div>"
      ],
      "text/plain": [
       "           Age  Sex  SibSp  Parch  is_alone  ind_fare  Pclass_1  Pclass_2  \\\n",
       "14   14.000000    0      0      0         1      7.85         0         0   \n",
       "158  24.852095    1      0      0         1      8.66         0         0   \n",
       "765  51.000000    0      1      0         0     38.98         1         0   \n",
       "743  24.000000    1      1      0         0      8.05         0         0   \n",
       "483  63.000000    0      0      0         1      9.59         0         0   \n",
       "..         ...  ...    ...    ...       ...       ...       ...       ...   \n",
       "620  27.000000    1      1      0         0      7.23         0         0   \n",
       "822  38.000000    1      0      0         1      0.00         1         0   \n",
       "64   35.990378    1      0      0         1     27.72         1         0   \n",
       "884  25.000000    1      0      0         1      7.05         0         0   \n",
       "52   49.000000    0      1      0         0     38.36         1         0   \n",
       "\n",
       "     Pclass_3  Embarked_C  ...  age_group_toddler  age_group_Young_Adult  \\\n",
       "14          1           0  ...                  0                      0   \n",
       "158         1           0  ...                  0                      1   \n",
       "765         0           0  ...                  0                      0   \n",
       "743         1           0  ...                  0                      1   \n",
       "483         1           0  ...                  0                      0   \n",
       "..        ...         ...  ...                ...                    ...   \n",
       "620         1           1  ...                  0                      1   \n",
       "822         0           0  ...                  0                      0   \n",
       "64          0           1  ...                  0                      0   \n",
       "884         1           0  ...                  0                      1   \n",
       "52          0           1  ...                  0                      0   \n",
       "\n",
       "     age_group_adult  age_group_child  age_group_infant  \\\n",
       "14                 0                0                 0   \n",
       "158                0                0                 0   \n",
       "765                0                0                 0   \n",
       "743                0                0                 0   \n",
       "483                0                0                 0   \n",
       "..               ...              ...               ...   \n",
       "620                0                0                 0   \n",
       "822                1                0                 0   \n",
       "64                 1                0                 0   \n",
       "884                0                0                 0   \n",
       "52                 0                0                 0   \n",
       "\n",
       "     age_group_middle_aged  age_group_old  age_group_senior_citizen  \\\n",
       "14                       0              0                         0   \n",
       "158                      0              0                         0   \n",
       "765                      1              0                         0   \n",
       "743                      0              0                         0   \n",
       "483                      0              0                         1   \n",
       "..                     ...            ...                       ...   \n",
       "620                      0              0                         0   \n",
       "822                      0              0                         0   \n",
       "64                       0              0                         0   \n",
       "884                      0              0                         0   \n",
       "52                       1              0                         0   \n",
       "\n",
       "     age_group_teenager  age_group_toddler  \n",
       "14                    1                  0  \n",
       "158                   0                  0  \n",
       "765                   0                  0  \n",
       "743                   0                  0  \n",
       "483                   0                  0  \n",
       "..                  ...                ...  \n",
       "620                   0                  0  \n",
       "822                   0                  0  \n",
       "64                    0                  0  \n",
       "884                   0                  0  \n",
       "52                    0                  0  \n",
       "\n",
       "[267 rows x 53 columns]"
      ]
     },
     "execution_count": 289,
     "metadata": {},
     "output_type": "execute_result"
    }
   ],
   "source": [
    "X_test"
   ]
  },
  {
   "cell_type": "markdown",
   "id": "dd225d1c-a715-41b8-a60f-72e7ad183096",
   "metadata": {},
   "source": [
    "# Feature Scaling"
   ]
  },
  {
   "cell_type": "markdown",
   "id": "a9ff89ef-0de0-4a7b-8ecc-b23a8e0f481c",
   "metadata": {},
   "source": [
    "Here Age and Calculated_fare is much higher in magnitude compared to others machine learning features. This can create problems as many machine learning models will get confused thinking Age and Calculated_fare have higher weight than other features. Therefore, we need to do feature scaling to get a better result."
   ]
  },
  {
   "cell_type": "code",
   "execution_count": 290,
   "id": "bb16b393-d31c-4cd4-b804-351b2ef7667c",
   "metadata": {
    "tags": []
   },
   "outputs": [],
   "source": [
    "col_head = X_train.columns"
   ]
  },
  {
   "cell_type": "code",
   "execution_count": 291,
   "id": "86864daa-cf57-4841-9692-a4a8204611cf",
   "metadata": {
    "tags": []
   },
   "outputs": [],
   "source": [
    "from sklearn.preprocessing import StandardScaler\n",
    "\n",
    "scaler = StandardScaler()\n",
    "\n",
    "X_train = scaler.fit_transform(X_train)\n",
    "X_test = scaler.transform(X_test)"
   ]
  },
  {
   "cell_type": "code",
   "execution_count": 292,
   "id": "dc460042-5a15-44a6-bd47-6949c5e262e4",
   "metadata": {
    "tags": []
   },
   "outputs": [
    {
     "data": {
      "text/plain": [
       "array([[ 1.28250816,  0.71995653, -0.4664246 , ..., -0.19164519,\n",
       "        -0.2795085 , -0.19164519],\n",
       "       [ 1.75513102,  0.71995653, -0.4664246 , ..., -0.19164519,\n",
       "        -0.2795085 , -0.19164519],\n",
       "       [-0.42640855, -1.38897274,  0.36114591, ..., -0.19164519,\n",
       "        -0.2795085 , -0.19164519],\n",
       "       ...,\n",
       "       [ 3.6153627 ,  0.71995653, -0.4664246 , ..., -0.19164519,\n",
       "        -0.2795085 , -0.19164519],\n",
       "       [ 0.95819534,  0.71995653, -0.4664246 , ..., -0.19164519,\n",
       "        -0.2795085 , -0.19164519],\n",
       "       [-1.10676387,  0.71995653,  2.84385744, ..., -0.19164519,\n",
       "         3.57770876, -0.19164519]])"
      ]
     },
     "execution_count": 292,
     "metadata": {},
     "output_type": "execute_result"
    }
   ],
   "source": [
    "X_train"
   ]
  },
  {
   "cell_type": "code",
   "execution_count": 293,
   "id": "4890a14b-cd58-4af2-938f-7f943331e723",
   "metadata": {
    "tags": []
   },
   "outputs": [
    {
     "data": {
      "text/html": [
       "<div>\n",
       "<style scoped>\n",
       "    .dataframe tbody tr th:only-of-type {\n",
       "        vertical-align: middle;\n",
       "    }\n",
       "\n",
       "    .dataframe tbody tr th {\n",
       "        vertical-align: top;\n",
       "    }\n",
       "\n",
       "    .dataframe thead th {\n",
       "        text-align: right;\n",
       "    }\n",
       "</style>\n",
       "<table border=\"1\" class=\"dataframe\">\n",
       "  <thead>\n",
       "    <tr style=\"text-align: right;\">\n",
       "      <th></th>\n",
       "      <th>Age</th>\n",
       "      <th>Sex</th>\n",
       "      <th>SibSp</th>\n",
       "      <th>Parch</th>\n",
       "      <th>is_alone</th>\n",
       "      <th>ind_fare</th>\n",
       "      <th>Pclass_1</th>\n",
       "      <th>Pclass_2</th>\n",
       "      <th>Pclass_3</th>\n",
       "      <th>Embarked_C</th>\n",
       "      <th>...</th>\n",
       "      <th>age_group_toddler</th>\n",
       "      <th>age_group_Young_Adult</th>\n",
       "      <th>age_group_adult</th>\n",
       "      <th>age_group_child</th>\n",
       "      <th>age_group_infant</th>\n",
       "      <th>age_group_middle_aged</th>\n",
       "      <th>age_group_old</th>\n",
       "      <th>age_group_senior_citizen</th>\n",
       "      <th>age_group_teenager</th>\n",
       "      <th>age_group_toddler</th>\n",
       "    </tr>\n",
       "  </thead>\n",
       "  <tbody>\n",
       "    <tr>\n",
       "      <th>0</th>\n",
       "      <td>1.282508</td>\n",
       "      <td>0.719957</td>\n",
       "      <td>-0.466425</td>\n",
       "      <td>-0.466105</td>\n",
       "      <td>0.799076</td>\n",
       "      <td>0.596631</td>\n",
       "      <td>1.779827</td>\n",
       "      <td>-0.514554</td>\n",
       "      <td>-1.107161</td>\n",
       "      <td>-0.471636</td>\n",
       "      <td>...</td>\n",
       "      <td>-0.191645</td>\n",
       "      <td>-1.041102</td>\n",
       "      <td>-0.451097</td>\n",
       "      <td>-0.248069</td>\n",
       "      <td>-0.114239</td>\n",
       "      <td>3.273680</td>\n",
       "      <td>-0.106774</td>\n",
       "      <td>-0.191645</td>\n",
       "      <td>-0.279508</td>\n",
       "      <td>-0.191645</td>\n",
       "    </tr>\n",
       "    <tr>\n",
       "      <th>1</th>\n",
       "      <td>1.755131</td>\n",
       "      <td>0.719957</td>\n",
       "      <td>-0.466425</td>\n",
       "      <td>0.710526</td>\n",
       "      <td>-1.251445</td>\n",
       "      <td>0.731892</td>\n",
       "      <td>1.779827</td>\n",
       "      <td>-0.514554</td>\n",
       "      <td>-1.107161</td>\n",
       "      <td>-0.471636</td>\n",
       "      <td>...</td>\n",
       "      <td>-0.191645</td>\n",
       "      <td>-1.041102</td>\n",
       "      <td>-0.451097</td>\n",
       "      <td>-0.248069</td>\n",
       "      <td>-0.114239</td>\n",
       "      <td>3.273680</td>\n",
       "      <td>-0.106774</td>\n",
       "      <td>-0.191645</td>\n",
       "      <td>-0.279508</td>\n",
       "      <td>-0.191645</td>\n",
       "    </tr>\n",
       "    <tr>\n",
       "      <th>2</th>\n",
       "      <td>-0.426409</td>\n",
       "      <td>-1.388973</td>\n",
       "      <td>0.361146</td>\n",
       "      <td>-0.466105</td>\n",
       "      <td>-1.251445</td>\n",
       "      <td>-0.435288</td>\n",
       "      <td>-0.561852</td>\n",
       "      <td>-0.514554</td>\n",
       "      <td>0.903211</td>\n",
       "      <td>2.120277</td>\n",
       "      <td>...</td>\n",
       "      <td>-0.191645</td>\n",
       "      <td>0.960521</td>\n",
       "      <td>-0.451097</td>\n",
       "      <td>-0.248069</td>\n",
       "      <td>-0.114239</td>\n",
       "      <td>-0.305467</td>\n",
       "      <td>-0.106774</td>\n",
       "      <td>-0.191645</td>\n",
       "      <td>-0.279508</td>\n",
       "      <td>-0.191645</td>\n",
       "    </tr>\n",
       "    <tr>\n",
       "      <th>3</th>\n",
       "      <td>-0.105101</td>\n",
       "      <td>-1.388973</td>\n",
       "      <td>0.361146</td>\n",
       "      <td>0.710526</td>\n",
       "      <td>-1.251445</td>\n",
       "      <td>-0.525585</td>\n",
       "      <td>-0.561852</td>\n",
       "      <td>-0.514554</td>\n",
       "      <td>0.903211</td>\n",
       "      <td>-0.471636</td>\n",
       "      <td>...</td>\n",
       "      <td>-0.191645</td>\n",
       "      <td>0.960521</td>\n",
       "      <td>-0.451097</td>\n",
       "      <td>-0.248069</td>\n",
       "      <td>-0.114239</td>\n",
       "      <td>-0.305467</td>\n",
       "      <td>-0.106774</td>\n",
       "      <td>-0.191645</td>\n",
       "      <td>-0.279508</td>\n",
       "      <td>-0.191645</td>\n",
       "    </tr>\n",
       "    <tr>\n",
       "      <th>4</th>\n",
       "      <td>-0.391290</td>\n",
       "      <td>0.719957</td>\n",
       "      <td>-0.466425</td>\n",
       "      <td>0.710526</td>\n",
       "      <td>-1.251445</td>\n",
       "      <td>3.894908</td>\n",
       "      <td>1.779827</td>\n",
       "      <td>-0.514554</td>\n",
       "      <td>-1.107161</td>\n",
       "      <td>2.120277</td>\n",
       "      <td>...</td>\n",
       "      <td>-0.191645</td>\n",
       "      <td>0.960521</td>\n",
       "      <td>-0.451097</td>\n",
       "      <td>-0.248069</td>\n",
       "      <td>-0.114239</td>\n",
       "      <td>-0.305467</td>\n",
       "      <td>-0.106774</td>\n",
       "      <td>-0.191645</td>\n",
       "      <td>-0.279508</td>\n",
       "      <td>-0.191645</td>\n",
       "    </tr>\n",
       "  </tbody>\n",
       "</table>\n",
       "<p>5 rows × 53 columns</p>\n",
       "</div>"
      ],
      "text/plain": [
       "        Age       Sex     SibSp     Parch  is_alone  ind_fare  Pclass_1  \\\n",
       "0  1.282508  0.719957 -0.466425 -0.466105  0.799076  0.596631  1.779827   \n",
       "1  1.755131  0.719957 -0.466425  0.710526 -1.251445  0.731892  1.779827   \n",
       "2 -0.426409 -1.388973  0.361146 -0.466105 -1.251445 -0.435288 -0.561852   \n",
       "3 -0.105101 -1.388973  0.361146  0.710526 -1.251445 -0.525585 -0.561852   \n",
       "4 -0.391290  0.719957 -0.466425  0.710526 -1.251445  3.894908  1.779827   \n",
       "\n",
       "   Pclass_2  Pclass_3  Embarked_C  ...  age_group_toddler  \\\n",
       "0 -0.514554 -1.107161   -0.471636  ...          -0.191645   \n",
       "1 -0.514554 -1.107161   -0.471636  ...          -0.191645   \n",
       "2 -0.514554  0.903211    2.120277  ...          -0.191645   \n",
       "3 -0.514554  0.903211   -0.471636  ...          -0.191645   \n",
       "4 -0.514554 -1.107161    2.120277  ...          -0.191645   \n",
       "\n",
       "   age_group_Young_Adult  age_group_adult  age_group_child  age_group_infant  \\\n",
       "0              -1.041102        -0.451097        -0.248069         -0.114239   \n",
       "1              -1.041102        -0.451097        -0.248069         -0.114239   \n",
       "2               0.960521        -0.451097        -0.248069         -0.114239   \n",
       "3               0.960521        -0.451097        -0.248069         -0.114239   \n",
       "4               0.960521        -0.451097        -0.248069         -0.114239   \n",
       "\n",
       "   age_group_middle_aged  age_group_old  age_group_senior_citizen  \\\n",
       "0               3.273680      -0.106774                 -0.191645   \n",
       "1               3.273680      -0.106774                 -0.191645   \n",
       "2              -0.305467      -0.106774                 -0.191645   \n",
       "3              -0.305467      -0.106774                 -0.191645   \n",
       "4              -0.305467      -0.106774                 -0.191645   \n",
       "\n",
       "   age_group_teenager  age_group_toddler  \n",
       "0           -0.279508          -0.191645  \n",
       "1           -0.279508          -0.191645  \n",
       "2           -0.279508          -0.191645  \n",
       "3           -0.279508          -0.191645  \n",
       "4           -0.279508          -0.191645  \n",
       "\n",
       "[5 rows x 53 columns]"
      ]
     },
     "execution_count": 293,
     "metadata": {},
     "output_type": "execute_result"
    }
   ],
   "source": [
    "pd.DataFrame(X_train, columns = col_head).head()"
   ]
  },
  {
   "cell_type": "markdown",
   "id": "ce517d6b-473b-411b-af2d-504922b0af6b",
   "metadata": {
    "tags": []
   },
   "source": [
    "# Modelling the Data"
   ]
  },
  {
   "cell_type": "markdown",
   "id": "b2ed7144-47ab-46fb-a0df-47ce40314093",
   "metadata": {},
   "source": [
    "# Logistic Regression"
   ]
  },
  {
   "cell_type": "code",
   "execution_count": 294,
   "id": "6cb610cf-99be-4ec5-8085-6afb5ef8f6e2",
   "metadata": {
    "tags": []
   },
   "outputs": [],
   "source": [
    "from sklearn.linear_model import LogisticRegression\n",
    "from sklearn.metrics import mean_absolute_error, accuracy_score\n",
    "\n",
    "log_reg = LogisticRegression()\n",
    "log_reg.fit(X_train, Y_train)\n",
    "\n",
    "y_pred = log_reg.predict(X_test)"
   ]
  },
  {
   "cell_type": "markdown",
   "id": "0e6132bc-7368-4f0d-9b07-b2777bc042f9",
   "metadata": {},
   "source": [
    "# Evaluating a classification model"
   ]
  },
  {
   "cell_type": "markdown",
   "id": "021d1992-94aa-4245-be37-f6c961fbd458",
   "metadata": {},
   "source": [
    "There are multiple ways to evaluate a classification model.\n",
    "\n",
    "* Confusion Matrix.\n",
    "* ROC Curve\n",
    "* AUC Curve."
   ]
  },
  {
   "cell_type": "code",
   "execution_count": 295,
   "id": "9a0fd5f5-2459-4a52-97e2-8afdb083635e",
   "metadata": {
    "tags": []
   },
   "outputs": [
    {
     "data": {
      "text/plain": [
       "array([[137,  23],\n",
       "       [ 25,  82]], dtype=int64)"
      ]
     },
     "execution_count": 295,
     "metadata": {},
     "output_type": "execute_result"
    }
   ],
   "source": [
    "from sklearn import metrics\n",
    "\n",
    "cnf_matrix = metrics.confusion_matrix(Y_test, y_pred)\n",
    "cnf_matrix"
   ]
  },
  {
   "cell_type": "code",
   "execution_count": 296,
   "id": "e3c81fff-68d3-4c04-8e63-1bef594b3b44",
   "metadata": {
    "tags": []
   },
   "outputs": [
    {
     "data": {
      "text/html": [
       "<div>\n",
       "<style scoped>\n",
       "    .dataframe tbody tr th:only-of-type {\n",
       "        vertical-align: middle;\n",
       "    }\n",
       "\n",
       "    .dataframe tbody tr th {\n",
       "        vertical-align: top;\n",
       "    }\n",
       "\n",
       "    .dataframe thead th {\n",
       "        text-align: right;\n",
       "    }\n",
       "</style>\n",
       "<table border=\"1\" class=\"dataframe\">\n",
       "  <thead>\n",
       "    <tr style=\"text-align: right;\">\n",
       "      <th></th>\n",
       "      <th>Predicted Not-Survived</th>\n",
       "      <th>Predicted Survived</th>\n",
       "    </tr>\n",
       "  </thead>\n",
       "  <tbody>\n",
       "    <tr>\n",
       "      <th>Not-Survived</th>\n",
       "      <td>137</td>\n",
       "      <td>23</td>\n",
       "    </tr>\n",
       "    <tr>\n",
       "      <th>Survived</th>\n",
       "      <td>25</td>\n",
       "      <td>82</td>\n",
       "    </tr>\n",
       "  </tbody>\n",
       "</table>\n",
       "</div>"
      ],
      "text/plain": [
       "              Predicted Not-Survived  Predicted Survived\n",
       "Not-Survived                     137                  23\n",
       "Survived                          25                  82"
      ]
     },
     "execution_count": 296,
     "metadata": {},
     "output_type": "execute_result"
    }
   ],
   "source": [
    "pd.DataFrame(cnf_matrix, columns = ('Predicted Not-Survived' , 'Predicted Survived'), index = ('Not-Survived', 'Survived'))"
   ]
  },
  {
   "cell_type": "code",
   "execution_count": 297,
   "id": "72c512bc-618d-4292-b7c3-180285f9c136",
   "metadata": {
    "tags": []
   },
   "outputs": [
    {
     "data": {
      "text/plain": [
       "0.8202247191011236"
      ]
     },
     "execution_count": 297,
     "metadata": {},
     "output_type": "execute_result"
    }
   ],
   "source": [
    "from sklearn.metrics import accuracy_score\n",
    "accuracy_score(Y_test, y_pred)"
   ]
  },
  {
   "cell_type": "code",
   "execution_count": 298,
   "id": "2c8f5453-e2ed-4086-ba1d-f4a603da77f8",
   "metadata": {
    "tags": []
   },
   "outputs": [
    {
     "data": {
      "text/plain": [
       "0.7663551401869159"
      ]
     },
     "execution_count": 298,
     "metadata": {},
     "output_type": "execute_result"
    }
   ],
   "source": [
    "from sklearn.metrics import recall_score\n",
    "recall_score(Y_test, y_pred)"
   ]
  },
  {
   "cell_type": "code",
   "execution_count": 299,
   "id": "6176ac17-85bf-4415-85c2-b2fe1eb688df",
   "metadata": {
    "tags": []
   },
   "outputs": [
    {
     "data": {
      "text/plain": [
       "0.780952380952381"
      ]
     },
     "execution_count": 299,
     "metadata": {},
     "output_type": "execute_result"
    }
   ],
   "source": [
    "from sklearn.metrics import precision_score\n",
    "precision_score(Y_test, y_pred)"
   ]
  },
  {
   "cell_type": "code",
   "execution_count": 300,
   "id": "92982d1a-cc38-4aff-b622-4201469325b2",
   "metadata": {
    "tags": []
   },
   "outputs": [
    {
     "name": "stdout",
     "output_type": "stream",
     "text": [
      "              precision    recall  f1-score   support\n",
      "\n",
      "Not Survived       0.85      0.86      0.85       160\n",
      "    Survived       0.78      0.77      0.77       107\n",
      "\n",
      "    accuracy                           0.82       267\n",
      "   macro avg       0.81      0.81      0.81       267\n",
      "weighted avg       0.82      0.82      0.82       267\n",
      "\n"
     ]
    }
   ],
   "source": [
    "from sklearn.metrics import classification_report\n",
    "\n",
    "target_names = ['Not Survived', 'Survived']\n",
    "print(classification_report(Y_test, y_pred, target_names = target_names))"
   ]
  },
  {
   "cell_type": "markdown",
   "id": "78fbc694-a7a8-4329-870d-4efde5fd89c2",
   "metadata": {},
   "source": [
    "# AUC-ROC Curve"
   ]
  },
  {
   "cell_type": "code",
   "execution_count": 301,
   "id": "71dba8f6-1f82-4daf-bfb8-0385078afcb2",
   "metadata": {
    "tags": []
   },
   "outputs": [
    {
     "name": "stdout",
     "output_type": "stream",
     "text": [
      "0.8499999999999999\n"
     ]
    }
   ],
   "source": [
    "from sklearn.metrics import roc_curve, auc\n",
    "\n",
    "y_score = log_reg.decision_function(X_test)\n",
    "\n",
    "FPR, TPR, _ = roc_curve(Y_test, y_score)\n",
    "ROC_AUC = auc(FPR, TPR)\n",
    "print (ROC_AUC)"
   ]
  },
  {
   "cell_type": "code",
   "execution_count": 302,
   "id": "22a816b7-ad21-412b-a146-8f5950fba723",
   "metadata": {
    "tags": []
   },
   "outputs": [
    {
     "data": {
      "text/plain": [
       "Text(0.5, 1.0, 'ROC for Titanic Survivers')"
      ]
     },
     "execution_count": 302,
     "metadata": {},
     "output_type": "execute_result"
    },
    {
     "data": {
      "image/png": "[encoded data removed]",
      "text/plain": [
       "<Figure size 800x700 with 1 Axes>"
      ]
     },
     "metadata": {},
     "output_type": "display_data"
    }
   ],
   "source": [
    "plt.figure(figsize = (8,7))\n",
    "plt.plot(FPR, TPR)\n",
    "plt.plot([0,1], [0,1], 'r--')\n",
    "plt.xlabel(\"False Positive Rate\")\n",
    "plt.ylabel(\"True Positive Rate\")\n",
    "plt.title(\"ROC for Titanic Survivers\")"
   ]
  },
  {
   "cell_type": "code",
   "execution_count": 303,
   "id": "77d256f3-bd54-43b3-bc14-933953403cb2",
   "metadata": {
    "tags": []
   },
   "outputs": [
    {
     "name": "stdout",
     "output_type": "stream",
     "text": [
      "0.8133436337434121\n"
     ]
    },
    {
     "data": {
      "text/plain": [
       "Text(0.5, 1.0, 'Precision Recall Curve for Titanic survivors')"
      ]
     },
     "execution_count": 303,
     "metadata": {},
     "output_type": "execute_result"
    },
    {
     "data": {
      "image/png": "[encoded data removed]",
      "text/plain": [
       "<Figure size 800x700 with 1 Axes>"
      ]
     },
     "metadata": {},
     "output_type": "display_data"
    }
   ],
   "source": [
    "from sklearn.metrics import precision_recall_curve\n",
    "\n",
    "y_score = log_reg.decision_function(X_test)\n",
    "\n",
    "precision, recall, _ = precision_recall_curve(Y_test, y_score)\n",
    "pr_auc = auc(recall, precision)\n",
    "print (pr_auc)\n",
    "\n",
    "\n",
    "plt.figure(figsize = (8,7))\n",
    "plt.plot(recall, precision)\n",
    "plt.xlabel('Recall')\n",
    "plt.ylabel('Precision')\n",
    "plt.title('Precision Recall Curve for Titanic survivors')"
   ]
  },
  {
   "cell_type": "markdown",
   "id": "c2550462-a81a-4317-ae64-88ddf429c371",
   "metadata": {},
   "source": [
    "# Cross Validation"
   ]
  },
  {
   "cell_type": "code",
   "execution_count": 304,
   "id": "244ee86d-e1e8-4214-97a1-d9b540e82dfe",
   "metadata": {
    "tags": []
   },
   "outputs": [
    {
     "name": "stdout",
     "output_type": "stream",
     "text": [
      "Cross Validation Accuracy =  [0.83520599 0.80524345 0.82397004 0.80149813 0.80524345 0.83895131\n",
      " 0.8164794  0.82397004]\n",
      "Mean Cross-Validation Accuracy =  0.81882\n"
     ]
    }
   ],
   "source": [
    "from sklearn.model_selection import cross_val_score\n",
    "from sklearn.model_selection import StratifiedShuffleSplit\n",
    "\n",
    "cv = StratifiedShuffleSplit(n_splits = 8, test_size = 0.3, random_state = 0)\n",
    "clf = LogisticRegression(solver = 'liblinear')\n",
    "X = scaler.fit_transform(X)\n",
    "accuracy = cross_val_score(clf, X, Y, cv=cv)\n",
    "\n",
    "print(\"Cross Validation Accuracy = \", accuracy)\n",
    "\n",
    "mean_accuracy = round(accuracy.mean(),5)\n",
    "print(\"Mean Cross-Validation Accuracy = \", mean_accuracy)"
   ]
  },
  {
   "cell_type": "code",
   "execution_count": 305,
   "id": "115f2a6a-23b4-4db7-8b5a-9e0386aae3db",
   "metadata": {
    "tags": []
   },
   "outputs": [],
   "source": [
    "from sklearn.model_selection import StratifiedKFold, KFold\n",
    "from sklearn.model_selection import GridSearchCV\n",
    "\n",
    "# as we are working with logistic regression, we are using lasso and ridge penality\n",
    "# lasso, ridge has parameter alpha that inversely depends on model complexity (if value of alpha increases, model complexity decreases)\n",
    "\n",
    "alpha = [1,10]\n",
    "penality = ['l1' , 'l2']\n",
    "parameters = {'C' : alpha , 'penalty' : penality}\n",
    "cv = StratifiedShuffleSplit(n_splits = 8, test_size = 0.3, random_state = 0)\n",
    "\n",
    "g_s_cv = GridSearchCV(estimator = LogisticRegression(), param_grid = parameters, n_jobs = -1, cv = cv, scoring = 'accuracy')"
   ]
  },
  {
   "cell_type": "code",
   "execution_count": 306,
   "id": "c2600abd-4a7e-44c1-be61-eaaed99f314e",
   "metadata": {
    "tags": []
   },
   "outputs": [
    {
     "data": {
      "text/html": [
       "<style>#sk-container-id-7 {color: black;background-color: white;}#sk-container-id-7 pre{padding: 0;}#sk-container-id-7 div.sk-toggleable {background-color: white;}#sk-container-id-7 label.sk-toggleable__label {cursor: pointer;display: block;width: 100%;margin-bottom: 0;padding: 0.3em;box-sizing: border-box;text-align: center;}#sk-container-id-7 label.sk-toggleable__label-arrow:before {content: \"▸\";float: left;margin-right: 0.25em;color: #696969;}#sk-container-id-7 label.sk-toggleable__label-arrow:hover:before {color: black;}#sk-container-id-7 div.sk-estimator:hover label.sk-toggleable__label-arrow:before {color: black;}#sk-container-id-7 div.sk-toggleable__content {max-height: 0;max-width: 0;overflow: hidden;text-align: left;background-color: #f0f8ff;}#sk-container-id-7 div.sk-toggleable__content pre {margin: 0.2em;color: black;border-radius: 0.25em;background-color: #f0f8ff;}#sk-container-id-7 input.sk-toggleable__control:checked~div.sk-toggleable__content {max-height: 200px;max-width: 100%;overflow: auto;}#sk-container-id-7 input.sk-toggleable__control:checked~label.sk-toggleable__label-arrow:before {content: \"▾\";}#sk-container-id-7 div.sk-estimator input.sk-toggleable__control:checked~label.sk-toggleable__label {background-color: #d4ebff;}#sk-container-id-7 div.sk-label input.sk-toggleable__control:checked~label.sk-toggleable__label {background-color: #d4ebff;}#sk-container-id-7 input.sk-hidden--visually {border: 0;clip: rect(1px 1px 1px 1px);clip: rect(1px, 1px, 1px, 1px);height: 1px;margin: -1px;overflow: hidden;padding: 0;position: absolute;width: 1px;}#sk-container-id-7 div.sk-estimator {font-family: monospace;background-color: #f0f8ff;border: 1px dotted black;border-radius: 0.25em;box-sizing: border-box;margin-bottom: 0.5em;}#sk-container-id-7 div.sk-estimator:hover {background-color: #d4ebff;}#sk-container-id-7 div.sk-parallel-item::after {content: \"\";width: 100%;border-bottom: 1px solid gray;flex-grow: 1;}#sk-container-id-7 div.sk-label:hover label.sk-toggleable__label {background-color: #d4ebff;}#sk-container-id-7 div.sk-serial::before {content: \"\";position: absolute;border-left: 1px solid gray;box-sizing: border-box;top: 0;bottom: 0;left: 50%;z-index: 0;}#sk-container-id-7 div.sk-serial {display: flex;flex-direction: column;align-items: center;background-color: white;padding-right: 0.2em;padding-left: 0.2em;position: relative;}#sk-container-id-7 div.sk-item {position: relative;z-index: 1;}#sk-container-id-7 div.sk-parallel {display: flex;align-items: stretch;justify-content: center;background-color: white;position: relative;}#sk-container-id-7 div.sk-item::before, #sk-container-id-7 div.sk-parallel-item::before {content: \"\";position: absolute;border-left: 1px solid gray;box-sizing: border-box;top: 0;bottom: 0;left: 50%;z-index: -1;}#sk-container-id-7 div.sk-parallel-item {display: flex;flex-direction: column;z-index: 1;position: relative;background-color: white;}#sk-container-id-7 div.sk-parallel-item:first-child::after {align-self: flex-end;width: 50%;}#sk-container-id-7 div.sk-parallel-item:last-child::after {align-self: flex-start;width: 50%;}#sk-container-id-7 div.sk-parallel-item:only-child::after {width: 0;}#sk-container-id-7 div.sk-dashed-wrapped {border: 1px dashed gray;margin: 0 0.4em 0.5em 0.4em;box-sizing: border-box;padding-bottom: 0.4em;background-color: white;}#sk-container-id-7 div.sk-label label {font-family: monospace;font-weight: bold;display: inline-block;line-height: 1.2em;}#sk-container-id-7 div.sk-label-container {text-align: center;}#sk-container-id-7 div.sk-container {/* jupyter's `normalize.less` sets `[hidden] { display: none; }` but bootstrap.min.css set `[hidden] { display: none !important; }` so we also need the `!important` here to be able to override the default hidden behavior on the sphinx rendered scikit-learn.org. See: https://github.com/scikit-learn/scikit-learn/issues/21755 */display: inline-block !important;position: relative;}#sk-container-id-7 div.sk-text-repr-fallback {display: none;}</style><div id=\"sk-container-id-7\" class=\"sk-top-container\"><div class=\"sk-text-repr-fallback\"><pre>GridSearchCV(cv=StratifiedShuffleSplit(n_splits=8, random_state=0, test_size=0.3,\n",
       "            train_size=None),\n",
       "             estimator=LogisticRegression(), n_jobs=-1,\n",
       "             param_grid={&#x27;C&#x27;: [1, 10], &#x27;penalty&#x27;: [&#x27;l1&#x27;, &#x27;l2&#x27;]},\n",
       "             scoring=&#x27;accuracy&#x27;)</pre><b>In a Jupyter environment, please rerun this cell to show the HTML representation or trust the notebook. <br />On GitHub, the HTML representation is unable to render, please try loading this page with nbviewer.org.</b></div><div class=\"sk-container\" hidden><div class=\"sk-item sk-dashed-wrapped\"><div class=\"sk-label-container\"><div class=\"sk-label sk-toggleable\"><input class=\"sk-toggleable__control sk-hidden--visually\" id=\"sk-estimator-id-19\" type=\"checkbox\" ><label for=\"sk-estimator-id-19\" class=\"sk-toggleable__label sk-toggleable__label-arrow\">GridSearchCV</label><div class=\"sk-toggleable__content\"><pre>GridSearchCV(cv=StratifiedShuffleSplit(n_splits=8, random_state=0, test_size=0.3,\n",
       "            train_size=None),\n",
       "             estimator=LogisticRegression(), n_jobs=-1,\n",
       "             param_grid={&#x27;C&#x27;: [1, 10], &#x27;penalty&#x27;: [&#x27;l1&#x27;, &#x27;l2&#x27;]},\n",
       "             scoring=&#x27;accuracy&#x27;)</pre></div></div></div><div class=\"sk-parallel\"><div class=\"sk-parallel-item\"><div class=\"sk-item\"><div class=\"sk-label-container\"><div class=\"sk-label sk-toggleable\"><input class=\"sk-toggleable__control sk-hidden--visually\" id=\"sk-estimator-id-20\" type=\"checkbox\" ><label for=\"sk-estimator-id-20\" class=\"sk-toggleable__label sk-toggleable__label-arrow\">estimator: LogisticRegression</label><div class=\"sk-toggleable__content\"><pre>LogisticRegression()</pre></div></div></div><div class=\"sk-serial\"><div class=\"sk-item\"><div class=\"sk-estimator sk-toggleable\"><input class=\"sk-toggleable__control sk-hidden--visually\" id=\"sk-estimator-id-21\" type=\"checkbox\" ><label for=\"sk-estimator-id-21\" class=\"sk-toggleable__label sk-toggleable__label-arrow\">LogisticRegression</label><div class=\"sk-toggleable__content\"><pre>LogisticRegression()</pre></div></div></div></div></div></div></div></div></div></div>"
      ],
      "text/plain": [
       "GridSearchCV(cv=StratifiedShuffleSplit(n_splits=8, random_state=0, test_size=0.3,\n",
       "            train_size=None),\n",
       "             estimator=LogisticRegression(), n_jobs=-1,\n",
       "             param_grid={'C': [1, 10], 'penalty': ['l1', 'l2']},\n",
       "             scoring='accuracy')"
      ]
     },
     "execution_count": 306,
     "metadata": {},
     "output_type": "execute_result"
    }
   ],
   "source": [
    "g_s_cv.fit(X, Y)"
   ]
  },
  {
   "cell_type": "code",
   "execution_count": 307,
   "id": "ad8fa25d-6e43-4f53-b19c-c1bc55481228",
   "metadata": {
    "tags": []
   },
   "outputs": [
    {
     "name": "stdout",
     "output_type": "stream",
     "text": [
      "0.8206928838951311\n",
      "{'C': 10, 'penalty': 'l2'}\n",
      "LogisticRegression(C=10)\n"
     ]
    }
   ],
   "source": [
    "# Choosing best results\n",
    "\n",
    "print(g_s_cv.best_score_)\n",
    "print(g_s_cv.best_params_)\n",
    "print(g_s_cv.best_estimator_)"
   ]
  },
  {
   "cell_type": "code",
   "execution_count": 308,
   "id": "5f5d89b3-b1be-4aa8-967f-74cb33bf4867",
   "metadata": {
    "tags": []
   },
   "outputs": [
    {
     "data": {
      "text/plain": [
       "0.8434684684684685"
      ]
     },
     "execution_count": 308,
     "metadata": {},
     "output_type": "execute_result"
    }
   ],
   "source": [
    "# using the best parameters from grid search and predicting score\n",
    "\n",
    "log_reg_grid =g_s_cv.best_estimator_\n",
    "log_reg_grid.score(X, Y)"
   ]
  },
  {
   "cell_type": "markdown",
   "id": "084d825e-a5e8-415c-8c7c-55dcb6cc8110",
   "metadata": {},
   "source": [
    "# K-Nearest Neighbours (KNN)"
   ]
  },
  {
   "cell_type": "code",
   "execution_count": 309,
   "id": "67f9d8f3-326b-4dbe-8faa-668951b87b1c",
   "metadata": {},
   "outputs": [
    {
     "name": "stdout",
     "output_type": "stream",
     "text": [
      "Cross Validation Accuracy =  [0.79400749 0.76779026 0.79400749 0.7340824  0.75655431 0.83520599\n",
      " 0.79400749 0.79400749 0.83520599 0.78651685]\n",
      "Mean Cross-Validation Accuracy =  0.79\n"
     ]
    }
   ],
   "source": [
    "from sklearn.neighbors import KNeighborsClassifier\n",
    "\n",
    "neigh = KNeighborsClassifier(n_neighbors = 5, metric = 'minkowski', p = 2)\n",
    "\n",
    "cv = StratifiedShuffleSplit(n_splits = 10, test_size = 0.3, random_state = 0)\n",
    "\n",
    "accuracy = cross_val_score(neigh, X, Y, cv=cv, scoring = 'accuracy')\n",
    "\n",
    "print(\"Cross Validation Accuracy = \", accuracy)\n",
    "\n",
    "mean_accuracy = round(accuracy.mean(),2)\n",
    "print(\"Mean Cross-Validation Accuracy = \", mean_accuracy)"
   ]
  },
  {
   "cell_type": "code",
   "execution_count": 310,
   "id": "d2938343-a5b3-487a-9d90-c545f073115a",
   "metadata": {},
   "outputs": [
    {
     "name": "stdout",
     "output_type": "stream",
     "text": [
      "[0.747565543071161, 0.7696629213483146, 0.7760299625468164, 0.7779026217228464, 0.7891385767790263, 0.7872659176029964, 0.7925093632958802, 0.7816479400749065, 0.7846441947565542, 0.7805243445692884, 0.7868913857677903, 0.7812734082397003, 0.7838951310861424, 0.7797752808988763, 0.7823970037453184, 0.7782771535580524, 0.7737827715355805, 0.7655430711610487, 0.7670411985018727, 0.7704119850187265, 0.7745318352059927, 0.7711610486891386, 0.7749063670411986, 0.7685393258426966, 0.7730337078651686, 0.7647940074906366, 0.7681647940074907, 0.7677902621722847, 0.7700374531835207]\n",
      "Mean score =  0.775487537130311\n"
     ]
    }
   ],
   "source": [
    "# Searching the optimal value of k\n",
    "\n",
    "k_values = range(1,30)\n",
    "\n",
    "k_scores = []\n",
    "\n",
    "for k in k_values:\n",
    "    neigh = KNeighborsClassifier(n_neighbors = k)\n",
    "    cv = StratifiedShuffleSplit(n_splits = 10, test_size = 0.3, random_state = 0)\n",
    "    accuracy = cross_val_score(neigh, X, Y, cv=cv, scoring = 'accuracy')\n",
    "    k_scores.append(accuracy.mean())\n",
    "    \n",
    "print(k_scores)\n",
    "\n",
    "print(\"Mean score = \", np.mean(k_scores))"
   ]
  },
  {
   "cell_type": "code",
   "execution_count": 311,
   "id": "e3040306-ea7b-4c9b-914e-76fb9d41f7f1",
   "metadata": {},
   "outputs": [
    {
     "data": {
      "text/plain": [
       "[<matplotlib.lines.Line2D at 0x2063a343610>]"
      ]
     },
     "execution_count": 311,
     "metadata": {},
     "output_type": "execute_result"
    },
    {
     "data": {
      "image/png": "[encoded data removed]",
      "text/plain": [
       "<Figure size 640x480 with 1 Axes>"
      ]
     },
     "metadata": {},
     "output_type": "display_data"
    }
   ],
   "source": [
    "plt.plot(k_values, k_scores)"
   ]
  },
  {
   "cell_type": "code",
   "execution_count": 312,
   "id": "f309ab44-2224-499c-a2e4-2aeb4f968695",
   "metadata": {},
   "outputs": [],
   "source": [
    "from sklearn.model_selection import StratifiedKFold, KFold\n",
    "from sklearn.model_selection import GridSearchCV\n",
    "\n",
    "# as we are working with logistic regression, we are using lasso and ridge penality\n",
    "# lasso, ridge has parameter alpha that inversely depends on model complexity (if value of alpha increases, model complexity decreases)\n",
    "\n",
    "alpha = range(1,31)\n",
    "penality = ['uniform' , 'distance']\n",
    "parameters = {'n_neighbors' : alpha , 'weights' : penality}\n",
    "cv = StratifiedShuffleSplit(n_splits = 8, test_size = 0.3, random_state = 0)\n",
    "\n",
    "g_s_cv = GridSearchCV(estimator = KNeighborsClassifier(), param_grid = parameters, n_jobs = -1, cv = cv, scoring = 'accuracy')"
   ]
  },
  {
   "cell_type": "code",
   "execution_count": 313,
   "id": "8bfdae5b-aaef-4329-afae-c776b35290d6",
   "metadata": {},
   "outputs": [
    {
     "data": {
      "text/html": [
       "<style>#sk-container-id-8 {color: black;background-color: white;}#sk-container-id-8 pre{padding: 0;}#sk-container-id-8 div.sk-toggleable {background-color: white;}#sk-container-id-8 label.sk-toggleable__label {cursor: pointer;display: block;width: 100%;margin-bottom: 0;padding: 0.3em;box-sizing: border-box;text-align: center;}#sk-container-id-8 label.sk-toggleable__label-arrow:before {content: \"▸\";float: left;margin-right: 0.25em;color: #696969;}#sk-container-id-8 label.sk-toggleable__label-arrow:hover:before {color: black;}#sk-container-id-8 div.sk-estimator:hover label.sk-toggleable__label-arrow:before {color: black;}#sk-container-id-8 div.sk-toggleable__content {max-height: 0;max-width: 0;overflow: hidden;text-align: left;background-color: #f0f8ff;}#sk-container-id-8 div.sk-toggleable__content pre {margin: 0.2em;color: black;border-radius: 0.25em;background-color: #f0f8ff;}#sk-container-id-8 input.sk-toggleable__control:checked~div.sk-toggleable__content {max-height: 200px;max-width: 100%;overflow: auto;}#sk-container-id-8 input.sk-toggleable__control:checked~label.sk-toggleable__label-arrow:before {content: \"▾\";}#sk-container-id-8 div.sk-estimator input.sk-toggleable__control:checked~label.sk-toggleable__label {background-color: #d4ebff;}#sk-container-id-8 div.sk-label input.sk-toggleable__control:checked~label.sk-toggleable__label {background-color: #d4ebff;}#sk-container-id-8 input.sk-hidden--visually {border: 0;clip: rect(1px 1px 1px 1px);clip: rect(1px, 1px, 1px, 1px);height: 1px;margin: -1px;overflow: hidden;padding: 0;position: absolute;width: 1px;}#sk-container-id-8 div.sk-estimator {font-family: monospace;background-color: #f0f8ff;border: 1px dotted black;border-radius: 0.25em;box-sizing: border-box;margin-bottom: 0.5em;}#sk-container-id-8 div.sk-estimator:hover {background-color: #d4ebff;}#sk-container-id-8 div.sk-parallel-item::after {content: \"\";width: 100%;border-bottom: 1px solid gray;flex-grow: 1;}#sk-container-id-8 div.sk-label:hover label.sk-toggleable__label {background-color: #d4ebff;}#sk-container-id-8 div.sk-serial::before {content: \"\";position: absolute;border-left: 1px solid gray;box-sizing: border-box;top: 0;bottom: 0;left: 50%;z-index: 0;}#sk-container-id-8 div.sk-serial {display: flex;flex-direction: column;align-items: center;background-color: white;padding-right: 0.2em;padding-left: 0.2em;position: relative;}#sk-container-id-8 div.sk-item {position: relative;z-index: 1;}#sk-container-id-8 div.sk-parallel {display: flex;align-items: stretch;justify-content: center;background-color: white;position: relative;}#sk-container-id-8 div.sk-item::before, #sk-container-id-8 div.sk-parallel-item::before {content: \"\";position: absolute;border-left: 1px solid gray;box-sizing: border-box;top: 0;bottom: 0;left: 50%;z-index: -1;}#sk-container-id-8 div.sk-parallel-item {display: flex;flex-direction: column;z-index: 1;position: relative;background-color: white;}#sk-container-id-8 div.sk-parallel-item:first-child::after {align-self: flex-end;width: 50%;}#sk-container-id-8 div.sk-parallel-item:last-child::after {align-self: flex-start;width: 50%;}#sk-container-id-8 div.sk-parallel-item:only-child::after {width: 0;}#sk-container-id-8 div.sk-dashed-wrapped {border: 1px dashed gray;margin: 0 0.4em 0.5em 0.4em;box-sizing: border-box;padding-bottom: 0.4em;background-color: white;}#sk-container-id-8 div.sk-label label {font-family: monospace;font-weight: bold;display: inline-block;line-height: 1.2em;}#sk-container-id-8 div.sk-label-container {text-align: center;}#sk-container-id-8 div.sk-container {/* jupyter's `normalize.less` sets `[hidden] { display: none; }` but bootstrap.min.css set `[hidden] { display: none !important; }` so we also need the `!important` here to be able to override the default hidden behavior on the sphinx rendered scikit-learn.org. See: https://github.com/scikit-learn/scikit-learn/issues/21755 */display: inline-block !important;position: relative;}#sk-container-id-8 div.sk-text-repr-fallback {display: none;}</style><div id=\"sk-container-id-8\" class=\"sk-top-container\"><div class=\"sk-text-repr-fallback\"><pre>GridSearchCV(cv=StratifiedShuffleSplit(n_splits=8, random_state=0, test_size=0.3,\n",
       "            train_size=None),\n",
       "             estimator=KNeighborsClassifier(), n_jobs=-1,\n",
       "             param_grid={&#x27;n_neighbors&#x27;: range(1, 31),\n",
       "                         &#x27;weights&#x27;: [&#x27;uniform&#x27;, &#x27;distance&#x27;]},\n",
       "             scoring=&#x27;accuracy&#x27;)</pre><b>In a Jupyter environment, please rerun this cell to show the HTML representation or trust the notebook. <br />On GitHub, the HTML representation is unable to render, please try loading this page with nbviewer.org.</b></div><div class=\"sk-container\" hidden><div class=\"sk-item sk-dashed-wrapped\"><div class=\"sk-label-container\"><div class=\"sk-label sk-toggleable\"><input class=\"sk-toggleable__control sk-hidden--visually\" id=\"sk-estimator-id-22\" type=\"checkbox\" ><label for=\"sk-estimator-id-22\" class=\"sk-toggleable__label sk-toggleable__label-arrow\">GridSearchCV</label><div class=\"sk-toggleable__content\"><pre>GridSearchCV(cv=StratifiedShuffleSplit(n_splits=8, random_state=0, test_size=0.3,\n",
       "            train_size=None),\n",
       "             estimator=KNeighborsClassifier(), n_jobs=-1,\n",
       "             param_grid={&#x27;n_neighbors&#x27;: range(1, 31),\n",
       "                         &#x27;weights&#x27;: [&#x27;uniform&#x27;, &#x27;distance&#x27;]},\n",
       "             scoring=&#x27;accuracy&#x27;)</pre></div></div></div><div class=\"sk-parallel\"><div class=\"sk-parallel-item\"><div class=\"sk-item\"><div class=\"sk-label-container\"><div class=\"sk-label sk-toggleable\"><input class=\"sk-toggleable__control sk-hidden--visually\" id=\"sk-estimator-id-23\" type=\"checkbox\" ><label for=\"sk-estimator-id-23\" class=\"sk-toggleable__label sk-toggleable__label-arrow\">estimator: KNeighborsClassifier</label><div class=\"sk-toggleable__content\"><pre>KNeighborsClassifier()</pre></div></div></div><div class=\"sk-serial\"><div class=\"sk-item\"><div class=\"sk-estimator sk-toggleable\"><input class=\"sk-toggleable__control sk-hidden--visually\" id=\"sk-estimator-id-24\" type=\"checkbox\" ><label for=\"sk-estimator-id-24\" class=\"sk-toggleable__label sk-toggleable__label-arrow\">KNeighborsClassifier</label><div class=\"sk-toggleable__content\"><pre>KNeighborsClassifier()</pre></div></div></div></div></div></div></div></div></div></div>"
      ],
      "text/plain": [
       "GridSearchCV(cv=StratifiedShuffleSplit(n_splits=8, random_state=0, test_size=0.3,\n",
       "            train_size=None),\n",
       "             estimator=KNeighborsClassifier(), n_jobs=-1,\n",
       "             param_grid={'n_neighbors': range(1, 31),\n",
       "                         'weights': ['uniform', 'distance']},\n",
       "             scoring='accuracy')"
      ]
     },
     "execution_count": 313,
     "metadata": {},
     "output_type": "execute_result"
    }
   ],
   "source": [
    "g_s_cv.fit(X,Y)"
   ]
  },
  {
   "cell_type": "code",
   "execution_count": 314,
   "id": "0ab8e098-1454-4038-b15b-bfd82951732d",
   "metadata": {},
   "outputs": [
    {
     "name": "stdout",
     "output_type": "stream",
     "text": [
      "KNeighborsClassifier(n_neighbors=7)\n",
      "0.7888576779026217\n",
      "{'n_neighbors': 7, 'weights': 'uniform'}\n"
     ]
    }
   ],
   "source": [
    "print(g_s_cv.best_estimator_)\n",
    "print(g_s_cv.best_score_)\n",
    "print(g_s_cv.best_params_)"
   ]
  },
  {
   "cell_type": "code",
   "execution_count": 315,
   "id": "a06974eb-f4b3-4154-966c-9e222a1ecb7e",
   "metadata": {},
   "outputs": [
    {
     "data": {
      "text/plain": [
       "0.8355855855855856"
      ]
     },
     "execution_count": 315,
     "metadata": {},
     "output_type": "execute_result"
    }
   ],
   "source": [
    "neigh_grid =g_s_cv.best_estimator_\n",
    "neigh_grid.score(X, Y)"
   ]
  },
  {
   "cell_type": "markdown",
   "id": "f627b1da-01b1-4d11-9bf5-c6e8db2926fe",
   "metadata": {},
   "source": [
    "# Gausian Naive Bayes"
   ]
  },
  {
   "cell_type": "code",
   "execution_count": 316,
   "id": "0cf8e853-1a21-4db5-acc1-0b49b7ac80ef",
   "metadata": {
    "tags": []
   },
   "outputs": [
    {
     "name": "stdout",
     "output_type": "stream",
     "text": [
      "0.797752808988764\n"
     ]
    }
   ],
   "source": [
    "from sklearn.naive_bayes import GaussianNB\n",
    "from sklearn.metrics import accuracy_score\n",
    "\n",
    "gaus = GaussianNB()\n",
    "gaus.fit(X, Y)\n",
    "y_pred = gaus.predict(X_test)\n",
    "accuracy = accuracy_score(y_pred, Y_test)\n",
    "print(accuracy)"
   ]
  },
  {
   "cell_type": "code",
   "execution_count": 317,
   "id": "6f006510-d554-4a1b-ab09-208bf409a4f3",
   "metadata": {
    "tags": []
   },
   "outputs": [],
   "source": [
    "from sklearn.naive_bayes import GaussianNB\n",
    "from sklearn.model_selection import GridSearchCV\n",
    "\n",
    "nb = {'var_smoothing': np.logspace(0,-9, num = 50)}\n",
    "cv = StratifiedShuffleSplit(n_splits = 8, test_size = 0.3, random_state = 0)\n",
    "\n",
    "grid = GridSearchCV(estimator = GaussianNB(), param_grid = nb, cv = cv, n_jobs = -1)"
   ]
  },
  {
   "cell_type": "code",
   "execution_count": 318,
   "id": "7e862dad-78c9-494b-94aa-40f6b2595bac",
   "metadata": {
    "tags": []
   },
   "outputs": [
    {
     "data": {
      "text/html": [
       "<style>#sk-container-id-9 {color: black;background-color: white;}#sk-container-id-9 pre{padding: 0;}#sk-container-id-9 div.sk-toggleable {background-color: white;}#sk-container-id-9 label.sk-toggleable__label {cursor: pointer;display: block;width: 100%;margin-bottom: 0;padding: 0.3em;box-sizing: border-box;text-align: center;}#sk-container-id-9 label.sk-toggleable__label-arrow:before {content: \"▸\";float: left;margin-right: 0.25em;color: #696969;}#sk-container-id-9 label.sk-toggleable__label-arrow:hover:before {color: black;}#sk-container-id-9 div.sk-estimator:hover label.sk-toggleable__label-arrow:before {color: black;}#sk-container-id-9 div.sk-toggleable__content {max-height: 0;max-width: 0;overflow: hidden;text-align: left;background-color: #f0f8ff;}#sk-container-id-9 div.sk-toggleable__content pre {margin: 0.2em;color: black;border-radius: 0.25em;background-color: #f0f8ff;}#sk-container-id-9 input.sk-toggleable__control:checked~div.sk-toggleable__content {max-height: 200px;max-width: 100%;overflow: auto;}#sk-container-id-9 input.sk-toggleable__control:checked~label.sk-toggleable__label-arrow:before {content: \"▾\";}#sk-container-id-9 div.sk-estimator input.sk-toggleable__control:checked~label.sk-toggleable__label {background-color: #d4ebff;}#sk-container-id-9 div.sk-label input.sk-toggleable__control:checked~label.sk-toggleable__label {background-color: #d4ebff;}#sk-container-id-9 input.sk-hidden--visually {border: 0;clip: rect(1px 1px 1px 1px);clip: rect(1px, 1px, 1px, 1px);height: 1px;margin: -1px;overflow: hidden;padding: 0;position: absolute;width: 1px;}#sk-container-id-9 div.sk-estimator {font-family: monospace;background-color: #f0f8ff;border: 1px dotted black;border-radius: 0.25em;box-sizing: border-box;margin-bottom: 0.5em;}#sk-container-id-9 div.sk-estimator:hover {background-color: #d4ebff;}#sk-container-id-9 div.sk-parallel-item::after {content: \"\";width: 100%;border-bottom: 1px solid gray;flex-grow: 1;}#sk-container-id-9 div.sk-label:hover label.sk-toggleable__label {background-color: #d4ebff;}#sk-container-id-9 div.sk-serial::before {content: \"\";position: absolute;border-left: 1px solid gray;box-sizing: border-box;top: 0;bottom: 0;left: 50%;z-index: 0;}#sk-container-id-9 div.sk-serial {display: flex;flex-direction: column;align-items: center;background-color: white;padding-right: 0.2em;padding-left: 0.2em;position: relative;}#sk-container-id-9 div.sk-item {position: relative;z-index: 1;}#sk-container-id-9 div.sk-parallel {display: flex;align-items: stretch;justify-content: center;background-color: white;position: relative;}#sk-container-id-9 div.sk-item::before, #sk-container-id-9 div.sk-parallel-item::before {content: \"\";position: absolute;border-left: 1px solid gray;box-sizing: border-box;top: 0;bottom: 0;left: 50%;z-index: -1;}#sk-container-id-9 div.sk-parallel-item {display: flex;flex-direction: column;z-index: 1;position: relative;background-color: white;}#sk-container-id-9 div.sk-parallel-item:first-child::after {align-self: flex-end;width: 50%;}#sk-container-id-9 div.sk-parallel-item:last-child::after {align-self: flex-start;width: 50%;}#sk-container-id-9 div.sk-parallel-item:only-child::after {width: 0;}#sk-container-id-9 div.sk-dashed-wrapped {border: 1px dashed gray;margin: 0 0.4em 0.5em 0.4em;box-sizing: border-box;padding-bottom: 0.4em;background-color: white;}#sk-container-id-9 div.sk-label label {font-family: monospace;font-weight: bold;display: inline-block;line-height: 1.2em;}#sk-container-id-9 div.sk-label-container {text-align: center;}#sk-container-id-9 div.sk-container {/* jupyter's `normalize.less` sets `[hidden] { display: none; }` but bootstrap.min.css set `[hidden] { display: none !important; }` so we also need the `!important` here to be able to override the default hidden behavior on the sphinx rendered scikit-learn.org. See: https://github.com/scikit-learn/scikit-learn/issues/21755 */display: inline-block !important;position: relative;}#sk-container-id-9 div.sk-text-repr-fallback {display: none;}</style><div id=\"sk-container-id-9\" class=\"sk-top-container\"><div class=\"sk-text-repr-fallback\"><pre>GridSearchCV(cv=StratifiedShuffleSplit(n_splits=8, random_state=0, test_size=0.3,\n",
       "            train_size=None),\n",
       "             estimator=GaussianNB(), n_jobs=-1,\n",
       "             param_grid={&#x27;var_smoothing&#x27;: array([1.00000000e+00, 6.55128557e-01, 4.29193426e-01, 2.81176870e-01,\n",
       "       1.84206997e-01, 1.20679264e-01, 7.90604321e-02, 5.17947468e-02,\n",
       "       3.39322177e-02, 2.22299648e-02, 1.45634848e-02, 9.54095476e-03,\n",
       "       6.2505...\n",
       "       3.90693994e-05, 2.55954792e-05, 1.67683294e-05, 1.09854114e-05,\n",
       "       7.19685673e-06, 4.71486636e-06, 3.08884360e-06, 2.02358965e-06,\n",
       "       1.32571137e-06, 8.68511374e-07, 5.68986603e-07, 3.72759372e-07,\n",
       "       2.44205309e-07, 1.59985872e-07, 1.04811313e-07, 6.86648845e-08,\n",
       "       4.49843267e-08, 2.94705170e-08, 1.93069773e-08, 1.26485522e-08,\n",
       "       8.28642773e-09, 5.42867544e-09, 3.55648031e-09, 2.32995181e-09,\n",
       "       1.52641797e-09, 1.00000000e-09])})</pre><b>In a Jupyter environment, please rerun this cell to show the HTML representation or trust the notebook. <br />On GitHub, the HTML representation is unable to render, please try loading this page with nbviewer.org.</b></div><div class=\"sk-container\" hidden><div class=\"sk-item sk-dashed-wrapped\"><div class=\"sk-label-container\"><div class=\"sk-label sk-toggleable\"><input class=\"sk-toggleable__control sk-hidden--visually\" id=\"sk-estimator-id-25\" type=\"checkbox\" ><label for=\"sk-estimator-id-25\" class=\"sk-toggleable__label sk-toggleable__label-arrow\">GridSearchCV</label><div class=\"sk-toggleable__content\"><pre>GridSearchCV(cv=StratifiedShuffleSplit(n_splits=8, random_state=0, test_size=0.3,\n",
       "            train_size=None),\n",
       "             estimator=GaussianNB(), n_jobs=-1,\n",
       "             param_grid={&#x27;var_smoothing&#x27;: array([1.00000000e+00, 6.55128557e-01, 4.29193426e-01, 2.81176870e-01,\n",
       "       1.84206997e-01, 1.20679264e-01, 7.90604321e-02, 5.17947468e-02,\n",
       "       3.39322177e-02, 2.22299648e-02, 1.45634848e-02, 9.54095476e-03,\n",
       "       6.2505...\n",
       "       3.90693994e-05, 2.55954792e-05, 1.67683294e-05, 1.09854114e-05,\n",
       "       7.19685673e-06, 4.71486636e-06, 3.08884360e-06, 2.02358965e-06,\n",
       "       1.32571137e-06, 8.68511374e-07, 5.68986603e-07, 3.72759372e-07,\n",
       "       2.44205309e-07, 1.59985872e-07, 1.04811313e-07, 6.86648845e-08,\n",
       "       4.49843267e-08, 2.94705170e-08, 1.93069773e-08, 1.26485522e-08,\n",
       "       8.28642773e-09, 5.42867544e-09, 3.55648031e-09, 2.32995181e-09,\n",
       "       1.52641797e-09, 1.00000000e-09])})</pre></div></div></div><div class=\"sk-parallel\"><div class=\"sk-parallel-item\"><div class=\"sk-item\"><div class=\"sk-label-container\"><div class=\"sk-label sk-toggleable\"><input class=\"sk-toggleable__control sk-hidden--visually\" id=\"sk-estimator-id-26\" type=\"checkbox\" ><label for=\"sk-estimator-id-26\" class=\"sk-toggleable__label sk-toggleable__label-arrow\">estimator: GaussianNB</label><div class=\"sk-toggleable__content\"><pre>GaussianNB()</pre></div></div></div><div class=\"sk-serial\"><div class=\"sk-item\"><div class=\"sk-estimator sk-toggleable\"><input class=\"sk-toggleable__control sk-hidden--visually\" id=\"sk-estimator-id-27\" type=\"checkbox\" ><label for=\"sk-estimator-id-27\" class=\"sk-toggleable__label sk-toggleable__label-arrow\">GaussianNB</label><div class=\"sk-toggleable__content\"><pre>GaussianNB()</pre></div></div></div></div></div></div></div></div></div></div>"
      ],
      "text/plain": [
       "GridSearchCV(cv=StratifiedShuffleSplit(n_splits=8, random_state=0, test_size=0.3,\n",
       "            train_size=None),\n",
       "             estimator=GaussianNB(), n_jobs=-1,\n",
       "             param_grid={'var_smoothing': array([1.00000000e+00, 6.55128557e-01, 4.29193426e-01, 2.81176870e-01,\n",
       "       1.84206997e-01, 1.20679264e-01, 7.90604321e-02, 5.17947468e-02,\n",
       "       3.39322177e-02, 2.22299648e-02, 1.45634848e-02, 9.54095476e-03,\n",
       "       6.2505...\n",
       "       3.90693994e-05, 2.55954792e-05, 1.67683294e-05, 1.09854114e-05,\n",
       "       7.19685673e-06, 4.71486636e-06, 3.08884360e-06, 2.02358965e-06,\n",
       "       1.32571137e-06, 8.68511374e-07, 5.68986603e-07, 3.72759372e-07,\n",
       "       2.44205309e-07, 1.59985872e-07, 1.04811313e-07, 6.86648845e-08,\n",
       "       4.49843267e-08, 2.94705170e-08, 1.93069773e-08, 1.26485522e-08,\n",
       "       8.28642773e-09, 5.42867544e-09, 3.55648031e-09, 2.32995181e-09,\n",
       "       1.52641797e-09, 1.00000000e-09])})"
      ]
     },
     "execution_count": 318,
     "metadata": {},
     "output_type": "execute_result"
    }
   ],
   "source": [
    "grid.fit(X, Y)"
   ]
  },
  {
   "cell_type": "code",
   "execution_count": 319,
   "id": "56b2d95d-fa03-42bf-a6f9-e40fd0558d69",
   "metadata": {
    "tags": []
   },
   "outputs": [
    {
     "name": "stdout",
     "output_type": "stream",
     "text": [
      "GaussianNB(var_smoothing=0.1842069969326716)\n",
      "0.7851123595505618\n",
      "{'var_smoothing': 0.1842069969326716}\n"
     ]
    }
   ],
   "source": [
    "print(grid.best_estimator_)\n",
    "print(grid.best_score_)\n",
    "print(grid.best_params_)"
   ]
  },
  {
   "cell_type": "code",
   "execution_count": 320,
   "id": "539c5c00-b27b-445f-94b8-9a987cab3a49",
   "metadata": {
    "tags": []
   },
   "outputs": [
    {
     "data": {
      "text/plain": [
       "0.7804054054054054"
      ]
     },
     "execution_count": 320,
     "metadata": {},
     "output_type": "execute_result"
    }
   ],
   "source": [
    "g_nb = grid.best_estimator_\n",
    "g_nb.score(X, Y)"
   ]
  },
  {
   "cell_type": "markdown",
   "id": "58d8cebd-3694-4ae8-baf0-f734adca0226",
   "metadata": {},
   "source": [
    "# Support Vector Machine"
   ]
  },
  {
   "cell_type": "code",
   "execution_count": 321,
   "id": "ae96d808-9170-4de5-9d98-72a2ebc0c1b7",
   "metadata": {
    "tags": []
   },
   "outputs": [
    {
     "data": {
      "text/html": [
       "<style>#sk-container-id-10 {color: black;background-color: white;}#sk-container-id-10 pre{padding: 0;}#sk-container-id-10 div.sk-toggleable {background-color: white;}#sk-container-id-10 label.sk-toggleable__label {cursor: pointer;display: block;width: 100%;margin-bottom: 0;padding: 0.3em;box-sizing: border-box;text-align: center;}#sk-container-id-10 label.sk-toggleable__label-arrow:before {content: \"▸\";float: left;margin-right: 0.25em;color: #696969;}#sk-container-id-10 label.sk-toggleable__label-arrow:hover:before {color: black;}#sk-container-id-10 div.sk-estimator:hover label.sk-toggleable__label-arrow:before {color: black;}#sk-container-id-10 div.sk-toggleable__content {max-height: 0;max-width: 0;overflow: hidden;text-align: left;background-color: #f0f8ff;}#sk-container-id-10 div.sk-toggleable__content pre {margin: 0.2em;color: black;border-radius: 0.25em;background-color: #f0f8ff;}#sk-container-id-10 input.sk-toggleable__control:checked~div.sk-toggleable__content {max-height: 200px;max-width: 100%;overflow: auto;}#sk-container-id-10 input.sk-toggleable__control:checked~label.sk-toggleable__label-arrow:before {content: \"▾\";}#sk-container-id-10 div.sk-estimator input.sk-toggleable__control:checked~label.sk-toggleable__label {background-color: #d4ebff;}#sk-container-id-10 div.sk-label input.sk-toggleable__control:checked~label.sk-toggleable__label {background-color: #d4ebff;}#sk-container-id-10 input.sk-hidden--visually {border: 0;clip: rect(1px 1px 1px 1px);clip: rect(1px, 1px, 1px, 1px);height: 1px;margin: -1px;overflow: hidden;padding: 0;position: absolute;width: 1px;}#sk-container-id-10 div.sk-estimator {font-family: monospace;background-color: #f0f8ff;border: 1px dotted black;border-radius: 0.25em;box-sizing: border-box;margin-bottom: 0.5em;}#sk-container-id-10 div.sk-estimator:hover {background-color: #d4ebff;}#sk-container-id-10 div.sk-parallel-item::after {content: \"\";width: 100%;border-bottom: 1px solid gray;flex-grow: 1;}#sk-container-id-10 div.sk-label:hover label.sk-toggleable__label {background-color: #d4ebff;}#sk-container-id-10 div.sk-serial::before {content: \"\";position: absolute;border-left: 1px solid gray;box-sizing: border-box;top: 0;bottom: 0;left: 50%;z-index: 0;}#sk-container-id-10 div.sk-serial {display: flex;flex-direction: column;align-items: center;background-color: white;padding-right: 0.2em;padding-left: 0.2em;position: relative;}#sk-container-id-10 div.sk-item {position: relative;z-index: 1;}#sk-container-id-10 div.sk-parallel {display: flex;align-items: stretch;justify-content: center;background-color: white;position: relative;}#sk-container-id-10 div.sk-item::before, #sk-container-id-10 div.sk-parallel-item::before {content: \"\";position: absolute;border-left: 1px solid gray;box-sizing: border-box;top: 0;bottom: 0;left: 50%;z-index: -1;}#sk-container-id-10 div.sk-parallel-item {display: flex;flex-direction: column;z-index: 1;position: relative;background-color: white;}#sk-container-id-10 div.sk-parallel-item:first-child::after {align-self: flex-end;width: 50%;}#sk-container-id-10 div.sk-parallel-item:last-child::after {align-self: flex-start;width: 50%;}#sk-container-id-10 div.sk-parallel-item:only-child::after {width: 0;}#sk-container-id-10 div.sk-dashed-wrapped {border: 1px dashed gray;margin: 0 0.4em 0.5em 0.4em;box-sizing: border-box;padding-bottom: 0.4em;background-color: white;}#sk-container-id-10 div.sk-label label {font-family: monospace;font-weight: bold;display: inline-block;line-height: 1.2em;}#sk-container-id-10 div.sk-label-container {text-align: center;}#sk-container-id-10 div.sk-container {/* jupyter's `normalize.less` sets `[hidden] { display: none; }` but bootstrap.min.css set `[hidden] { display: none !important; }` so we also need the `!important` here to be able to override the default hidden behavior on the sphinx rendered scikit-learn.org. See: https://github.com/scikit-learn/scikit-learn/issues/21755 */display: inline-block !important;position: relative;}#sk-container-id-10 div.sk-text-repr-fallback {display: none;}</style><div id=\"sk-container-id-10\" class=\"sk-top-container\"><div class=\"sk-text-repr-fallback\"><pre>GridSearchCV(cv=StratifiedShuffleSplit(n_splits=10, random_state=15, test_size=0.3,\n",
       "            train_size=None),\n",
       "             estimator=SVC(probability=True),\n",
       "             param_grid={&#x27;C&#x27;: [0.1, 1, 10, 5, 2, 3, 4, 0, 0.01],\n",
       "                         &#x27;gamma&#x27;: [0.1, 1, 0.001, 0.0001, 0.01],\n",
       "                         &#x27;kernel&#x27;: [&#x27;rbf&#x27;]})</pre><b>In a Jupyter environment, please rerun this cell to show the HTML representation or trust the notebook. <br />On GitHub, the HTML representation is unable to render, please try loading this page with nbviewer.org.</b></div><div class=\"sk-container\" hidden><div class=\"sk-item sk-dashed-wrapped\"><div class=\"sk-label-container\"><div class=\"sk-label sk-toggleable\"><input class=\"sk-toggleable__control sk-hidden--visually\" id=\"sk-estimator-id-28\" type=\"checkbox\" ><label for=\"sk-estimator-id-28\" class=\"sk-toggleable__label sk-toggleable__label-arrow\">GridSearchCV</label><div class=\"sk-toggleable__content\"><pre>GridSearchCV(cv=StratifiedShuffleSplit(n_splits=10, random_state=15, test_size=0.3,\n",
       "            train_size=None),\n",
       "             estimator=SVC(probability=True),\n",
       "             param_grid={&#x27;C&#x27;: [0.1, 1, 10, 5, 2, 3, 4, 0, 0.01],\n",
       "                         &#x27;gamma&#x27;: [0.1, 1, 0.001, 0.0001, 0.01],\n",
       "                         &#x27;kernel&#x27;: [&#x27;rbf&#x27;]})</pre></div></div></div><div class=\"sk-parallel\"><div class=\"sk-parallel-item\"><div class=\"sk-item\"><div class=\"sk-label-container\"><div class=\"sk-label sk-toggleable\"><input class=\"sk-toggleable__control sk-hidden--visually\" id=\"sk-estimator-id-29\" type=\"checkbox\" ><label for=\"sk-estimator-id-29\" class=\"sk-toggleable__label sk-toggleable__label-arrow\">estimator: SVC</label><div class=\"sk-toggleable__content\"><pre>SVC(probability=True)</pre></div></div></div><div class=\"sk-serial\"><div class=\"sk-item\"><div class=\"sk-estimator sk-toggleable\"><input class=\"sk-toggleable__control sk-hidden--visually\" id=\"sk-estimator-id-30\" type=\"checkbox\" ><label for=\"sk-estimator-id-30\" class=\"sk-toggleable__label sk-toggleable__label-arrow\">SVC</label><div class=\"sk-toggleable__content\"><pre>SVC(probability=True)</pre></div></div></div></div></div></div></div></div></div></div>"
      ],
      "text/plain": [
       "GridSearchCV(cv=StratifiedShuffleSplit(n_splits=10, random_state=15, test_size=0.3,\n",
       "            train_size=None),\n",
       "             estimator=SVC(probability=True),\n",
       "             param_grid={'C': [0.1, 1, 10, 5, 2, 3, 4, 0, 0.01],\n",
       "                         'gamma': [0.1, 1, 0.001, 0.0001, 0.01],\n",
       "                         'kernel': ['rbf']})"
      ]
     },
     "execution_count": 321,
     "metadata": {},
     "output_type": "execute_result"
    }
   ],
   "source": [
    "from sklearn.svm import SVC\n",
    "\n",
    "param_grid = {\n",
    "    'C': [0.1, 1, 10,5,2,3,4,0,0.01],\n",
    "    'kernel': ['rbf'],\n",
    "    'gamma': [0.1, 1, 0.001, 0.0001, 0.01]\n",
    "}\n",
    "\n",
    "cv = StratifiedShuffleSplit(n_splits=10, test_size=.30, random_state=15)\n",
    "grid_search = GridSearchCV(SVC(probability=True), param_grid, cv=cv)\n",
    "grid_search.fit(X,Y)"
   ]
  },
  {
   "cell_type": "code",
   "execution_count": 322,
   "id": "72d094c0-bbaf-42bd-87bd-e1016d05d368",
   "metadata": {},
   "outputs": [
    {
     "name": "stdout",
     "output_type": "stream",
     "text": [
      "SVC(C=3, gamma=0.001, probability=True)\n",
      "0.8441947565543071\n",
      "{'C': 3, 'gamma': 0.001, 'kernel': 'rbf'}\n"
     ]
    }
   ],
   "source": [
    "print(grid_search.best_estimator_)\n",
    "print(grid_search.best_score_)\n",
    "print(grid_search.best_params_)"
   ]
  },
  {
   "cell_type": "code",
   "execution_count": 323,
   "id": "9191a5ee-d818-4511-8d06-b0b6e6a5b5f3",
   "metadata": {},
   "outputs": [
    {
     "data": {
      "text/plain": [
       "0.8265765765765766"
      ]
     },
     "execution_count": 323,
     "metadata": {},
     "output_type": "execute_result"
    }
   ],
   "source": [
    "svm_grid = grid_search.best_estimator_\n",
    "svm_grid.score(X, Y)"
   ]
  },
  {
   "cell_type": "markdown",
   "id": "f4f68e2a-10a7-4abf-b9c2-b6814416484e",
   "metadata": {},
   "source": [
    "# Descision Tree Classifier"
   ]
  },
  {
   "cell_type": "code",
   "execution_count": 324,
   "id": "03909be9-4ebb-46b8-937e-7c5f325343a1",
   "metadata": {},
   "outputs": [
    {
     "data": {
      "text/html": [
       "<style>#sk-container-id-11 {color: black;background-color: white;}#sk-container-id-11 pre{padding: 0;}#sk-container-id-11 div.sk-toggleable {background-color: white;}#sk-container-id-11 label.sk-toggleable__label {cursor: pointer;display: block;width: 100%;margin-bottom: 0;padding: 0.3em;box-sizing: border-box;text-align: center;}#sk-container-id-11 label.sk-toggleable__label-arrow:before {content: \"▸\";float: left;margin-right: 0.25em;color: #696969;}#sk-container-id-11 label.sk-toggleable__label-arrow:hover:before {color: black;}#sk-container-id-11 div.sk-estimator:hover label.sk-toggleable__label-arrow:before {color: black;}#sk-container-id-11 div.sk-toggleable__content {max-height: 0;max-width: 0;overflow: hidden;text-align: left;background-color: #f0f8ff;}#sk-container-id-11 div.sk-toggleable__content pre {margin: 0.2em;color: black;border-radius: 0.25em;background-color: #f0f8ff;}#sk-container-id-11 input.sk-toggleable__control:checked~div.sk-toggleable__content {max-height: 200px;max-width: 100%;overflow: auto;}#sk-container-id-11 input.sk-toggleable__control:checked~label.sk-toggleable__label-arrow:before {content: \"▾\";}#sk-container-id-11 div.sk-estimator input.sk-toggleable__control:checked~label.sk-toggleable__label {background-color: #d4ebff;}#sk-container-id-11 div.sk-label input.sk-toggleable__control:checked~label.sk-toggleable__label {background-color: #d4ebff;}#sk-container-id-11 input.sk-hidden--visually {border: 0;clip: rect(1px 1px 1px 1px);clip: rect(1px, 1px, 1px, 1px);height: 1px;margin: -1px;overflow: hidden;padding: 0;position: absolute;width: 1px;}#sk-container-id-11 div.sk-estimator {font-family: monospace;background-color: #f0f8ff;border: 1px dotted black;border-radius: 0.25em;box-sizing: border-box;margin-bottom: 0.5em;}#sk-container-id-11 div.sk-estimator:hover {background-color: #d4ebff;}#sk-container-id-11 div.sk-parallel-item::after {content: \"\";width: 100%;border-bottom: 1px solid gray;flex-grow: 1;}#sk-container-id-11 div.sk-label:hover label.sk-toggleable__label {background-color: #d4ebff;}#sk-container-id-11 div.sk-serial::before {content: \"\";position: absolute;border-left: 1px solid gray;box-sizing: border-box;top: 0;bottom: 0;left: 50%;z-index: 0;}#sk-container-id-11 div.sk-serial {display: flex;flex-direction: column;align-items: center;background-color: white;padding-right: 0.2em;padding-left: 0.2em;position: relative;}#sk-container-id-11 div.sk-item {position: relative;z-index: 1;}#sk-container-id-11 div.sk-parallel {display: flex;align-items: stretch;justify-content: center;background-color: white;position: relative;}#sk-container-id-11 div.sk-item::before, #sk-container-id-11 div.sk-parallel-item::before {content: \"\";position: absolute;border-left: 1px solid gray;box-sizing: border-box;top: 0;bottom: 0;left: 50%;z-index: -1;}#sk-container-id-11 div.sk-parallel-item {display: flex;flex-direction: column;z-index: 1;position: relative;background-color: white;}#sk-container-id-11 div.sk-parallel-item:first-child::after {align-self: flex-end;width: 50%;}#sk-container-id-11 div.sk-parallel-item:last-child::after {align-self: flex-start;width: 50%;}#sk-container-id-11 div.sk-parallel-item:only-child::after {width: 0;}#sk-container-id-11 div.sk-dashed-wrapped {border: 1px dashed gray;margin: 0 0.4em 0.5em 0.4em;box-sizing: border-box;padding-bottom: 0.4em;background-color: white;}#sk-container-id-11 div.sk-label label {font-family: monospace;font-weight: bold;display: inline-block;line-height: 1.2em;}#sk-container-id-11 div.sk-label-container {text-align: center;}#sk-container-id-11 div.sk-container {/* jupyter's `normalize.less` sets `[hidden] { display: none; }` but bootstrap.min.css set `[hidden] { display: none !important; }` so we also need the `!important` here to be able to override the default hidden behavior on the sphinx rendered scikit-learn.org. See: https://github.com/scikit-learn/scikit-learn/issues/21755 */display: inline-block !important;position: relative;}#sk-container-id-11 div.sk-text-repr-fallback {display: none;}</style><div id=\"sk-container-id-11\" class=\"sk-top-container\"><div class=\"sk-text-repr-fallback\"><pre>GridSearchCV(cv=StratifiedShuffleSplit(n_splits=10, random_state=15, test_size=0.3,\n",
       "            train_size=None),\n",
       "             estimator=DecisionTreeClassifier(),\n",
       "             param_grid={&#x27;criterion&#x27;: [&#x27;gini&#x27;, &#x27;entropy&#x27;],\n",
       "                         &#x27;max_depth&#x27;: range(1, 31),\n",
       "                         &#x27;max_features&#x27;: [20, 22, 24, 23, 25, 26, &#x27;auto&#x27;]},\n",
       "             verbose=False)</pre><b>In a Jupyter environment, please rerun this cell to show the HTML representation or trust the notebook. <br />On GitHub, the HTML representation is unable to render, please try loading this page with nbviewer.org.</b></div><div class=\"sk-container\" hidden><div class=\"sk-item sk-dashed-wrapped\"><div class=\"sk-label-container\"><div class=\"sk-label sk-toggleable\"><input class=\"sk-toggleable__control sk-hidden--visually\" id=\"sk-estimator-id-31\" type=\"checkbox\" ><label for=\"sk-estimator-id-31\" class=\"sk-toggleable__label sk-toggleable__label-arrow\">GridSearchCV</label><div class=\"sk-toggleable__content\"><pre>GridSearchCV(cv=StratifiedShuffleSplit(n_splits=10, random_state=15, test_size=0.3,\n",
       "            train_size=None),\n",
       "             estimator=DecisionTreeClassifier(),\n",
       "             param_grid={&#x27;criterion&#x27;: [&#x27;gini&#x27;, &#x27;entropy&#x27;],\n",
       "                         &#x27;max_depth&#x27;: range(1, 31),\n",
       "                         &#x27;max_features&#x27;: [20, 22, 24, 23, 25, 26, &#x27;auto&#x27;]},\n",
       "             verbose=False)</pre></div></div></div><div class=\"sk-parallel\"><div class=\"sk-parallel-item\"><div class=\"sk-item\"><div class=\"sk-label-container\"><div class=\"sk-label sk-toggleable\"><input class=\"sk-toggleable__control sk-hidden--visually\" id=\"sk-estimator-id-32\" type=\"checkbox\" ><label for=\"sk-estimator-id-32\" class=\"sk-toggleable__label sk-toggleable__label-arrow\">estimator: DecisionTreeClassifier</label><div class=\"sk-toggleable__content\"><pre>DecisionTreeClassifier()</pre></div></div></div><div class=\"sk-serial\"><div class=\"sk-item\"><div class=\"sk-estimator sk-toggleable\"><input class=\"sk-toggleable__control sk-hidden--visually\" id=\"sk-estimator-id-33\" type=\"checkbox\" ><label for=\"sk-estimator-id-33\" class=\"sk-toggleable__label sk-toggleable__label-arrow\">DecisionTreeClassifier</label><div class=\"sk-toggleable__content\"><pre>DecisionTreeClassifier()</pre></div></div></div></div></div></div></div></div></div></div>"
      ],
      "text/plain": [
       "GridSearchCV(cv=StratifiedShuffleSplit(n_splits=10, random_state=15, test_size=0.3,\n",
       "            train_size=None),\n",
       "             estimator=DecisionTreeClassifier(),\n",
       "             param_grid={'criterion': ['gini', 'entropy'],\n",
       "                         'max_depth': range(1, 31),\n",
       "                         'max_features': [20, 22, 24, 23, 25, 26, 'auto']},\n",
       "             verbose=False)"
      ]
     },
     "execution_count": 324,
     "metadata": {},
     "output_type": "execute_result"
    }
   ],
   "source": [
    "from sklearn.tree import DecisionTreeClassifier\n",
    "\n",
    "depth = range(1,31)\n",
    "crit = ['gini', 'entropy']\n",
    "param = {'max_features' : [20,22,24,23,25,26,'auto'], 'max_depth' : depth, 'criterion' : crit}\n",
    "\n",
    "cv = StratifiedShuffleSplit(n_splits = 10, test_size = 0.30, random_state = 15)\n",
    "grid_search = GridSearchCV(DecisionTreeClassifier() , param_grid = param, cv = cv, verbose = False)\n",
    "\n",
    "grid_search.fit(X, Y)"
   ]
  },
  {
   "cell_type": "code",
   "execution_count": 325,
   "id": "45a83605-7586-483d-8bb2-3bba6e8159e1",
   "metadata": {
    "tags": []
   },
   "outputs": [
    {
     "name": "stdout",
     "output_type": "stream",
     "text": [
      "0.8314606741573034\n",
      "DecisionTreeClassifier(max_depth=4, max_features=25)\n",
      "{'criterion': 'gini', 'max_depth': 4, 'max_features': 25}\n"
     ]
    }
   ],
   "source": [
    "print(grid_search.best_score_)\n",
    "print(grid_search.best_estimator_)\n",
    "print(grid_search.best_params_)"
   ]
  },
  {
   "cell_type": "code",
   "execution_count": 326,
   "id": "7ff746a2-af9b-40aa-8ed7-3d334ba6d435",
   "metadata": {
    "tags": []
   },
   "outputs": [
    {
     "data": {
      "text/plain": [
       "0.8423423423423423"
      ]
     },
     "execution_count": 326,
     "metadata": {},
     "output_type": "execute_result"
    }
   ],
   "source": [
    "dtc = grid_search.best_estimator_\n",
    "dtc.score(X,Y)"
   ]
  },
  {
   "cell_type": "markdown",
   "id": "daaf7271-bc94-45e5-819a-9a60406a3d79",
   "metadata": {},
   "source": [
    "# Random Forest Classifier"
   ]
  },
  {
   "cell_type": "code",
   "execution_count": 327,
   "id": "84021628-4c00-4330-a36f-554baf03de99",
   "metadata": {
    "tags": []
   },
   "outputs": [
    {
     "data": {
      "text/html": [
       "<style>#sk-container-id-12 {color: black;background-color: white;}#sk-container-id-12 pre{padding: 0;}#sk-container-id-12 div.sk-toggleable {background-color: white;}#sk-container-id-12 label.sk-toggleable__label {cursor: pointer;display: block;width: 100%;margin-bottom: 0;padding: 0.3em;box-sizing: border-box;text-align: center;}#sk-container-id-12 label.sk-toggleable__label-arrow:before {content: \"▸\";float: left;margin-right: 0.25em;color: #696969;}#sk-container-id-12 label.sk-toggleable__label-arrow:hover:before {color: black;}#sk-container-id-12 div.sk-estimator:hover label.sk-toggleable__label-arrow:before {color: black;}#sk-container-id-12 div.sk-toggleable__content {max-height: 0;max-width: 0;overflow: hidden;text-align: left;background-color: #f0f8ff;}#sk-container-id-12 div.sk-toggleable__content pre {margin: 0.2em;color: black;border-radius: 0.25em;background-color: #f0f8ff;}#sk-container-id-12 input.sk-toggleable__control:checked~div.sk-toggleable__content {max-height: 200px;max-width: 100%;overflow: auto;}#sk-container-id-12 input.sk-toggleable__control:checked~label.sk-toggleable__label-arrow:before {content: \"▾\";}#sk-container-id-12 div.sk-estimator input.sk-toggleable__control:checked~label.sk-toggleable__label {background-color: #d4ebff;}#sk-container-id-12 div.sk-label input.sk-toggleable__control:checked~label.sk-toggleable__label {background-color: #d4ebff;}#sk-container-id-12 input.sk-hidden--visually {border: 0;clip: rect(1px 1px 1px 1px);clip: rect(1px, 1px, 1px, 1px);height: 1px;margin: -1px;overflow: hidden;padding: 0;position: absolute;width: 1px;}#sk-container-id-12 div.sk-estimator {font-family: monospace;background-color: #f0f8ff;border: 1px dotted black;border-radius: 0.25em;box-sizing: border-box;margin-bottom: 0.5em;}#sk-container-id-12 div.sk-estimator:hover {background-color: #d4ebff;}#sk-container-id-12 div.sk-parallel-item::after {content: \"\";width: 100%;border-bottom: 1px solid gray;flex-grow: 1;}#sk-container-id-12 div.sk-label:hover label.sk-toggleable__label {background-color: #d4ebff;}#sk-container-id-12 div.sk-serial::before {content: \"\";position: absolute;border-left: 1px solid gray;box-sizing: border-box;top: 0;bottom: 0;left: 50%;z-index: 0;}#sk-container-id-12 div.sk-serial {display: flex;flex-direction: column;align-items: center;background-color: white;padding-right: 0.2em;padding-left: 0.2em;position: relative;}#sk-container-id-12 div.sk-item {position: relative;z-index: 1;}#sk-container-id-12 div.sk-parallel {display: flex;align-items: stretch;justify-content: center;background-color: white;position: relative;}#sk-container-id-12 div.sk-item::before, #sk-container-id-12 div.sk-parallel-item::before {content: \"\";position: absolute;border-left: 1px solid gray;box-sizing: border-box;top: 0;bottom: 0;left: 50%;z-index: -1;}#sk-container-id-12 div.sk-parallel-item {display: flex;flex-direction: column;z-index: 1;position: relative;background-color: white;}#sk-container-id-12 div.sk-parallel-item:first-child::after {align-self: flex-end;width: 50%;}#sk-container-id-12 div.sk-parallel-item:last-child::after {align-self: flex-start;width: 50%;}#sk-container-id-12 div.sk-parallel-item:only-child::after {width: 0;}#sk-container-id-12 div.sk-dashed-wrapped {border: 1px dashed gray;margin: 0 0.4em 0.5em 0.4em;box-sizing: border-box;padding-bottom: 0.4em;background-color: white;}#sk-container-id-12 div.sk-label label {font-family: monospace;font-weight: bold;display: inline-block;line-height: 1.2em;}#sk-container-id-12 div.sk-label-container {text-align: center;}#sk-container-id-12 div.sk-container {/* jupyter's `normalize.less` sets `[hidden] { display: none; }` but bootstrap.min.css set `[hidden] { display: none !important; }` so we also need the `!important` here to be able to override the default hidden behavior on the sphinx rendered scikit-learn.org. See: https://github.com/scikit-learn/scikit-learn/issues/21755 */display: inline-block !important;position: relative;}#sk-container-id-12 div.sk-text-repr-fallback {display: none;}</style><div id=\"sk-container-id-12\" class=\"sk-top-container\"><div class=\"sk-text-repr-fallback\"><pre>GridSearchCV(cv=StratifiedShuffleSplit(n_splits=10, random_state=10, test_size=0.3,\n",
       "            train_size=None),\n",
       "             estimator=RandomForestClassifier(),\n",
       "             param_grid={&#x27;criterion&#x27;: [&#x27;gini&#x27;, &#x27;entropy&#x27;],\n",
       "                         &#x27;max_depth&#x27;: range(1, 10), &#x27;max_features&#x27;: [&#x27;auto&#x27;],\n",
       "                         &#x27;n_estimators&#x27;: [110, 120, 130, 140, 150]},\n",
       "             verbose=False)</pre><b>In a Jupyter environment, please rerun this cell to show the HTML representation or trust the notebook. <br />On GitHub, the HTML representation is unable to render, please try loading this page with nbviewer.org.</b></div><div class=\"sk-container\" hidden><div class=\"sk-item sk-dashed-wrapped\"><div class=\"sk-label-container\"><div class=\"sk-label sk-toggleable\"><input class=\"sk-toggleable__control sk-hidden--visually\" id=\"sk-estimator-id-34\" type=\"checkbox\" ><label for=\"sk-estimator-id-34\" class=\"sk-toggleable__label sk-toggleable__label-arrow\">GridSearchCV</label><div class=\"sk-toggleable__content\"><pre>GridSearchCV(cv=StratifiedShuffleSplit(n_splits=10, random_state=10, test_size=0.3,\n",
       "            train_size=None),\n",
       "             estimator=RandomForestClassifier(),\n",
       "             param_grid={&#x27;criterion&#x27;: [&#x27;gini&#x27;, &#x27;entropy&#x27;],\n",
       "                         &#x27;max_depth&#x27;: range(1, 10), &#x27;max_features&#x27;: [&#x27;auto&#x27;],\n",
       "                         &#x27;n_estimators&#x27;: [110, 120, 130, 140, 150]},\n",
       "             verbose=False)</pre></div></div></div><div class=\"sk-parallel\"><div class=\"sk-parallel-item\"><div class=\"sk-item\"><div class=\"sk-label-container\"><div class=\"sk-label sk-toggleable\"><input class=\"sk-toggleable__control sk-hidden--visually\" id=\"sk-estimator-id-35\" type=\"checkbox\" ><label for=\"sk-estimator-id-35\" class=\"sk-toggleable__label sk-toggleable__label-arrow\">estimator: RandomForestClassifier</label><div class=\"sk-toggleable__content\"><pre>RandomForestClassifier()</pre></div></div></div><div class=\"sk-serial\"><div class=\"sk-item\"><div class=\"sk-estimator sk-toggleable\"><input class=\"sk-toggleable__control sk-hidden--visually\" id=\"sk-estimator-id-36\" type=\"checkbox\" ><label for=\"sk-estimator-id-36\" class=\"sk-toggleable__label sk-toggleable__label-arrow\">RandomForestClassifier</label><div class=\"sk-toggleable__content\"><pre>RandomForestClassifier()</pre></div></div></div></div></div></div></div></div></div></div>"
      ],
      "text/plain": [
       "GridSearchCV(cv=StratifiedShuffleSplit(n_splits=10, random_state=10, test_size=0.3,\n",
       "            train_size=None),\n",
       "             estimator=RandomForestClassifier(),\n",
       "             param_grid={'criterion': ['gini', 'entropy'],\n",
       "                         'max_depth': range(1, 10), 'max_features': ['auto'],\n",
       "                         'n_estimators': [110, 120, 130, 140, 150]},\n",
       "             verbose=False)"
      ]
     },
     "execution_count": 327,
     "metadata": {},
     "output_type": "execute_result"
    }
   ],
   "source": [
    "from sklearn.ensemble import RandomForestClassifier\n",
    "\n",
    "\n",
    "depth = range(1,10)\n",
    "crit = ['gini', 'entropy']\n",
    "param = {'max_features' : ['auto'], 'max_depth' : depth, 'criterion' : crit, 'n_estimators' : [110,120,130,140,150]}\n",
    "\n",
    "cv = StratifiedShuffleSplit(n_splits = 10, test_size = 0.30, random_state = 10)\n",
    "grid_search = GridSearchCV(RandomForestClassifier() , param_grid = param, cv = cv, verbose = False)\n",
    "\n",
    "grid_search.fit(X, Y)"
   ]
  },
  {
   "cell_type": "code",
   "execution_count": 328,
   "id": "bb700272-3a65-424c-97c2-fad3448b9365",
   "metadata": {},
   "outputs": [
    {
     "name": "stdout",
     "output_type": "stream",
     "text": [
      "0.8329588014981274\n",
      "RandomForestClassifier(criterion='entropy', max_depth=5, max_features='auto',\n",
      "                       n_estimators=150)\n",
      "{'criterion': 'entropy', 'max_depth': 5, 'max_features': 'auto', 'n_estimators': 150}\n"
     ]
    }
   ],
   "source": [
    "print(grid_search.best_score_)\n",
    "print(grid_search.best_estimator_)\n",
    "print(grid_search.best_params_)"
   ]
  },
  {
   "cell_type": "code",
   "execution_count": 329,
   "id": "04eb1583-f221-4c3a-a67f-764efb95a968",
   "metadata": {},
   "outputs": [
    {
     "data": {
      "text/plain": [
       "0.8547297297297297"
      ]
     },
     "execution_count": 329,
     "metadata": {},
     "output_type": "execute_result"
    }
   ],
   "source": [
    "rfc = grid_search.best_estimator_\n",
    "rfc.score(X,Y)"
   ]
  },
  {
   "cell_type": "markdown",
   "id": "8b3cf4b1-118d-447d-9089-6f0fc66fcc11",
   "metadata": {
    "tags": []
   },
   "source": [
    "# Predicting Test Cases"
   ]
  },
  {
   "cell_type": "code",
   "execution_count": 330,
   "id": "782ccd89-b580-4bf8-b4d0-257dff200284",
   "metadata": {
    "tags": []
   },
   "outputs": [],
   "source": [
    "models = [neigh_grid, log_reg_grid, svm_grid, g_nb, dtc, rfc]\n",
    "\n",
    "c = {}\n",
    "\n",
    "for i in models:\n",
    "    y_pred = i.predict(X_test)\n",
    "    acc = accuracy_score(y_pred, Y_test)\n",
    "    c[i] = acc"
   ]
  },
  {
   "cell_type": "code",
   "execution_count": 331,
   "id": "43114efd-7efa-4b8f-9128-3d70e4aa4693",
   "metadata": {},
   "outputs": [
    {
     "name": "stdout",
     "output_type": "stream",
     "text": [
      "{KNeighborsClassifier(n_neighbors=7): 0.8426966292134831, LogisticRegression(C=10): 0.8314606741573034, SVC(C=3, gamma=0.001, probability=True): 0.8164794007490637, GaussianNB(var_smoothing=0.1842069969326716): 0.7940074906367042, DecisionTreeClassifier(max_depth=4, max_features=25): 0.8052434456928839, RandomForestClassifier(criterion='entropy', max_depth=5, max_features='auto',\n",
      "                       n_estimators=150): 0.8389513108614233}\n"
     ]
    }
   ],
   "source": [
    "print(c)"
   ]
  },
  {
   "cell_type": "code",
   "execution_count": 332,
   "id": "27512519-e54e-494c-b565-b728e618119b",
   "metadata": {},
   "outputs": [
    {
     "data": {
      "text/html": [
       "<div>\n",
       "<style scoped>\n",
       "    .dataframe tbody tr th:only-of-type {\n",
       "        vertical-align: middle;\n",
       "    }\n",
       "\n",
       "    .dataframe tbody tr th {\n",
       "        vertical-align: top;\n",
       "    }\n",
       "\n",
       "    .dataframe thead th {\n",
       "        text-align: right;\n",
       "    }\n",
       "</style>\n",
       "<table border=\"1\" class=\"dataframe\">\n",
       "  <thead>\n",
       "    <tr style=\"text-align: right;\">\n",
       "      <th></th>\n",
       "      <th>Age</th>\n",
       "      <th>Sex</th>\n",
       "      <th>SibSp</th>\n",
       "      <th>Parch</th>\n",
       "      <th>is_alone</th>\n",
       "      <th>ind_fare</th>\n",
       "      <th>Pclass_1</th>\n",
       "      <th>Pclass_2</th>\n",
       "      <th>Pclass_3</th>\n",
       "      <th>Embarked_C</th>\n",
       "      <th>...</th>\n",
       "      <th>age_group_toddler</th>\n",
       "      <th>age_group_Young_Adult</th>\n",
       "      <th>age_group_adult</th>\n",
       "      <th>age_group_child</th>\n",
       "      <th>age_group_infant</th>\n",
       "      <th>age_group_middle_aged</th>\n",
       "      <th>age_group_old</th>\n",
       "      <th>age_group_senior_citizen</th>\n",
       "      <th>age_group_teenager</th>\n",
       "      <th>age_group_toddler</th>\n",
       "    </tr>\n",
       "  </thead>\n",
       "  <tbody>\n",
       "    <tr>\n",
       "      <th>0</th>\n",
       "      <td>34.5</td>\n",
       "      <td>1</td>\n",
       "      <td>0</td>\n",
       "      <td>0</td>\n",
       "      <td>1</td>\n",
       "      <td>7.83</td>\n",
       "      <td>0</td>\n",
       "      <td>0</td>\n",
       "      <td>1</td>\n",
       "      <td>0</td>\n",
       "      <td>...</td>\n",
       "      <td>0</td>\n",
       "      <td>1</td>\n",
       "      <td>0</td>\n",
       "      <td>0</td>\n",
       "      <td>0</td>\n",
       "      <td>0</td>\n",
       "      <td>0</td>\n",
       "      <td>0</td>\n",
       "      <td>0</td>\n",
       "      <td>0</td>\n",
       "    </tr>\n",
       "    <tr>\n",
       "      <th>1</th>\n",
       "      <td>47.0</td>\n",
       "      <td>0</td>\n",
       "      <td>1</td>\n",
       "      <td>0</td>\n",
       "      <td>0</td>\n",
       "      <td>3.50</td>\n",
       "      <td>0</td>\n",
       "      <td>0</td>\n",
       "      <td>1</td>\n",
       "      <td>0</td>\n",
       "      <td>...</td>\n",
       "      <td>0</td>\n",
       "      <td>0</td>\n",
       "      <td>0</td>\n",
       "      <td>0</td>\n",
       "      <td>0</td>\n",
       "      <td>1</td>\n",
       "      <td>0</td>\n",
       "      <td>0</td>\n",
       "      <td>0</td>\n",
       "      <td>0</td>\n",
       "    </tr>\n",
       "    <tr>\n",
       "      <th>2</th>\n",
       "      <td>62.0</td>\n",
       "      <td>1</td>\n",
       "      <td>0</td>\n",
       "      <td>0</td>\n",
       "      <td>1</td>\n",
       "      <td>9.69</td>\n",
       "      <td>0</td>\n",
       "      <td>1</td>\n",
       "      <td>0</td>\n",
       "      <td>0</td>\n",
       "      <td>...</td>\n",
       "      <td>0</td>\n",
       "      <td>0</td>\n",
       "      <td>0</td>\n",
       "      <td>0</td>\n",
       "      <td>0</td>\n",
       "      <td>0</td>\n",
       "      <td>0</td>\n",
       "      <td>1</td>\n",
       "      <td>0</td>\n",
       "      <td>0</td>\n",
       "    </tr>\n",
       "    <tr>\n",
       "      <th>3</th>\n",
       "      <td>27.0</td>\n",
       "      <td>1</td>\n",
       "      <td>0</td>\n",
       "      <td>0</td>\n",
       "      <td>1</td>\n",
       "      <td>8.66</td>\n",
       "      <td>0</td>\n",
       "      <td>0</td>\n",
       "      <td>1</td>\n",
       "      <td>0</td>\n",
       "      <td>...</td>\n",
       "      <td>0</td>\n",
       "      <td>1</td>\n",
       "      <td>0</td>\n",
       "      <td>0</td>\n",
       "      <td>0</td>\n",
       "      <td>0</td>\n",
       "      <td>0</td>\n",
       "      <td>0</td>\n",
       "      <td>0</td>\n",
       "      <td>0</td>\n",
       "    </tr>\n",
       "    <tr>\n",
       "      <th>4</th>\n",
       "      <td>22.0</td>\n",
       "      <td>0</td>\n",
       "      <td>1</td>\n",
       "      <td>1</td>\n",
       "      <td>0</td>\n",
       "      <td>4.10</td>\n",
       "      <td>0</td>\n",
       "      <td>0</td>\n",
       "      <td>1</td>\n",
       "      <td>0</td>\n",
       "      <td>...</td>\n",
       "      <td>0</td>\n",
       "      <td>1</td>\n",
       "      <td>0</td>\n",
       "      <td>0</td>\n",
       "      <td>0</td>\n",
       "      <td>0</td>\n",
       "      <td>0</td>\n",
       "      <td>0</td>\n",
       "      <td>0</td>\n",
       "      <td>0</td>\n",
       "    </tr>\n",
       "  </tbody>\n",
       "</table>\n",
       "<p>5 rows × 53 columns</p>\n",
       "</div>"
      ],
      "text/plain": [
       "    Age  Sex  SibSp  Parch  is_alone  ind_fare  Pclass_1  Pclass_2  Pclass_3  \\\n",
       "0  34.5    1      0      0         1      7.83         0         0         1   \n",
       "1  47.0    0      1      0         0      3.50         0         0         1   \n",
       "2  62.0    1      0      0         1      9.69         0         1         0   \n",
       "3  27.0    1      0      0         1      8.66         0         0         1   \n",
       "4  22.0    0      1      1         0      4.10         0         0         1   \n",
       "\n",
       "   Embarked_C  ...  age_group_toddler  age_group_Young_Adult  age_group_adult  \\\n",
       "0           0  ...                  0                      1                0   \n",
       "1           0  ...                  0                      0                0   \n",
       "2           0  ...                  0                      0                0   \n",
       "3           0  ...                  0                      1                0   \n",
       "4           0  ...                  0                      1                0   \n",
       "\n",
       "   age_group_child  age_group_infant  age_group_middle_aged  age_group_old  \\\n",
       "0                0                 0                      0              0   \n",
       "1                0                 0                      1              0   \n",
       "2                0                 0                      0              0   \n",
       "3                0                 0                      0              0   \n",
       "4                0                 0                      0              0   \n",
       "\n",
       "   age_group_senior_citizen  age_group_teenager  age_group_toddler  \n",
       "0                         0                   0                  0  \n",
       "1                         0                   0                  0  \n",
       "2                         1                   0                  0  \n",
       "3                         0                   0                  0  \n",
       "4                         0                   0                  0  \n",
       "\n",
       "[5 rows x 53 columns]"
      ]
     },
     "execution_count": 332,
     "metadata": {},
     "output_type": "execute_result"
    }
   ],
   "source": [
    "test_data.head()"
   ]
  },
  {
   "cell_type": "code",
   "execution_count": 333,
   "id": "2d9bc8f2-260e-4199-a431-9ba41172fc69",
   "metadata": {},
   "outputs": [
    {
     "data": {
      "text/plain": [
       "array([[34.5       ,  1.        ,  0.        , ...,  0.        ,\n",
       "         0.        ,  0.        ],\n",
       "       [47.        ,  0.        ,  1.        , ...,  0.        ,\n",
       "         0.        ,  0.        ],\n",
       "       [62.        ,  1.        ,  0.        , ...,  1.        ,\n",
       "         0.        ,  0.        ],\n",
       "       ...,\n",
       "       [38.5       ,  1.        ,  0.        , ...,  0.        ,\n",
       "         0.        ,  0.        ],\n",
       "       [23.35134627,  1.        ,  0.        , ...,  0.        ,\n",
       "         0.        ,  0.        ],\n",
       "       [ 7.16415704,  1.        ,  1.        , ...,  0.        ,\n",
       "         0.        ,  0.        ]])"
      ]
     },
     "execution_count": 333,
     "metadata": {},
     "output_type": "execute_result"
    }
   ],
   "source": [
    "test_data.to_numpy()"
   ]
  },
  {
   "cell_type": "code",
   "execution_count": 334,
   "id": "c1e82072-11f9-4956-bb34-44f61dcf3e82",
   "metadata": {},
   "outputs": [],
   "source": [
    "test_pred = (max(c, key = c.get)).predict(test_data.to_numpy())"
   ]
  },
  {
   "cell_type": "code",
   "execution_count": 335,
   "id": "092e837b-659e-4960-a2b0-0da0d12d4236",
   "metadata": {},
   "outputs": [],
   "source": [
    "final = pd.DataFrame({'Passenger ID' : passengerid, 'Survived' : test_pred})"
   ]
  },
  {
   "cell_type": "code",
   "execution_count": 336,
   "id": "d9a37b75-21ad-4cee-be57-fbee7e0a4671",
   "metadata": {},
   "outputs": [
    {
     "data": {
      "text/plain": [
       "1    211\n",
       "0    207\n",
       "Name: Survived, dtype: int64"
      ]
     },
     "execution_count": 336,
     "metadata": {},
     "output_type": "execute_result"
    }
   ],
   "source": [
    "final['Survived'].value_counts()"
   ]
  },
  {
   "cell_type": "code",
   "execution_count": 337,
   "id": "3a71d881-9dec-46ff-b9bd-1838e827ebc9",
   "metadata": {
    "tags": []
   },
   "outputs": [
    {
     "data": {
      "text/html": [
       "<div>\n",
       "<style scoped>\n",
       "    .dataframe tbody tr th:only-of-type {\n",
       "        vertical-align: middle;\n",
       "    }\n",
       "\n",
       "    .dataframe tbody tr th {\n",
       "        vertical-align: top;\n",
       "    }\n",
       "\n",
       "    .dataframe thead th {\n",
       "        text-align: right;\n",
       "    }\n",
       "</style>\n",
       "<table border=\"1\" class=\"dataframe\">\n",
       "  <thead>\n",
       "    <tr style=\"text-align: right;\">\n",
       "      <th></th>\n",
       "      <th>Passenger ID</th>\n",
       "      <th>Survived</th>\n",
       "    </tr>\n",
       "  </thead>\n",
       "  <tbody>\n",
       "    <tr>\n",
       "      <th>0</th>\n",
       "      <td>892</td>\n",
       "      <td>0</td>\n",
       "    </tr>\n",
       "    <tr>\n",
       "      <th>1</th>\n",
       "      <td>893</td>\n",
       "      <td>0</td>\n",
       "    </tr>\n",
       "    <tr>\n",
       "      <th>2</th>\n",
       "      <td>894</td>\n",
       "      <td>0</td>\n",
       "    </tr>\n",
       "    <tr>\n",
       "      <th>3</th>\n",
       "      <td>895</td>\n",
       "      <td>0</td>\n",
       "    </tr>\n",
       "    <tr>\n",
       "      <th>4</th>\n",
       "      <td>896</td>\n",
       "      <td>0</td>\n",
       "    </tr>\n",
       "    <tr>\n",
       "      <th>...</th>\n",
       "      <td>...</td>\n",
       "      <td>...</td>\n",
       "    </tr>\n",
       "    <tr>\n",
       "      <th>413</th>\n",
       "      <td>1305</td>\n",
       "      <td>0</td>\n",
       "    </tr>\n",
       "    <tr>\n",
       "      <th>414</th>\n",
       "      <td>1306</td>\n",
       "      <td>1</td>\n",
       "    </tr>\n",
       "    <tr>\n",
       "      <th>415</th>\n",
       "      <td>1307</td>\n",
       "      <td>0</td>\n",
       "    </tr>\n",
       "    <tr>\n",
       "      <th>416</th>\n",
       "      <td>1308</td>\n",
       "      <td>0</td>\n",
       "    </tr>\n",
       "    <tr>\n",
       "      <th>417</th>\n",
       "      <td>1309</td>\n",
       "      <td>1</td>\n",
       "    </tr>\n",
       "  </tbody>\n",
       "</table>\n",
       "<p>418 rows × 2 columns</p>\n",
       "</div>"
      ],
      "text/plain": [
       "     Passenger ID  Survived\n",
       "0             892         0\n",
       "1             893         0\n",
       "2             894         0\n",
       "3             895         0\n",
       "4             896         0\n",
       "..            ...       ...\n",
       "413          1305         0\n",
       "414          1306         1\n",
       "415          1307         0\n",
       "416          1308         0\n",
       "417          1309         1\n",
       "\n",
       "[418 rows x 2 columns]"
      ]
     },
     "execution_count": 337,
     "metadata": {},
     "output_type": "execute_result"
    }
   ],
   "source": [
    "final"
   ]
  }
 ],
 "metadata": {
  "kernelspec": {
   "display_name": "Python 3 (ipykernel)",
   "language": "python",
   "name": "python3"
  },
  "language_info": {
   "codemirror_mode": {
    "name": "ipython",
    "version": 3
   },
   "file_extension": ".py",
   "mimetype": "text/x-python",
   "name": "python",
   "nbconvert_exporter": "python",
   "pygments_lexer": "ipython3",
   "version": "3.11.3"
  }
 },
 "nbformat": 4,
 "nbformat_minor": 5
}
